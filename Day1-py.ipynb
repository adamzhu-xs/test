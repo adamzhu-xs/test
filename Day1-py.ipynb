{
 "cells": [
  {
   "cell_type": "code",
   "execution_count": 5,
   "metadata": {},
   "outputs": [
    {
     "name": "stdout",
     "output_type": "stream",
     "text": [
      "hello world\n"
     ]
    }
   ],
   "source": [
    "print(\"hello world\")"
   ]
  },
  {
   "cell_type": "code",
   "execution_count": 6,
   "metadata": {},
   "outputs": [
    {
     "name": "stdout",
     "output_type": "stream",
     "text": [
      "4\n"
     ]
    }
   ],
   "source": [
    "b = 2+ 2\n",
    "print(b)"
   ]
  },
  {
   "cell_type": "code",
   "execution_count": 7,
   "metadata": {},
   "outputs": [
    {
     "data": {
      "text/plain": [
       "''"
      ]
     },
     "execution_count": 7,
     "metadata": {},
     "output_type": "execute_result"
    }
   ],
   "source": [
    "_ * 3"
   ]
  },
  {
   "cell_type": "code",
   "execution_count": 8,
   "metadata": {},
   "outputs": [
    {
     "data": {
      "text/plain": [
       "4"
      ]
     },
     "execution_count": 8,
     "metadata": {},
     "output_type": "execute_result"
    }
   ],
   "source": [
    "2 + 2"
   ]
  },
  {
   "cell_type": "code",
   "execution_count": 9,
   "metadata": {},
   "outputs": [
    {
     "data": {
      "text/plain": [
       "12"
      ]
     },
     "execution_count": 9,
     "metadata": {},
     "output_type": "execute_result"
    }
   ],
   "source": [
    "_ * 3\n"
   ]
  },
  {
   "cell_type": "code",
   "execution_count": 10,
   "metadata": {
    "scrolled": true
   },
   "outputs": [
    {
     "name": "stdout",
     "output_type": "stream",
     "text": [
      " Volume in drive D is Local disk\n",
      " Volume Serial Number is 8434-3F66\n",
      "\n",
      " Directory of D:\\handson\n",
      "\n",
      "09/24/2020  08:42 AM    <DIR>          .\n",
      "09/24/2020  08:42 AM    <DIR>          ..\n",
      "09/24/2020  08:34 AM    <DIR>          .ipynb_checkpoints\n",
      "09/18/2020  01:47 PM    <DIR>          data\n",
      "09/24/2020  08:42 AM             1,664 Day1-py.ipynb\n",
      "09/18/2020  01:47 PM    <DIR>          demo_code\n",
      "09/18/2020  01:47 PM    <DIR>          jars\n",
      "09/24/2020  08:34 AM                72 Untitled.ipynb\n",
      "               2 File(s)          1,736 bytes\n",
      "               6 Dir(s)  62,846,554,112 bytes free\n"
     ]
    }
   ],
   "source": [
    "!dir\n"
   ]
  },
  {
   "cell_type": "code",
   "execution_count": 13,
   "metadata": {},
   "outputs": [
    {
     "name": "stdout",
     "output_type": "stream",
     "text": [
      "Writing test.txt\n"
     ]
    }
   ],
   "source": [
    "%%writefile test.txt\n",
    "Hello world!"
   ]
  },
  {
   "cell_type": "code",
   "execution_count": 14,
   "metadata": {},
   "outputs": [
    {
     "name": "stdout",
     "output_type": "stream",
     "text": [
      "Hello world!\n",
      "\n"
     ]
    }
   ],
   "source": [
    "with open('test.txt', 'r') as f:\n",
    "    print(f.read())"
   ]
  },
  {
   "cell_type": "code",
   "execution_count": 15,
   "metadata": {},
   "outputs": [
    {
     "ename": "NameError",
     "evalue": "name 'YouTubeVideo' is not defined",
     "output_type": "error",
     "traceback": [
      "\u001b[1;31m---------------------------------------------------------------------------\u001b[0m",
      "\u001b[1;31mNameError\u001b[0m                                 Traceback (most recent call last)",
      "\u001b[1;32m<ipython-input-15-ed4ab897fd3c>\u001b[0m in \u001b[0;36m<module>\u001b[1;34m\u001b[0m\n\u001b[1;32m----> 1\u001b[1;33m \u001b[0mYouTubeVideo\u001b[0m\u001b[1;33m(\u001b[0m\u001b[1;34m'VQBZ2MqWBZI'\u001b[0m\u001b[1;33m)\u001b[0m\u001b[1;33m\u001b[0m\u001b[1;33m\u001b[0m\u001b[0m\n\u001b[0m",
      "\u001b[1;31mNameError\u001b[0m: name 'YouTubeVideo' is not defined"
     ]
    }
   ],
   "source": [
    "YouTubeVideo('VQBZ2MqWBZI')"
   ]
  },
  {
   "cell_type": "code",
   "execution_count": null,
   "metadata": {},
   "outputs": [],
   "source": []
  },
  {
   "cell_type": "code",
   "execution_count": null,
   "metadata": {},
   "outputs": [],
   "source": []
  },
  {
   "cell_type": "markdown",
   "metadata": {},
   "source": [
    "# Python refresher"
   ]
  },
  {
   "cell_type": "markdown",
   "metadata": {},
   "source": [
    "# h1\n",
    "## h2\n",
    "\n",
    "**bbb** __bb__\n"
   ]
  },
  {
   "cell_type": "markdown",
   "metadata": {},
   "source": [
    "\n",
    "# This is a level 1 heading\n",
    "## This is a level 2 heading\n",
    "This is some plain text that forms a paragraph.\n",
    "Add emphasis via **bold** and __bold__, or *italic* and _italic_.\n",
    "\n",
    "Paragraphs must be separated by an empty line.\n",
    "\n",
    "* Sometimes we want to include lists.\n",
    " * Which can be indented.\n",
    "\n",
    "1. Lists can also be numbered.\n",
    "2. For ordered lists.\n",
    "\n",
    "[It is possible to include hyperlinks](https://www.example.com)\n",
    "\n",
    "Inline code uses single backticks: `foo()`, and code blocks use triple backticks:\n",
    "\n",
    "```\n",
    "bar()\n",
    "```\n",
    "\n",
    "Or can be intented by 4 spaces:\n",
    "\n",
    "    foo()\n",
    "\n",
    "And finally, adding images is easy: ![Alt text](https://www.example.com/image.jpg)\n",
    "\n",
    "Also mathematical equation [check Latex link](http://ctan.math.ca/tex-archive/info/symbols/comprehensive/SYMLIST) \n",
    "$$\\hat{f}(\\xi) = \\int_{-\\infty}^{+\\infty} f(x) \\, \\exp \\left(-2i\\pi x \\xi \\right) dx $$\n",
    "\n"
   ]
  },
  {
   "cell_type": "code",
   "execution_count": 16,
   "metadata": {},
   "outputs": [],
   "source": [
    "set = (\n",
    "    1,2,3)"
   ]
  },
  {
   "cell_type": "code",
   "execution_count": 17,
   "metadata": {},
   "outputs": [
    {
     "ename": "AttributeError",
     "evalue": "'tuple' object has no attribute 'add'",
     "output_type": "error",
     "traceback": [
      "\u001b[1;31m---------------------------------------------------------------------------\u001b[0m",
      "\u001b[1;31mAttributeError\u001b[0m                            Traceback (most recent call last)",
      "\u001b[1;32m<ipython-input-17-234253ef31e9>\u001b[0m in \u001b[0;36m<module>\u001b[1;34m\u001b[0m\n\u001b[1;32m----> 1\u001b[1;33m \u001b[0mset\u001b[0m\u001b[1;33m.\u001b[0m\u001b[0madd\u001b[0m\u001b[1;33m(\u001b[0m\u001b[1;36m1\u001b[0m\u001b[1;33m)\u001b[0m\u001b[1;33m\u001b[0m\u001b[1;33m\u001b[0m\u001b[0m\n\u001b[0m",
      "\u001b[1;31mAttributeError\u001b[0m: 'tuple' object has no attribute 'add'"
     ]
    }
   ],
   "source": [
    "set.add(1)"
   ]
  },
  {
   "cell_type": "code",
   "execution_count": 18,
   "metadata": {},
   "outputs": [
    {
     "ename": "TypeError",
     "evalue": "'tuple' object does not support item assignment",
     "output_type": "error",
     "traceback": [
      "\u001b[1;31m---------------------------------------------------------------------------\u001b[0m",
      "\u001b[1;31mTypeError\u001b[0m                                 Traceback (most recent call last)",
      "\u001b[1;32m<ipython-input-18-8c17c009b40a>\u001b[0m in \u001b[0;36m<module>\u001b[1;34m\u001b[0m\n\u001b[1;32m----> 1\u001b[1;33m \u001b[0mset\u001b[0m\u001b[1;33m[\u001b[0m\u001b[1;36m0\u001b[0m\u001b[1;33m]\u001b[0m \u001b[1;33m=\u001b[0m \u001b[1;36m1\u001b[0m\u001b[1;33m;\u001b[0m\u001b[1;33m\u001b[0m\u001b[1;33m\u001b[0m\u001b[0m\n\u001b[0m",
      "\u001b[1;31mTypeError\u001b[0m: 'tuple' object does not support item assignment"
     ]
    }
   ],
   "source": [
    "set[0] = 1;"
   ]
  },
  {
   "cell_type": "code",
   "execution_count": 20,
   "metadata": {},
   "outputs": [
    {
     "ename": "TypeError",
     "evalue": "'tuple' object is not callable",
     "output_type": "error",
     "traceback": [
      "\u001b[1;31m---------------------------------------------------------------------------\u001b[0m",
      "\u001b[1;31mTypeError\u001b[0m                                 Traceback (most recent call last)",
      "\u001b[1;32m<ipython-input-20-3cab6ef2f6e9>\u001b[0m in \u001b[0;36m<module>\u001b[1;34m\u001b[0m\n\u001b[1;32m----> 1\u001b[1;33m \u001b[0meset\u001b[0m \u001b[1;33m=\u001b[0m \u001b[0mset\u001b[0m\u001b[1;33m(\u001b[0m\u001b[1;33m)\u001b[0m\u001b[1;33m;\u001b[0m\u001b[1;33m\u001b[0m\u001b[1;33m\u001b[0m\u001b[0m\n\u001b[0m",
      "\u001b[1;31mTypeError\u001b[0m: 'tuple' object is not callable"
     ]
    }
   ],
   "source": [
    "eset = set();"
   ]
  },
  {
   "cell_type": "code",
   "execution_count": 21,
   "metadata": {},
   "outputs": [],
   "source": [
    "et = {1,2,3\n",
    "     }"
   ]
  },
  {
   "cell_type": "code",
   "execution_count": 22,
   "metadata": {},
   "outputs": [],
   "source": [
    "et.add(4)"
   ]
  },
  {
   "cell_type": "code",
   "execution_count": 23,
   "metadata": {},
   "outputs": [
    {
     "data": {
      "text/plain": [
       "{1, 2, 3, 4}"
      ]
     },
     "execution_count": 23,
     "metadata": {},
     "output_type": "execute_result"
    }
   ],
   "source": [
    "et"
   ]
  },
  {
   "cell_type": "code",
   "execution_count": 24,
   "metadata": {},
   "outputs": [
    {
     "name": "stdout",
     "output_type": "stream",
     "text": [
      "[2, 4, 6, 8]\n"
     ]
    }
   ],
   "source": [
    "ary1 = [1,2,3,4]\n",
    "ary2 = [e * 2 for e in ary1]\n",
    "print(ary2)"
   ]
  },
  {
   "cell_type": "code",
   "execution_count": 25,
   "metadata": {},
   "outputs": [
    {
     "data": {
      "text/plain": [
       "{3, 6, 9, 12}"
      ]
     },
     "execution_count": 25,
     "metadata": {},
     "output_type": "execute_result"
    }
   ],
   "source": [
    "{e * 3 for e in ary1}"
   ]
  },
  {
   "cell_type": "code",
   "execution_count": 26,
   "metadata": {},
   "outputs": [
    {
     "data": {
      "text/plain": [
       "{1: 4, 2: 8, 3: 12, 4: 16}"
      ]
     },
     "execution_count": 26,
     "metadata": {},
     "output_type": "execute_result"
    }
   ],
   "source": [
    "{e: e*4 for e in ary1}"
   ]
  },
  {
   "cell_type": "code",
   "execution_count": 27,
   "metadata": {},
   "outputs": [
    {
     "ename": "AttributeError",
     "evalue": "'list' object has no attribute 'add'",
     "output_type": "error",
     "traceback": [
      "\u001b[1;31m---------------------------------------------------------------------------\u001b[0m",
      "\u001b[1;31mAttributeError\u001b[0m                            Traceback (most recent call last)",
      "\u001b[1;32m<ipython-input-27-f6581f7939fe>\u001b[0m in \u001b[0;36m<module>\u001b[1;34m\u001b[0m\n\u001b[1;32m----> 1\u001b[1;33m \u001b[0mary1\u001b[0m\u001b[1;33m.\u001b[0m\u001b[0madd\u001b[0m\u001b[1;33m(\u001b[0m\u001b[1;34m'x'\u001b[0m\u001b[1;33m)\u001b[0m\u001b[1;33m\u001b[0m\u001b[1;33m\u001b[0m\u001b[0m\n\u001b[0m",
      "\u001b[1;31mAttributeError\u001b[0m: 'list' object has no attribute 'add'"
     ]
    }
   ],
   "source": [
    "ary1.add('x')"
   ]
  },
  {
   "cell_type": "code",
   "execution_count": 28,
   "metadata": {},
   "outputs": [
    {
     "ename": "IndexError",
     "evalue": "list assignment index out of range",
     "output_type": "error",
     "traceback": [
      "\u001b[1;31m---------------------------------------------------------------------------\u001b[0m",
      "\u001b[1;31mIndexError\u001b[0m                                Traceback (most recent call last)",
      "\u001b[1;32m<ipython-input-28-11712dc1e220>\u001b[0m in \u001b[0;36m<module>\u001b[1;34m\u001b[0m\n\u001b[1;32m----> 1\u001b[1;33m \u001b[0mary1\u001b[0m\u001b[1;33m[\u001b[0m\u001b[1;36m4\u001b[0m\u001b[1;33m]\u001b[0m \u001b[1;33m=\u001b[0m \u001b[1;34m'x'\u001b[0m\u001b[1;33m\u001b[0m\u001b[1;33m\u001b[0m\u001b[0m\n\u001b[0m",
      "\u001b[1;31mIndexError\u001b[0m: list assignment index out of range"
     ]
    }
   ],
   "source": [
    "ary1[4] = 'x'\n"
   ]
  },
  {
   "cell_type": "code",
   "execution_count": 29,
   "metadata": {},
   "outputs": [
    {
     "ename": "SyntaxError",
     "evalue": "EOL while scanning string literal (<ipython-input-29-5a13fe459ce8>, line 1)",
     "output_type": "error",
     "traceback": [
      "\u001b[1;36m  File \u001b[1;32m\"<ipython-input-29-5a13fe459ce8>\"\u001b[1;36m, line \u001b[1;32m1\u001b[0m\n\u001b[1;33m    ary1[3] = 'x\u001b[0m\n\u001b[1;37m                ^\u001b[0m\n\u001b[1;31mSyntaxError\u001b[0m\u001b[1;31m:\u001b[0m EOL while scanning string literal\n"
     ]
    }
   ],
   "source": [
    "ary1[3] = 'x\n",
    "'"
   ]
  },
  {
   "cell_type": "code",
   "execution_count": 30,
   "metadata": {},
   "outputs": [],
   "source": [
    "ary1[3] = 'x'"
   ]
  },
  {
   "cell_type": "code",
   "execution_count": 31,
   "metadata": {},
   "outputs": [
    {
     "data": {
      "text/plain": [
       "{1: 4, 2: 8, 3: 12, 'x': 'xxxx'}"
      ]
     },
     "execution_count": 31,
     "metadata": {},
     "output_type": "execute_result"
    }
   ],
   "source": [
    "{e: e*4 for e in ary1}\n"
   ]
  },
  {
   "cell_type": "code",
   "execution_count": 32,
   "metadata": {},
   "outputs": [
    {
     "ename": "TypeError",
     "evalue": "can only concatenate str (not \"int\") to str",
     "output_type": "error",
     "traceback": [
      "\u001b[1;31m---------------------------------------------------------------------------\u001b[0m",
      "\u001b[1;31mTypeError\u001b[0m                                 Traceback (most recent call last)",
      "\u001b[1;32m<ipython-input-32-d0241cb2bea8>\u001b[0m in \u001b[0;36m<module>\u001b[1;34m\u001b[0m\n\u001b[1;32m----> 1\u001b[1;33m \u001b[1;33m{\u001b[0m\u001b[0me\u001b[0m\u001b[1;33m:\u001b[0m \u001b[0me\u001b[0m \u001b[1;33m+\u001b[0m \u001b[1;36m4\u001b[0m \u001b[1;32mfor\u001b[0m \u001b[0me\u001b[0m \u001b[1;32min\u001b[0m \u001b[0mary1\u001b[0m\u001b[1;33m}\u001b[0m\u001b[1;33m\u001b[0m\u001b[1;33m\u001b[0m\u001b[0m\n\u001b[0m",
      "\u001b[1;32m<ipython-input-32-d0241cb2bea8>\u001b[0m in \u001b[0;36m<dictcomp>\u001b[1;34m(.0)\u001b[0m\n\u001b[1;32m----> 1\u001b[1;33m \u001b[1;33m{\u001b[0m\u001b[0me\u001b[0m\u001b[1;33m:\u001b[0m \u001b[0me\u001b[0m \u001b[1;33m+\u001b[0m \u001b[1;36m4\u001b[0m \u001b[1;32mfor\u001b[0m \u001b[0me\u001b[0m \u001b[1;32min\u001b[0m \u001b[0mary1\u001b[0m\u001b[1;33m}\u001b[0m\u001b[1;33m\u001b[0m\u001b[1;33m\u001b[0m\u001b[0m\n\u001b[0m",
      "\u001b[1;31mTypeError\u001b[0m: can only concatenate str (not \"int\") to str"
     ]
    }
   ],
   "source": [
    "{e: e + 4 for e in ary1}"
   ]
  },
  {
   "cell_type": "code",
   "execution_count": 33,
   "metadata": {},
   "outputs": [
    {
     "data": {
      "text/plain": [
       "{1: 4, 2: 8, 3: 12, 'x': 'xxxx'}"
      ]
     },
     "execution_count": 33,
     "metadata": {},
     "output_type": "execute_result"
    }
   ],
   "source": [
    "{e: e*4 for e in ary1 if type(e) != 'str'}"
   ]
  },
  {
   "cell_type": "code",
   "execution_count": 34,
   "metadata": {},
   "outputs": [
    {
     "ename": "TypeError",
     "evalue": "can only concatenate str (not \"int\") to str",
     "output_type": "error",
     "traceback": [
      "\u001b[1;31m---------------------------------------------------------------------------\u001b[0m",
      "\u001b[1;31mTypeError\u001b[0m                                 Traceback (most recent call last)",
      "\u001b[1;32m<ipython-input-34-8a9b655099a6>\u001b[0m in \u001b[0;36m<module>\u001b[1;34m\u001b[0m\n\u001b[1;32m----> 1\u001b[1;33m \u001b[1;33m{\u001b[0m\u001b[0me\u001b[0m\u001b[1;33m:\u001b[0m \u001b[0me\u001b[0m \u001b[1;33m+\u001b[0m \u001b[1;36m4\u001b[0m \u001b[1;32mfor\u001b[0m \u001b[0me\u001b[0m \u001b[1;32min\u001b[0m \u001b[0mary1\u001b[0m \u001b[1;32mif\u001b[0m \u001b[0mtype\u001b[0m\u001b[1;33m(\u001b[0m\u001b[0me\u001b[0m\u001b[1;33m)\u001b[0m \u001b[1;33m!=\u001b[0m \u001b[1;34m'str'\u001b[0m\u001b[1;33m}\u001b[0m\u001b[1;33m\u001b[0m\u001b[1;33m\u001b[0m\u001b[0m\n\u001b[0m",
      "\u001b[1;32m<ipython-input-34-8a9b655099a6>\u001b[0m in \u001b[0;36m<dictcomp>\u001b[1;34m(.0)\u001b[0m\n\u001b[1;32m----> 1\u001b[1;33m \u001b[1;33m{\u001b[0m\u001b[0me\u001b[0m\u001b[1;33m:\u001b[0m \u001b[0me\u001b[0m \u001b[1;33m+\u001b[0m \u001b[1;36m4\u001b[0m \u001b[1;32mfor\u001b[0m \u001b[0me\u001b[0m \u001b[1;32min\u001b[0m \u001b[0mary1\u001b[0m \u001b[1;32mif\u001b[0m \u001b[0mtype\u001b[0m\u001b[1;33m(\u001b[0m\u001b[0me\u001b[0m\u001b[1;33m)\u001b[0m \u001b[1;33m!=\u001b[0m \u001b[1;34m'str'\u001b[0m\u001b[1;33m}\u001b[0m\u001b[1;33m\u001b[0m\u001b[1;33m\u001b[0m\u001b[0m\n\u001b[0m",
      "\u001b[1;31mTypeError\u001b[0m: can only concatenate str (not \"int\") to str"
     ]
    }
   ],
   "source": [
    "{e: e + 4 for e in ary1 if type(e) != 'str'}"
   ]
  },
  {
   "cell_type": "code",
   "execution_count": 35,
   "metadata": {},
   "outputs": [
    {
     "data": {
      "text/plain": [
       "{1: 5, 2: 6, 3: 7}"
      ]
     },
     "execution_count": 35,
     "metadata": {},
     "output_type": "execute_result"
    }
   ],
   "source": [
    "{e: e + 4 for e in ary1 if type(e) is not str}"
   ]
  },
  {
   "cell_type": "code",
   "execution_count": 36,
   "metadata": {},
   "outputs": [
    {
     "name": "stdout",
     "output_type": "stream",
     "text": [
      "{'ok': [{'ok': [{'ok': [{'ok': 2, 'nok': 3}]}]}]}\n"
     ]
    }
   ],
   "source": [
    "#Nested datastructure \n",
    "d2 = {'ok' : 2, 'nok': 3}\n",
    "c = 0\n",
    "while c < 3:\n",
    "    d2 = {'ok': [d2]}\n",
    "    c += 1\n",
    "print(d2)\n"
   ]
  },
  {
   "cell_type": "code",
   "execution_count": 37,
   "metadata": {},
   "outputs": [
    {
     "data": {
      "text/plain": [
       "dict"
      ]
     },
     "execution_count": 37,
     "metadata": {},
     "output_type": "execute_result"
    }
   ],
   "source": [
    "type(d2)"
   ]
  },
  {
   "cell_type": "code",
   "execution_count": 38,
   "metadata": {},
   "outputs": [
    {
     "ename": "NameError",
     "evalue": "name 'd3' is not defined",
     "output_type": "error",
     "traceback": [
      "\u001b[1;31m---------------------------------------------------------------------------\u001b[0m",
      "\u001b[1;31mNameError\u001b[0m                                 Traceback (most recent call last)",
      "\u001b[1;32m<ipython-input-38-06d5a57e1a11>\u001b[0m in \u001b[0;36m<module>\u001b[1;34m\u001b[0m\n\u001b[1;32m----> 1\u001b[1;33m \u001b[0md3\u001b[0m\u001b[1;33m.\u001b[0m\u001b[0mkeys\u001b[0m\u001b[1;33m(\u001b[0m\u001b[1;33m)\u001b[0m\u001b[1;33m\u001b[0m\u001b[1;33m\u001b[0m\u001b[0m\n\u001b[0m",
      "\u001b[1;31mNameError\u001b[0m: name 'd3' is not defined"
     ]
    }
   ],
   "source": [
    "d3.keys()\n"
   ]
  },
  {
   "cell_type": "code",
   "execution_count": 39,
   "metadata": {},
   "outputs": [
    {
     "data": {
      "text/plain": [
       "dict_keys(['ok'])"
      ]
     },
     "execution_count": 39,
     "metadata": {},
     "output_type": "execute_result"
    }
   ],
   "source": [
    "d2.keys()"
   ]
  },
  {
   "cell_type": "code",
   "execution_count": 41,
   "metadata": {},
   "outputs": [],
   "source": [
    "d2['ok'][0]['ok'][0]['ok'][0]['nok'] = 30"
   ]
  },
  {
   "cell_type": "code",
   "execution_count": 42,
   "metadata": {},
   "outputs": [
    {
     "data": {
      "text/plain": [
       "{'ok': [{'ok': [{'ok': [{'ok': 2, 'nok': 30}]}]}]}"
      ]
     },
     "execution_count": 42,
     "metadata": {},
     "output_type": "execute_result"
    }
   ],
   "source": [
    "d2"
   ]
  },
  {
   "cell_type": "code",
   "execution_count": 43,
   "metadata": {},
   "outputs": [
    {
     "name": "stdout",
     "output_type": "stream",
     "text": [
      "{'ok': [{'ok': [{'ok': [{'nok': 30, 'ok': 2}]}]}]}\n"
     ]
    }
   ],
   "source": [
    "import pprint\n",
    "pprint.pprint(d2)"
   ]
  },
  {
   "cell_type": "code",
   "execution_count": 44,
   "metadata": {},
   "outputs": [
    {
     "data": {
      "text/plain": [
       "['PrettyPrinter',\n",
       " '_StringIO',\n",
       " '__all__',\n",
       " '__builtins__',\n",
       " '__cached__',\n",
       " '__doc__',\n",
       " '__file__',\n",
       " '__loader__',\n",
       " '__name__',\n",
       " '__package__',\n",
       " '__spec__',\n",
       " '_builtin_scalars',\n",
       " '_collections',\n",
       " '_perfcheck',\n",
       " '_recursion',\n",
       " '_safe_key',\n",
       " '_safe_repr',\n",
       " '_safe_tuple',\n",
       " '_sys',\n",
       " '_types',\n",
       " '_wrap_bytes_repr',\n",
       " 'isreadable',\n",
       " 'isrecursive',\n",
       " 'pformat',\n",
       " 'pprint',\n",
       " 're',\n",
       " 'saferepr']"
      ]
     },
     "execution_count": 44,
     "metadata": {},
     "output_type": "execute_result"
    }
   ],
   "source": [
    "dir(pprint)"
   ]
  },
  {
   "cell_type": "code",
   "execution_count": 45,
   "metadata": {},
   "outputs": [
    {
     "data": {
      "text/plain": [
       "\"{'ok': [{'ok': [{'ok': [{'nok': 30, 'ok': 2}]}]}]}\""
      ]
     },
     "execution_count": 45,
     "metadata": {},
     "output_type": "execute_result"
    }
   ],
   "source": [
    "pprint.pformat(d2)\n"
   ]
  },
  {
   "cell_type": "code",
   "execution_count": 47,
   "metadata": {},
   "outputs": [
    {
     "name": "stdout",
     "output_type": "stream",
     "text": [
      "Help on function pprint in module pprint:\n",
      "\n",
      "pprint(object, stream=None, indent=1, width=80, depth=None, *, compact=False)\n",
      "    Pretty-print a Python object to a stream [default is sys.stdout].\n",
      "\n"
     ]
    }
   ],
   "source": [
    "help(pprint.pprint)"
   ]
  },
  {
   "cell_type": "code",
   "execution_count": 48,
   "metadata": {},
   "outputs": [
    {
     "name": "stdout",
     "output_type": "stream",
     "text": [
      "{'ok': [{'ok': [{'ok': [{'nok': 30, 'ok': 2}]}]}]}\n"
     ]
    }
   ],
   "source": [
    "pprint.pprint(d2, indent=4)"
   ]
  },
  {
   "cell_type": "code",
   "execution_count": 51,
   "metadata": {},
   "outputs": [
    {
     "name": "stdout",
     "output_type": "stream",
     "text": [
      "Overwriting mex.py\n"
     ]
    }
   ],
   "source": [
    "%%writefile mex.py\n",
    "def my_add(x,y):\n",
    "    return x+y\n",
    "\n",
    "def my_add1(x,y=20):\n",
    "    return x+y"
   ]
  },
  {
   "cell_type": "code",
   "execution_count": 52,
   "metadata": {},
   "outputs": [
    {
     "ename": "AttributeError",
     "evalue": "module 'mex' has no attribute 'my_add1'",
     "output_type": "error",
     "traceback": [
      "\u001b[1;31m---------------------------------------------------------------------------\u001b[0m",
      "\u001b[1;31mAttributeError\u001b[0m                            Traceback (most recent call last)",
      "\u001b[1;32m<ipython-input-52-42c3ec66a06f>\u001b[0m in \u001b[0;36m<module>\u001b[1;34m\u001b[0m\n\u001b[0;32m      1\u001b[0m \u001b[1;32mimport\u001b[0m \u001b[0mmex\u001b[0m\u001b[1;33m\u001b[0m\u001b[1;33m\u001b[0m\u001b[0m\n\u001b[1;32m----> 2\u001b[1;33m \u001b[0mmex\u001b[0m\u001b[1;33m.\u001b[0m\u001b[0mmy_add1\u001b[0m\u001b[1;33m(\u001b[0m\u001b[1;36m2\u001b[0m\u001b[1;33m,\u001b[0m\u001b[1;36m3\u001b[0m\u001b[1;33m)\u001b[0m\u001b[1;33m\u001b[0m\u001b[1;33m\u001b[0m\u001b[0m\n\u001b[0m",
      "\u001b[1;31mAttributeError\u001b[0m: module 'mex' has no attribute 'my_add1'"
     ]
    }
   ],
   "source": [
    "import mex\n",
    "mex.my_add1(2,3)"
   ]
  },
  {
   "cell_type": "code",
   "execution_count": 53,
   "metadata": {},
   "outputs": [
    {
     "data": {
      "text/plain": [
       "<module 'mex' from 'D:\\\\handson\\\\mex.py'>"
      ]
     },
     "execution_count": 53,
     "metadata": {},
     "output_type": "execute_result"
    }
   ],
   "source": [
    "import importlib\n",
    "importlib.reload(mex)"
   ]
  },
  {
   "cell_type": "code",
   "execution_count": 54,
   "metadata": {},
   "outputs": [
    {
     "data": {
      "text/plain": [
       "32"
      ]
     },
     "execution_count": 54,
     "metadata": {},
     "output_type": "execute_result"
    }
   ],
   "source": [
    "mex.my_add1(12)"
   ]
  },
  {
   "cell_type": "code",
   "execution_count": 61,
   "metadata": {},
   "outputs": [],
   "source": [
    "lsw = [\"a1\", \"22c\", \"d\", \"ccc\", \"f\"]"
   ]
  },
  {
   "cell_type": "code",
   "execution_count": 56,
   "metadata": {},
   "outputs": [
    {
     "data": {
      "text/plain": [
       "['a', 'c', 'ccc', 'd', 'f']"
      ]
     },
     "execution_count": 56,
     "metadata": {},
     "output_type": "execute_result"
    }
   ],
   "source": [
    "sorted(lsw)"
   ]
  },
  {
   "cell_type": "code",
   "execution_count": 62,
   "metadata": {},
   "outputs": [
    {
     "data": {
      "text/plain": [
       "['d', 'f', 'a1', '22c', 'ccc']"
      ]
     },
     "execution_count": 62,
     "metadata": {},
     "output_type": "execute_result"
    }
   ],
   "source": [
    "sorted(lsw, key=lambda e: len(e))"
   ]
  },
  {
   "cell_type": "code",
   "execution_count": 63,
   "metadata": {},
   "outputs": [],
   "source": [
    "x = lambda e: len(e)"
   ]
  },
  {
   "cell_type": "code",
   "execution_count": 64,
   "metadata": {},
   "outputs": [
    {
     "data": {
      "text/plain": [
       "6"
      ]
     },
     "execution_count": 64,
     "metadata": {},
     "output_type": "execute_result"
    }
   ],
   "source": [
    "x('asdfaf')"
   ]
  },
  {
   "cell_type": "code",
   "execution_count": 65,
   "metadata": {},
   "outputs": [
    {
     "data": {
      "text/plain": [
       "17"
      ]
     },
     "execution_count": 65,
     "metadata": {},
     "output_type": "execute_result"
    }
   ],
   "source": [
    "(lambda e: len(e))(\"fasdfasdfadsfsadf\")"
   ]
  },
  {
   "cell_type": "code",
   "execution_count": 68,
   "metadata": {},
   "outputs": [
    {
     "name": "stdout",
     "output_type": "stream",
     "text": [
      "106 ns ± 0.428 ns per loop (mean ± std. dev. of 7 runs, 10000000 loops each)\n"
     ]
    }
   ],
   "source": [
    "a = 1\n",
    "b = 2\n",
    "\n",
    "%timeit a+b"
   ]
  },
  {
   "cell_type": "code",
   "execution_count": 69,
   "metadata": {},
   "outputs": [
    {
     "data": {
      "text/plain": [
       "3"
      ]
     },
     "execution_count": 69,
     "metadata": {},
     "output_type": "execute_result"
    }
   ],
   "source": [
    "a + b\n"
   ]
  },
  {
   "cell_type": "code",
   "execution_count": 70,
   "metadata": {},
   "outputs": [
    {
     "name": "stdout",
     "output_type": "stream",
     "text": [
      "3\n"
     ]
    }
   ],
   "source": [
    "print(a+b)"
   ]
  },
  {
   "cell_type": "code",
   "execution_count": 75,
   "metadata": {},
   "outputs": [],
   "source": [
    "import random\n",
    "n = 100000\n",
    "x = [random.random() for _ in range(n)]\n",
    "y = [random.random() for _ in range(n)]"
   ]
  },
  {
   "cell_type": "code",
   "execution_count": 73,
   "metadata": {},
   "outputs": [
    {
     "data": {
      "text/plain": [
       "[0.8923869073561915,\n",
       " 0.1937447485653263,\n",
       " 0.10017313413056739,\n",
       " 0.22955380588866492,\n",
       " 0.40857106097329443,\n",
       " 0.16719764701677164,\n",
       " 0.9631157422153935,\n",
       " 0.12431294348681399,\n",
       " 0.1062263859411714,\n",
       " 0.6600397965775624,\n",
       " 0.4295337221383605,\n",
       " 0.5361860441801888,\n",
       " 0.4539057233536651,\n",
       " 0.7632668095094427,\n",
       " 0.24968917836713878,\n",
       " 0.6318632151175251,\n",
       " 0.07678389065331348,\n",
       " 0.6092381556648611,\n",
       " 0.9156741732330198,\n",
       " 0.35084912918107647,\n",
       " 0.6048614272527484,\n",
       " 0.9254543118573347,\n",
       " 0.7048672739872225,\n",
       " 0.05987874710334962,\n",
       " 0.7244997351529177,\n",
       " 0.2555299582423838,\n",
       " 0.2775410582896203,\n",
       " 0.745443171518875,\n",
       " 0.2755591769822152,\n",
       " 0.5763684783609434,\n",
       " 0.9902457171439645,\n",
       " 0.3280225057501096,\n",
       " 0.02510004411536204,\n",
       " 0.18345216215097626,\n",
       " 0.6422144051560217,\n",
       " 0.5289203787877254,\n",
       " 0.5692979009840152,\n",
       " 0.20471382423484974,\n",
       " 0.6923186720955551,\n",
       " 0.4939585542613567,\n",
       " 0.7471395014209109,\n",
       " 0.3881633133468112,\n",
       " 0.9827931603844994,\n",
       " 0.34236506867238625,\n",
       " 0.31171864809598826,\n",
       " 0.260965618943103,\n",
       " 0.4952944515866802,\n",
       " 0.07013631757995431,\n",
       " 0.8348233331128235,\n",
       " 0.568061527201351,\n",
       " 0.5830595842206361,\n",
       " 0.7771892567707823,\n",
       " 0.2621427227895353,\n",
       " 0.007378232225766057,\n",
       " 0.645080289285221,\n",
       " 0.11978400938689215,\n",
       " 0.9943199944142461,\n",
       " 0.7066878193235943,\n",
       " 0.832324119830275,\n",
       " 0.4479848413187085,\n",
       " 0.1263718316060275,\n",
       " 0.8077676859621188,\n",
       " 0.30371636221867593,\n",
       " 0.5848391804760468,\n",
       " 0.8075347311690816,\n",
       " 0.597962736415842,\n",
       " 0.8150079114010704,\n",
       " 0.9241050676852027,\n",
       " 0.5066555248705914,\n",
       " 0.39631129951175015,\n",
       " 0.7429043197290515,\n",
       " 0.8105700828990388,\n",
       " 0.6738019018316166,\n",
       " 0.7960337705421833,\n",
       " 0.016743705343600035,\n",
       " 0.6715427292038465,\n",
       " 0.8659390747476612,\n",
       " 0.9668095189270446,\n",
       " 0.8895427257148756,\n",
       " 0.10922210977952929,\n",
       " 0.07527418779538064,\n",
       " 0.3203003763163864,\n",
       " 0.5341120169502913,\n",
       " 0.12172029352608993,\n",
       " 0.06113777218147365,\n",
       " 0.48473755850357614,\n",
       " 0.6943423692736816,\n",
       " 0.9842300849804426,\n",
       " 0.6362495469660402,\n",
       " 0.47642974117483183,\n",
       " 0.026941418564641717,\n",
       " 0.18255969437188224,\n",
       " 0.9873762034449971,\n",
       " 0.040842531982671515,\n",
       " 0.535714191573926,\n",
       " 0.6440667429260064,\n",
       " 0.29474095940777845,\n",
       " 0.5885585756138194,\n",
       " 0.9232111952072368,\n",
       " 0.34615108894619395,\n",
       " 0.4386973858089126,\n",
       " 0.7966743828220296,\n",
       " 0.6069726105835586,\n",
       " 0.7099588918906845,\n",
       " 0.4926862400307449,\n",
       " 0.5398288444356574,\n",
       " 0.10837975530590127,\n",
       " 0.901428018286533,\n",
       " 0.8672654835869152,\n",
       " 0.2540439255830971,\n",
       " 0.8428900041075127,\n",
       " 0.4906037589642491,\n",
       " 0.03844271522973586,\n",
       " 0.2134433641945248,\n",
       " 0.7005444810461853,\n",
       " 0.28218859420314424,\n",
       " 0.9402491510504121,\n",
       " 0.9025370634794867,\n",
       " 0.6192432984946913,\n",
       " 0.06501390820134334,\n",
       " 0.33122730729987915,\n",
       " 0.21695427723114868,\n",
       " 0.4081085071593693,\n",
       " 0.6474827098392867,\n",
       " 0.06111478409670812,\n",
       " 0.4994210614258192,\n",
       " 0.47533189975465184,\n",
       " 0.5891880232957767,\n",
       " 0.6516260944874225,\n",
       " 0.8866990979773034,\n",
       " 0.015329230872307309,\n",
       " 0.27980383812608356,\n",
       " 0.09315486667593453,\n",
       " 0.9779689123890106,\n",
       " 0.7689774340594374,\n",
       " 0.45123704720012947,\n",
       " 0.44759164912863003,\n",
       " 0.11993896958034622,\n",
       " 0.547174722895334,\n",
       " 0.3900866229181703,\n",
       " 0.8683235707637307,\n",
       " 0.06179258888563699,\n",
       " 0.946587669052085,\n",
       " 0.5354632779451707,\n",
       " 0.8338780976880109,\n",
       " 0.1615792143475855,\n",
       " 0.26730720663291174,\n",
       " 0.8426125076635652,\n",
       " 0.34786725339811964,\n",
       " 0.08600812188495044,\n",
       " 0.8538857154812686,\n",
       " 0.9524735151065187,\n",
       " 0.5437650483706343,\n",
       " 0.9962226628675369,\n",
       " 0.834065860647116,\n",
       " 0.33737040472795365,\n",
       " 0.49466687884140714,\n",
       " 0.32928162090663105,\n",
       " 0.4137454060166925,\n",
       " 0.48418510785829294,\n",
       " 0.8375197155412202,\n",
       " 0.16050906090706873,\n",
       " 0.2970215823583022,\n",
       " 0.010573128697227374,\n",
       " 0.6427852309473228,\n",
       " 0.19101056213100132,\n",
       " 0.9177695837119239,\n",
       " 0.7006485633467963,\n",
       " 0.3126213688436841,\n",
       " 0.6420640750407179,\n",
       " 0.49206532355527244,\n",
       " 0.8684359390101771,\n",
       " 0.4656339954488864,\n",
       " 0.3497719924253707,\n",
       " 0.34340796561183706,\n",
       " 0.977726238052817,\n",
       " 0.6794770388061375,\n",
       " 0.05468523312529627,\n",
       " 0.4315853213326688,\n",
       " 0.5876880308153388,\n",
       " 0.5680008551544085,\n",
       " 0.23344535407887912,\n",
       " 0.5974208820373602,\n",
       " 0.060209074933968654,\n",
       " 0.6463683646814742,\n",
       " 0.9807289861287175,\n",
       " 0.08304307456298599,\n",
       " 0.5449346419079296,\n",
       " 0.11445019542625223,\n",
       " 0.8992524925396298,\n",
       " 0.6165477119252801,\n",
       " 0.9153789967667288,\n",
       " 0.1843157563170582,\n",
       " 0.25993512953512943,\n",
       " 0.8602031854000581,\n",
       " 0.01274162755544328,\n",
       " 0.9854743229638961,\n",
       " 0.684329503336452,\n",
       " 0.2987853554757549,\n",
       " 0.30166846179944107,\n",
       " 0.22543808154500655,\n",
       " 0.44959770210849226,\n",
       " 0.20336034815560478,\n",
       " 0.2684679884233534,\n",
       " 0.5810058175348669,\n",
       " 0.6703353013930865,\n",
       " 0.42597403189999294,\n",
       " 0.17963948296191823,\n",
       " 0.6685575162184159,\n",
       " 0.9355691128998691,\n",
       " 0.3887062402293162,\n",
       " 0.939069927972752,\n",
       " 0.17256208441111753,\n",
       " 0.250775012657938,\n",
       " 0.48956487224030654,\n",
       " 0.11557549162058611,\n",
       " 0.3006327966026905,\n",
       " 0.7636821678591466,\n",
       " 0.4961997543166763,\n",
       " 0.5098329258365523,\n",
       " 0.6525603202495599,\n",
       " 0.9924970790742659,\n",
       " 0.4803849743070838,\n",
       " 0.014854656201399474,\n",
       " 0.1161839020360601,\n",
       " 0.21487029582097394,\n",
       " 0.3541219243072433,\n",
       " 0.5719664742974991,\n",
       " 0.6902714750257471,\n",
       " 0.18622575953811205,\n",
       " 0.6667232162475663,\n",
       " 0.23370175096693246,\n",
       " 0.22255922793435412,\n",
       " 0.9835997653626436,\n",
       " 0.6605439037197405,\n",
       " 0.874597179656647,\n",
       " 0.9599521432821755,\n",
       " 0.016076370841984544,\n",
       " 0.19430546699533902,\n",
       " 0.7693274274972794,\n",
       " 0.995547897597173,\n",
       " 0.14519070782466548,\n",
       " 0.24472954812021042,\n",
       " 0.30619482749706217,\n",
       " 0.23914415993538163,\n",
       " 0.49018197256788987,\n",
       " 0.20745952701818826,\n",
       " 0.11587679180525179,\n",
       " 0.867275198631871,\n",
       " 0.5111580867236848,\n",
       " 0.7965747691459665,\n",
       " 0.47322813342612735,\n",
       " 0.3086775882965703,\n",
       " 0.1389449526332711,\n",
       " 0.5502746475575888,\n",
       " 0.8828252595627152,\n",
       " 0.07962745747649091,\n",
       " 0.8781043958236245,\n",
       " 0.977790546651119,\n",
       " 0.9675150307100194,\n",
       " 0.537618474825277,\n",
       " 0.34018993792725494,\n",
       " 0.28959960332351664,\n",
       " 0.754196770290538,\n",
       " 0.9690590957900528,\n",
       " 0.47574772950630484,\n",
       " 0.7294078060750246,\n",
       " 0.8190333012420817,\n",
       " 0.6992148917092065,\n",
       " 0.030125693626494532,\n",
       " 0.48888127125154135,\n",
       " 0.08137086161010698,\n",
       " 0.25236454686422316,\n",
       " 0.008920946742554059,\n",
       " 0.7073079190849972,\n",
       " 0.3674297130582467,\n",
       " 0.08806131664019112,\n",
       " 0.6129920875986729,\n",
       " 0.89392487771765,\n",
       " 0.3207903109096888,\n",
       " 0.6743746441006123,\n",
       " 0.9830945314543295,\n",
       " 0.2691480346410584,\n",
       " 0.9376590110546041,\n",
       " 0.7159202217909931,\n",
       " 0.6510129917129803,\n",
       " 0.7841984361712355,\n",
       " 0.5277146562336652,\n",
       " 0.6738866683977961,\n",
       " 0.23567881684457392,\n",
       " 0.0026696887345830644,\n",
       " 0.2618580265643301,\n",
       " 0.5489928785006164,\n",
       " 0.261186918413552,\n",
       " 0.13043498627831374,\n",
       " 0.05340234110522657,\n",
       " 0.0036866882368955523,\n",
       " 0.01629682572227531,\n",
       " 0.7178322515810792,\n",
       " 0.32332116197528005,\n",
       " 0.6000682671738772,\n",
       " 0.8511278179783349,\n",
       " 0.5570816338531946,\n",
       " 0.46470176394476326,\n",
       " 0.47793672422537425,\n",
       " 0.8804321143997217,\n",
       " 0.33635463680592803,\n",
       " 0.14574778046047498,\n",
       " 0.09303502036248223,\n",
       " 0.07338998428986288,\n",
       " 0.9594451593477401,\n",
       " 0.8312345173463299,\n",
       " 0.888093606619121,\n",
       " 0.6208640921280387,\n",
       " 0.5311126117643098,\n",
       " 0.3791819896037575,\n",
       " 0.7546167052323209,\n",
       " 0.7906581301159401,\n",
       " 0.6908521282060353,\n",
       " 0.18695500367403461,\n",
       " 0.43085563711803165,\n",
       " 0.09829763493874155,\n",
       " 0.06660362124880936,\n",
       " 0.5690735468111007,\n",
       " 0.2356674555989774,\n",
       " 0.33534984680182145,\n",
       " 0.09694115701331796,\n",
       " 0.016857612181470305,\n",
       " 0.24323041501350218,\n",
       " 0.4649876272993869,\n",
       " 0.37128827870920555,\n",
       " 0.3896466133950104,\n",
       " 0.18293750520289942,\n",
       " 0.7597483776857509,\n",
       " 0.18518699935191418,\n",
       " 0.04156939152324879,\n",
       " 0.05513696905474441,\n",
       " 0.8549657786345748,\n",
       " 0.34965940601350953,\n",
       " 0.6650487627622549,\n",
       " 0.45284040908860135,\n",
       " 0.16362800947009293,\n",
       " 0.5725906466219645,\n",
       " 0.7172289959182107,\n",
       " 0.7077831705997677,\n",
       " 0.694260834947346,\n",
       " 0.30882646610902076,\n",
       " 0.9747784312794189,\n",
       " 0.8238292095579978,\n",
       " 0.48452465225911334,\n",
       " 0.9658705725976525,\n",
       " 0.34330816703536204,\n",
       " 0.5281876179193075,\n",
       " 0.2552865380778577,\n",
       " 0.5791366497988116,\n",
       " 0.1152078713598963,\n",
       " 0.5310297983294676,\n",
       " 0.9455330194869384,\n",
       " 0.05355728195077791,\n",
       " 0.6571274434663466,\n",
       " 0.07854272813371044,\n",
       " 0.35121304229864436,\n",
       " 0.9111361981603138,\n",
       " 0.2368394023042214,\n",
       " 0.3758807860355402,\n",
       " 0.6901204849760519,\n",
       " 0.4144318110265456,\n",
       " 0.1839794679573451,\n",
       " 0.4628365012753174,\n",
       " 0.0035686949123704403,\n",
       " 0.6493124046720864,\n",
       " 0.6351848666287381,\n",
       " 0.2247141241373941,\n",
       " 0.3723917686675927,\n",
       " 0.3980949290864215,\n",
       " 0.7102851400067904,\n",
       " 0.02093879364003337,\n",
       " 0.12721675774448848,\n",
       " 0.7021043551743656,\n",
       " 0.09400854866442687,\n",
       " 0.7026858917271188,\n",
       " 0.18956969344317165,\n",
       " 0.25423007823685706,\n",
       " 0.6328438969391181,\n",
       " 0.5540950927614625,\n",
       " 0.7074234782725192,\n",
       " 0.40980066032422235,\n",
       " 0.2010470374353518,\n",
       " 0.26606658673767825,\n",
       " 0.571215385713742,\n",
       " 0.6509933500390428,\n",
       " 0.9072437079911811,\n",
       " 0.10077817177374115,\n",
       " 0.05883363961655119,\n",
       " 0.43230586696568607,\n",
       " 0.03449102871749321,\n",
       " 0.6683351979896847,\n",
       " 0.09793249411630256,\n",
       " 0.9248146697278337,\n",
       " 0.3507548050997351,\n",
       " 0.4132120115324466,\n",
       " 0.44800764123649484,\n",
       " 0.42387541381086646,\n",
       " 0.6941541753870281,\n",
       " 0.3566357749526816,\n",
       " 0.018539960630195473,\n",
       " 0.2185725852167888,\n",
       " 0.05900486248891923,\n",
       " 0.7088410509427997,\n",
       " 0.013066157868216965,\n",
       " 0.9028619766990239,\n",
       " 0.8068109874077617,\n",
       " 0.9897331979489461,\n",
       " 0.35802035413613886,\n",
       " 0.5184559410898488,\n",
       " 0.9636616680010839,\n",
       " 0.768561098821568,\n",
       " 0.7851748367088769,\n",
       " 0.09139369384268325,\n",
       " 0.36257689966959017,\n",
       " 0.7112548615952689,\n",
       " 0.721494219318504,\n",
       " 0.6159783701465836,\n",
       " 0.4301757106392109,\n",
       " 0.3930542851801472,\n",
       " 0.4228283661398663,\n",
       " 0.01926122707334732,\n",
       " 0.9771356645771542,\n",
       " 0.05355872767797909,\n",
       " 0.9614868338136929,\n",
       " 0.4275014185990168,\n",
       " 0.5624908729949383,\n",
       " 0.7119723670656559,\n",
       " 0.985419584888453,\n",
       " 0.7466566222803308,\n",
       " 0.968052168379206,\n",
       " 0.039674176972298025,\n",
       " 0.8799848900512817,\n",
       " 0.9641997356131208,\n",
       " 0.47448513622027,\n",
       " 0.5869515724888612,\n",
       " 0.9561296696806054,\n",
       " 0.9821998975277321,\n",
       " 0.3304870300043824,\n",
       " 0.11784675648966936,\n",
       " 0.8350279623169146,\n",
       " 0.9180806456807099,\n",
       " 0.08049602199021055,\n",
       " 0.6105466679995649,\n",
       " 0.8394804841175378,\n",
       " 0.5570372894168102,\n",
       " 0.895219700412554,\n",
       " 0.8752518779311336,\n",
       " 0.0034268386489050284,\n",
       " 0.3507003265402655,\n",
       " 0.9928513100612405,\n",
       " 0.7044662425506304,\n",
       " 0.32439528612847335,\n",
       " 0.9718174695028686,\n",
       " 0.5382987671903772,\n",
       " 0.21100169909731936,\n",
       " 0.12725447611147678,\n",
       " 0.8042728261682521,\n",
       " 0.3446541995152945,\n",
       " 0.21209051359351339,\n",
       " 0.250635208573172,\n",
       " 0.8809849868533499,\n",
       " 0.385535174096998,\n",
       " 0.33786983940195214,\n",
       " 0.49308047531200505,\n",
       " 0.47396041074311457,\n",
       " 0.35133929478186354,\n",
       " 0.8527190822494827,\n",
       " 0.41758867874576067,\n",
       " 0.5645799534569502,\n",
       " 0.7699843738190855,\n",
       " 0.05420222401389363,\n",
       " 0.25356572439206226,\n",
       " 0.49559436503596377,\n",
       " 0.057520084888759926,\n",
       " 0.9060929316214557,\n",
       " 0.8565624685842241,\n",
       " 0.9218322709584575,\n",
       " 0.19878009179071243,\n",
       " 0.8126138803745644,\n",
       " 0.0954214497621505,\n",
       " 0.5288982947240831,\n",
       " 0.004919773589478815,\n",
       " 0.08222892056684994,\n",
       " 0.4149155055228714,\n",
       " 0.6113986367456877,\n",
       " 0.5416625388089646,\n",
       " 0.07763223106565231,\n",
       " 0.5815587172220309,\n",
       " 0.622708623269799,\n",
       " 0.9648194707572225,\n",
       " 0.4326634932552538,\n",
       " 0.5384618051614597,\n",
       " 0.3935878944045943,\n",
       " 0.5792338164322066,\n",
       " 0.6063538060000856,\n",
       " 0.40045916477236243,\n",
       " 0.577766398830865,\n",
       " 0.025249180990844722,\n",
       " 0.2993684775891414,\n",
       " 0.8736027210443368,\n",
       " 0.11819357700079902,\n",
       " 0.4829465105563393,\n",
       " 0.5601358461378373,\n",
       " 0.4901770597781645,\n",
       " 0.1862240063323144,\n",
       " 0.8685503395469171,\n",
       " 0.20095101238667734,\n",
       " 0.11303097009266505,\n",
       " 0.6361878778404482,\n",
       " 0.6886705429272109,\n",
       " 0.8713859521541982,\n",
       " 0.07550682291761002,\n",
       " 0.53802422104159,\n",
       " 0.27766098683256957,\n",
       " 0.15445946376650665,\n",
       " 0.004194100531945355,\n",
       " 0.4902996968259521,\n",
       " 0.23265513385210723,\n",
       " 0.6991858309799541,\n",
       " 0.7875740394027654,\n",
       " 0.8579906842215365,\n",
       " 0.14967285964800614,\n",
       " 0.23922187925265626,\n",
       " 0.7562085210093275,\n",
       " 0.09564904740211078,\n",
       " 0.8649921932841919,\n",
       " 0.2642504521433069,\n",
       " 0.5751576759697196,\n",
       " 0.8486233059776787,\n",
       " 0.2663129884454727,\n",
       " 0.14005093509523026,\n",
       " 0.5923752065017165,\n",
       " 0.4347132737642502,\n",
       " 0.30195212494889767,\n",
       " 0.9403561779658606,\n",
       " 0.13086692418623658,\n",
       " 0.2290108270670974,\n",
       " 0.9838951421454161,\n",
       " 0.7429191213254503,\n",
       " 0.7185952645859341,\n",
       " 0.8560889088213925,\n",
       " 0.8422382403189022,\n",
       " 0.7062544636171514,\n",
       " 0.4339767693244263,\n",
       " 0.38211001650783405,\n",
       " 0.04456988594044431,\n",
       " 0.26687708348251094,\n",
       " 0.07959695695449254,\n",
       " 0.2633241600432219,\n",
       " 0.6849143249641847,\n",
       " 0.5507150781171475,\n",
       " 0.49149989534567273,\n",
       " 0.6964796523288151,\n",
       " 0.8263635402057233,\n",
       " 0.09531179059508166,\n",
       " 0.9761810586261659,\n",
       " 0.7712633621784628,\n",
       " 0.8863406954582098,\n",
       " 0.6153439663724721,\n",
       " 0.79618346391017,\n",
       " 0.12820441641484426,\n",
       " 0.8236374400144908,\n",
       " 0.9778130915969442,\n",
       " 0.6276786753755538,\n",
       " 0.6871055658203512,\n",
       " 0.8327945843216347,\n",
       " 0.2951101393560088,\n",
       " 0.20296577677776761,\n",
       " 0.09315164575730916,\n",
       " 0.6440360906942264,\n",
       " 0.4828448132582214,\n",
       " 0.24916829640079907,\n",
       " 0.6336102893051934,\n",
       " 0.9552796067114683,\n",
       " 0.13226443611570515,\n",
       " 0.17618977463343877,\n",
       " 0.9585192975741398,\n",
       " 0.7797784046498645,\n",
       " 0.31809354373159604,\n",
       " 0.24705194410331754,\n",
       " 0.519694623851719,\n",
       " 0.21746306807029503,\n",
       " 0.7119359347868207,\n",
       " 0.36836762754573316,\n",
       " 0.06145381468639732,\n",
       " 0.8368780951102923,\n",
       " 0.4682996233421123,\n",
       " 0.1444442997467087,\n",
       " 0.8935775295461584,\n",
       " 0.8391924177709577,\n",
       " 0.11088558282916194,\n",
       " 0.6465820834574486,\n",
       " 0.7036917052722502,\n",
       " 0.06140043890755498,\n",
       " 0.47200467824454495,\n",
       " 0.9253241231135415,\n",
       " 0.9753127752541457,\n",
       " 0.6538879452317283,\n",
       " 0.7656893000375189,\n",
       " 0.17651667021901085,\n",
       " 0.9642641730212671,\n",
       " 0.36885483202763714,\n",
       " 0.20976684977875792,\n",
       " 0.4210861580583539,\n",
       " 0.7766994830073138,\n",
       " 0.22664577114951667,\n",
       " 0.2611879405599107,\n",
       " 0.07265220851831611,\n",
       " 0.4048721011300851,\n",
       " 0.07818795283251756,\n",
       " 0.2891373132387295,\n",
       " 0.9024057664748123,\n",
       " 0.3350738586404629,\n",
       " 0.6811556097958297,\n",
       " 0.8226410769177567,\n",
       " 0.40291647196496316,\n",
       " 0.08944475551594244,\n",
       " 0.5834620115911657,\n",
       " 0.9225675409982856,\n",
       " 0.9573375308790572,\n",
       " 0.8744726394127587,\n",
       " 0.83804911257163,\n",
       " 0.2356288497441973,\n",
       " 0.6290486659942621,\n",
       " 0.9166633657689314,\n",
       " 0.3264170296534984,\n",
       " 0.9300075876445884,\n",
       " 0.6604701546074944,\n",
       " 0.3346582007875616,\n",
       " 0.38197977004576633,\n",
       " 0.2844124741049303,\n",
       " 0.9496130016385231,\n",
       " 0.1954797308060311,\n",
       " 0.61618242647528,\n",
       " 0.06473059043587948,\n",
       " 0.022529661022764103,\n",
       " 0.6139618016534643,\n",
       " 0.23624137384677768,\n",
       " 0.38967443471478214,\n",
       " 0.4123277640748604,\n",
       " 0.1265567931094823,\n",
       " 0.6688108113866552,\n",
       " 0.9557807923714826,\n",
       " 0.9935065190524809,\n",
       " 0.5522703019720954,\n",
       " 0.8731008514314863,\n",
       " 0.8567038696074437,\n",
       " 0.5397232281893067,\n",
       " 0.6546115829633533,\n",
       " 0.7530942835573877,\n",
       " 0.5116569745384343,\n",
       " 0.8816735559329206,\n",
       " 0.7041645516263058,\n",
       " 0.7839912067300269,\n",
       " 0.283520315097618,\n",
       " 0.5979010416136452,\n",
       " 0.30742939006581527,\n",
       " 0.5757878423045841,\n",
       " 0.07708172515523326,\n",
       " 0.6350024829157169,\n",
       " 0.07375756012669821,\n",
       " 0.7501685688165486,\n",
       " 0.4094693127585938,\n",
       " 0.843685990150127,\n",
       " 0.555239185857346,\n",
       " 0.7876383659130942,\n",
       " 0.05511202108009883,\n",
       " 0.001799726268751578,\n",
       " 0.9476540090512576,\n",
       " 0.10989878442374179,\n",
       " 0.26579259667991784,\n",
       " 0.6626219727910542,\n",
       " 0.9557574454575126,\n",
       " 0.16151198636351483,\n",
       " 0.2518278862530394,\n",
       " 0.7612267245982455,\n",
       " 0.1309122590751628,\n",
       " 0.6431821136314891,\n",
       " 0.9744760763688541,\n",
       " 0.1611545966048622,\n",
       " 0.9776076378986802,\n",
       " 0.8423689755899737,\n",
       " 0.974676046631918,\n",
       " 0.5661714264033298,\n",
       " 0.2727599863159874,\n",
       " 0.958089941598902,\n",
       " 0.6577487537608347,\n",
       " 0.780033389991867,\n",
       " 0.5134992153348571,\n",
       " 0.11261738967131785,\n",
       " 0.7474723868922177,\n",
       " 0.4668612872103729,\n",
       " 0.4102150497412481,\n",
       " 0.3933257557902947,\n",
       " 0.918732492781195,\n",
       " 0.6982243776593404,\n",
       " 0.2157705539813859,\n",
       " 0.01100855709883597,\n",
       " 0.7603229503161003,\n",
       " 0.4631335282786936,\n",
       " 0.9624682328826459,\n",
       " 0.01783201917342425,\n",
       " 0.5593426319953377,\n",
       " 0.5311542653412927,\n",
       " 0.4884897902508646,\n",
       " 0.15826527091309395,\n",
       " 0.16929040434814668,\n",
       " 0.5807280802433655,\n",
       " 0.9393060980368152,\n",
       " 0.9355881244831901,\n",
       " 0.6328428638745406,\n",
       " 0.8443403136583534,\n",
       " 0.553691915030244,\n",
       " 0.19460897673177469,\n",
       " 0.8036040311010122,\n",
       " 0.33752179780026503,\n",
       " 0.04166585221370178,\n",
       " 0.7859682275483969,\n",
       " 0.5133027386989195,\n",
       " 0.983652340273805,\n",
       " 0.4293654100608807,\n",
       " 0.7635982973646018,\n",
       " 0.12572854390291222,\n",
       " 0.6782048631734151,\n",
       " 0.15534233699582056,\n",
       " 0.9865533082942806,\n",
       " 0.6631885088724814,\n",
       " 0.4699022961134851,\n",
       " 0.21455966570931173,\n",
       " 0.9356890831578669,\n",
       " 0.32504978195180445,\n",
       " 0.9355272964714253,\n",
       " 0.4518716832337789,\n",
       " 0.19796492905174667,\n",
       " 0.8888139231537285,\n",
       " 0.1941059830635694,\n",
       " 0.9178202467442459,\n",
       " 0.4001441861652041,\n",
       " 0.10879499417672722,\n",
       " 0.6076213106069079,\n",
       " 0.909026868125689,\n",
       " 0.5788173621868032,\n",
       " 0.4246255224683081,\n",
       " 0.9154725740264339,\n",
       " 0.931792753280388,\n",
       " 0.918777218912071,\n",
       " 0.7024511154333439,\n",
       " 0.49035676524306404,\n",
       " 0.19217244041357417,\n",
       " 0.006023577460982588,\n",
       " 0.6229843623533757,\n",
       " 0.8917348739681451,\n",
       " 0.44573330490311314,\n",
       " 0.7611015879504438,\n",
       " 0.5130783335463086,\n",
       " 0.9369851644167289,\n",
       " 0.2776932298293695,\n",
       " 0.9946795829379483,\n",
       " 0.0036086130324940457,\n",
       " 0.6378719503885476,\n",
       " 0.485847304924636,\n",
       " 0.5503030208865276,\n",
       " 0.5695839186134423,\n",
       " 0.14732298754050255,\n",
       " 0.3532367309192799,\n",
       " 0.3463956953264894,\n",
       " 0.5916539008901459,\n",
       " 0.5276445517926057,\n",
       " 0.1471298345696671,\n",
       " 0.5200363807108659,\n",
       " 0.9967533246120079,\n",
       " 0.9995502736119586,\n",
       " 0.1384780740123014,\n",
       " 0.01519817116210842,\n",
       " 0.8976768068002091,\n",
       " 0.6241763407667212,\n",
       " 0.42837634999419627,\n",
       " 0.8224721047989738,\n",
       " 0.7533726629901257,\n",
       " 0.6864326939683333,\n",
       " 0.0041009042055761835,\n",
       " 0.07477163367650641,\n",
       " 0.6122987513908222,\n",
       " 0.3149457370584099,\n",
       " 0.3488418866217915,\n",
       " 0.38363635878308333,\n",
       " 0.9991979077195129,\n",
       " 0.23318361195960724,\n",
       " 0.04805604633842242,\n",
       " 0.32606353838466295,\n",
       " 0.5511741150621048,\n",
       " 0.5930453844464353,\n",
       " 0.062296788629097266,\n",
       " 0.3800786216733619,\n",
       " 0.42836236728851984,\n",
       " 0.7541340439736942,\n",
       " 0.9103229490675561,\n",
       " 0.4120835743829502,\n",
       " 0.05858433609516611,\n",
       " 0.14196835986830936,\n",
       " 0.7500320013643613,\n",
       " 0.9406608394424077,\n",
       " 0.029164684893641768,\n",
       " 0.9334032763911471,\n",
       " 0.8239804307207981,\n",
       " 0.27953985282043803,\n",
       " 0.4667474776695999,\n",
       " 0.9634195543289451,\n",
       " 0.3782799913502912,\n",
       " 0.3339348761443033,\n",
       " 0.08090325223853334,\n",
       " 0.4753819548956817,\n",
       " 0.6507589347766616,\n",
       " 0.9475113214848181,\n",
       " 0.46789659745219825,\n",
       " 0.9246625040179288,\n",
       " 0.7301867437437825,\n",
       " 0.7080248948788769,\n",
       " 0.3798742483046027,\n",
       " 0.3432512009197085,\n",
       " 0.338983677987008,\n",
       " 0.4320021576659596,\n",
       " 0.8999681959349359,\n",
       " 0.48616948861321774,\n",
       " 0.159414789672765,\n",
       " 0.19218749678968816,\n",
       " 0.31569976006582856,\n",
       " 0.25305482228931775,\n",
       " 0.5413593550642929,\n",
       " 0.982714954943384,\n",
       " 0.4777627529052306,\n",
       " 0.3960515636073333,\n",
       " 0.29953678644264425,\n",
       " 0.44529696404809194,\n",
       " 0.9732417089298822,\n",
       " 0.041992656579693866,\n",
       " 0.222574277566005,\n",
       " 0.7967353246992062,\n",
       " 0.10811097143393134,\n",
       " 0.8279717771985253,\n",
       " 0.675914867423171,\n",
       " 0.788238941353207,\n",
       " 0.09255047196117827,\n",
       " 0.5728840257505365,\n",
       " 0.7728668281915392,\n",
       " 0.8936476081167279,\n",
       " 0.6814322929236577,\n",
       " 0.7414124349957897,\n",
       " 0.8392958930154374,\n",
       " 0.5982620716695187,\n",
       " 0.6792222227726146,\n",
       " 0.2333959603756116,\n",
       " 0.9653018693187363,\n",
       " 0.4592943397946806,\n",
       " 0.5965647555466383,\n",
       " 0.2398069737429689,\n",
       " 0.7946848892918085,\n",
       " 0.8356208481467005,\n",
       " 0.967891822628851,\n",
       " 0.14484910184118616,\n",
       " 0.9691139681629318,\n",
       " 0.7849751898037558,\n",
       " 0.09835666900240758,\n",
       " 0.3268956160555613,\n",
       " 0.8838140157445952,\n",
       " 0.717482827167203,\n",
       " 0.8598735772223018,\n",
       " 0.9315293947977755,\n",
       " 0.09485391865253112,\n",
       " 0.3031190320518551,\n",
       " 0.16163616186991825,\n",
       " 0.389534060990522,\n",
       " 0.879091845939663,\n",
       " 0.6960210147985685,\n",
       " 0.006465168821967349,\n",
       " 0.8306773349184986,\n",
       " 0.13422710468970034,\n",
       " 0.7339886233084527,\n",
       " 0.39342303302674353,\n",
       " 0.14085542379440918,\n",
       " 0.9973739107417487,\n",
       " 0.034702688327897024,\n",
       " 0.41915980627915816,\n",
       " 0.9932447015718479,\n",
       " 0.6301046902588603,\n",
       " 0.7175198640140783,\n",
       " 0.3499064303149777,\n",
       " 0.9603799562207906,\n",
       " 0.20231429932649314,\n",
       " 0.3007221083224184,\n",
       " 0.45554360282815143,\n",
       " 0.09179771352124688,\n",
       " 0.5435917217913082,\n",
       " 0.8921802625594494,\n",
       " 0.7197723975821846,\n",
       " 0.03550846516384931,\n",
       " 0.4008386200384957,\n",
       " 0.6933282451644172,\n",
       " 0.6233563624998393,\n",
       " 0.915014803719695,\n",
       " 0.4656190546071408,\n",
       " 0.1619434505483649,\n",
       " 0.32975833729696913,\n",
       " 0.34517264751594623,\n",
       " 0.1781002192020149,\n",
       " 0.3664170855728467,\n",
       " 0.22447860057666957,\n",
       " 0.4728577952409173,\n",
       " 0.7646821930415442,\n",
       " 0.8086306941308229,\n",
       " 0.8600702056205479,\n",
       " 0.4880693282302887,\n",
       " 0.5651643583273102,\n",
       " 0.24088178705270114,\n",
       " 0.2418087662459072,\n",
       " 0.6629996075050798,\n",
       " 0.3281690172471675,\n",
       " 0.09562940733078495,\n",
       " 0.3479541972358001,\n",
       " 0.7261088349427531,\n",
       " 0.5910401842023792,\n",
       " 0.9302836997684429,\n",
       " 0.5806384728580906,\n",
       " 0.3633984162581648,\n",
       " 0.0015153405999800418,\n",
       " 0.03589469708209847,\n",
       " 0.41973904084246194,\n",
       " 0.015994416784234522,\n",
       " 0.9728795811518944,\n",
       " 0.17153751556402974,\n",
       " 0.2443577180588925,\n",
       " 0.13209567200699368,\n",
       " 0.05154942724074396,\n",
       " 0.4935644142016292,\n",
       " 0.8218747359966593,\n",
       " 0.5975291150632809,\n",
       " 0.7604441337999648,\n",
       " 0.38467403305155534,\n",
       " 0.7114132749133334,\n",
       " 0.966837936865676,\n",
       " 0.42634304562468106,\n",
       " 0.16669064088107322,\n",
       " 0.002651283156315576,\n",
       " 0.24521261155774943,\n",
       " 0.9793135481919201,\n",
       " 0.031913315300833744,\n",
       " 0.7407413174668261,\n",
       " 0.45343434119160053,\n",
       " 0.996533020546658,\n",
       " 0.6100721121508023,\n",
       " 0.02902779625648011,\n",
       " 0.8618719797809617,\n",
       " 0.1642875507620586,\n",
       " 0.739837401654273,\n",
       " 0.87641461617305,\n",
       " 0.3527905911026975,\n",
       " 0.489167133385495,\n",
       " 0.7918335612437833,\n",
       " 0.29884187841505805,\n",
       " 0.8756656698778916,\n",
       " 0.6965826263801976,\n",
       " 0.6626666220909889,\n",
       " 0.5516778402898574,\n",
       " 0.7667465330056153,\n",
       " 0.09165345796412416,\n",
       " 0.5889410727929842,\n",
       " 0.1762129692701171,\n",
       " 0.45741694369344865,\n",
       " 0.6699182390465452,\n",
       " 0.4159242693430638,\n",
       " 0.8804159544770686,\n",
       " 0.8584932424811187,\n",
       " 0.14860537241492633,\n",
       " 0.24088689204974167,\n",
       " 0.3146252134423122,\n",
       " 0.7699996816071204,\n",
       " 0.046980402487427186,\n",
       " 0.9262004585202538,\n",
       " 0.12400071172952176,\n",
       " 0.45024140437509963,\n",
       " 0.26727041516523553,\n",
       " 0.6333192342580342,\n",
       " 0.9047644426415624,\n",
       " 0.04718646135135851,\n",
       " 0.2687678796062738,\n",
       " 0.7177396517915872,\n",
       " 0.5249897142214126,\n",
       " 0.4358520444330273,\n",
       " 0.902866234675949,\n",
       " 0.07877894176209688,\n",
       " 0.8295560088967507,\n",
       " 0.17216624980523432,\n",
       " 0.16536150636829317,\n",
       " 0.7456612883669571,\n",
       " ...]"
      ]
     },
     "execution_count": 73,
     "metadata": {},
     "output_type": "execute_result"
    }
   ],
   "source": [
    "x\n"
   ]
  },
  {
   "cell_type": "code",
   "execution_count": 74,
   "metadata": {},
   "outputs": [
    {
     "name": "stdout",
     "output_type": "stream",
     "text": [
      "18.6 ms ± 452 µs per loop (mean ± std. dev. of 7 runs, 10 loops each)\n"
     ]
    }
   ],
   "source": [
    "%timeit [random.random() for _ in range(n)]"
   ]
  },
  {
   "cell_type": "code",
   "execution_count": 76,
   "metadata": {},
   "outputs": [
    {
     "data": {
      "text/plain": [
       "[0.13843203404721893, 0.8772194744500807, 0.341892987558605]"
      ]
     },
     "execution_count": 76,
     "metadata": {},
     "output_type": "execute_result"
    }
   ],
   "source": [
    "x[:3]"
   ]
  },
  {
   "cell_type": "code",
   "execution_count": 77,
   "metadata": {},
   "outputs": [
    {
     "data": {
      "text/plain": [
       "[0.2358080972042622, 0.039532243314691407, 0.6870428507303111]"
      ]
     },
     "execution_count": 77,
     "metadata": {},
     "output_type": "execute_result"
    }
   ],
   "source": [
    "y[:3]"
   ]
  },
  {
   "cell_type": "code",
   "execution_count": 78,
   "metadata": {},
   "outputs": [],
   "source": [
    "z = [x[i] + y[i] for i in range(len(x))]"
   ]
  },
  {
   "cell_type": "code",
   "execution_count": 79,
   "metadata": {},
   "outputs": [
    {
     "data": {
      "text/plain": [
       "[0.37424013125148115,\n",
       " 0.9167517177647722,\n",
       " 1.0289358382889162,\n",
       " 0.18203184537009887,\n",
       " 1.028984556256216,\n",
       " 1.583431135643,\n",
       " 1.1386416605164351,\n",
       " 1.4457213670762314,\n",
       " 1.2724915132447168,\n",
       " 1.4368748635637631,\n",
       " 0.4968257990109899,\n",
       " 1.5747098695298796,\n",
       " 1.3832515666956064,\n",
       " 0.72896306805298,\n",
       " 0.6063425193194992,\n",
       " 0.7137381060712178,\n",
       " 1.149998538485105,\n",
       " 0.5283735598519413,\n",
       " 0.864823915928992,\n",
       " 0.6185719098174177,\n",
       " 0.4072701374113866,\n",
       " 1.4910962848164946,\n",
       " 1.2307164013211518,\n",
       " 0.7935352667630488,\n",
       " 1.5105066467091541,\n",
       " 1.149093113579881,\n",
       " 0.4749969546168715,\n",
       " 1.1577682497223782,\n",
       " 1.3018086358526153,\n",
       " 0.4934388465405063,\n",
       " 0.5572770852816489,\n",
       " 0.5771400791424516,\n",
       " 1.0793595062944477,\n",
       " 1.0011997792256477,\n",
       " 1.6509120451225825,\n",
       " 0.4224806817931459,\n",
       " 0.578692081316437,\n",
       " 1.3897991736148718,\n",
       " 0.9043973743655372,\n",
       " 1.4777050455540894,\n",
       " 0.9388459959314422,\n",
       " 1.5989235052537343,\n",
       " 1.8605031495489293,\n",
       " 0.2926941321632355,\n",
       " 1.0755063456506373,\n",
       " 0.9991745537669313,\n",
       " 0.06734628801995879,\n",
       " 1.0158078418445111,\n",
       " 0.9608461018366057,\n",
       " 0.38842952808096687,\n",
       " 1.025297211075732,\n",
       " 0.6816954346764671,\n",
       " 0.9256029134850141,\n",
       " 1.1378171940036033,\n",
       " 1.2797607870844496,\n",
       " 1.2334214729560415,\n",
       " 1.3200878655048767,\n",
       " 0.9149495391840912,\n",
       " 1.0765996485976541,\n",
       " 0.9429748568394797,\n",
       " 0.9881274230302391,\n",
       " 1.0873930521351018,\n",
       " 0.4067987366893775,\n",
       " 1.4482174614133263,\n",
       " 1.3188588879749745,\n",
       " 0.9258305582964536,\n",
       " 1.1714127557971294,\n",
       " 0.7135075451709897,\n",
       " 1.0768596399989776,\n",
       " 1.0243301656967798,\n",
       " 1.3208211035737039,\n",
       " 1.3788201952201393,\n",
       " 1.156482488501013,\n",
       " 0.6624957681007717,\n",
       " 0.5785287843049481,\n",
       " 0.8747309456854329,\n",
       " 0.6445702333187416,\n",
       " 0.7527137785083744,\n",
       " 0.3424394856070224,\n",
       " 1.0110487184488701,\n",
       " 1.0521311963293631,\n",
       " 1.1017850005226397,\n",
       " 0.7864807520838052,\n",
       " 0.7465515217351911,\n",
       " 0.8305855484243992,\n",
       " 1.6399619185666923,\n",
       " 0.9201638062260951,\n",
       " 0.8161667226589057,\n",
       " 0.9534060765034456,\n",
       " 1.2938721951795058,\n",
       " 1.3347791902528172,\n",
       " 1.0902844114646615,\n",
       " 1.429643970947652,\n",
       " 0.2902792688705579,\n",
       " 0.565411309984561,\n",
       " 1.3175126968782427,\n",
       " 1.1512304334121741,\n",
       " 1.4064464101355507,\n",
       " 0.9260158588792596,\n",
       " 1.2140679596357402,\n",
       " 1.3602102481362288,\n",
       " 1.184025749346234,\n",
       " 1.0277848226102666,\n",
       " 1.3179403857772722,\n",
       " 1.5395083907824907,\n",
       " 0.5981612277121738,\n",
       " 1.443808470192054,\n",
       " 0.7327949349985495,\n",
       " 1.6815715995481564,\n",
       " 0.6661206607774836,\n",
       " 0.9644065518798965,\n",
       " 0.906924076964301,\n",
       " 0.9576034581808199,\n",
       " 0.8821203279582718,\n",
       " 0.798022386579406,\n",
       " 0.6782689819064516,\n",
       " 0.4222191001067467,\n",
       " 0.556099482050779,\n",
       " 1.2300773137240788,\n",
       " 0.7489107991780418,\n",
       " 0.4173020764736397,\n",
       " 1.0895222225486632,\n",
       " 0.9669883646629257,\n",
       " 0.8886898911116529,\n",
       " 1.483842359142666,\n",
       " 1.0954361043430896,\n",
       " 0.9972094383043573,\n",
       " 1.4407864598377442,\n",
       " 0.3696341692508459,\n",
       " 0.9811981614266206,\n",
       " 1.0568946034197806,\n",
       " 0.23557637085810934,\n",
       " 0.42495036267701647,\n",
       " 0.8807521819090184,\n",
       " 0.461387651584495,\n",
       " 1.6492481867500353,\n",
       " 1.1172059009213164,\n",
       " 0.33049963201501453,\n",
       " 0.7963171638840988,\n",
       " 1.823653368185684,\n",
       " 1.1721990301492373,\n",
       " 0.49336448832879776,\n",
       " 1.088739889368064,\n",
       " 1.1202186927429696,\n",
       " 1.1584383686466762,\n",
       " 0.5638393310216812,\n",
       " 1.7889846215570038,\n",
       " 1.1630021806091975,\n",
       " 0.9712195840067565,\n",
       " 1.0603496965133994,\n",
       " 1.1191670523940456,\n",
       " 0.14280694239387248,\n",
       " 1.0425868185443128,\n",
       " 1.3557588572710229,\n",
       " 0.9276242606039483,\n",
       " 0.7907121811804113,\n",
       " 0.7396930922547967,\n",
       " 0.8412328115153083,\n",
       " 0.9299140062841114,\n",
       " 0.42929746754573717,\n",
       " 0.42504170370351235,\n",
       " 1.3186375000574055,\n",
       " 0.9290018552715936,\n",
       " 1.40888320387129,\n",
       " 1.2271473772529284,\n",
       " 0.21220728793202404,\n",
       " 1.754962817037638,\n",
       " 0.438897693594101,\n",
       " 1.1182940169918614,\n",
       " 1.6135799124778,\n",
       " 1.206580040761024,\n",
       " 1.100371888236383,\n",
       " 1.1188805892161358,\n",
       " 1.3184809059903737,\n",
       " 0.6691544534485588,\n",
       " 0.46040273627965944,\n",
       " 1.4535286322033443,\n",
       " 0.9430931808820499,\n",
       " 1.0351884745862932,\n",
       " 1.1405608044903144,\n",
       " 0.1524710245203461,\n",
       " 0.49916375591747086,\n",
       " 0.4732428754892035,\n",
       " 0.7922849795917432,\n",
       " 0.2748766432978381,\n",
       " 0.380778579114443,\n",
       " 0.8247832850166373,\n",
       " 1.179343590389958,\n",
       " 1.29676268215851,\n",
       " 0.9726072269601046,\n",
       " 0.8932093568219361,\n",
       " 1.4861563491532401,\n",
       " 0.8819609033516755,\n",
       " 0.5195988939201929,\n",
       " 1.1357460427710988,\n",
       " 1.1954825817699315,\n",
       " 0.3944588412620885,\n",
       " 1.0891901036342817,\n",
       " 0.5605313458003184,\n",
       " 0.811783743848039,\n",
       " 0.5433947867441637,\n",
       " 1.5635030051622452,\n",
       " 0.6997958605342901,\n",
       " 0.47565576873697313,\n",
       " 0.6898313774042272,\n",
       " 0.7843860567242479,\n",
       " 1.2643793062304827,\n",
       " 0.9988369646837999,\n",
       " 0.4185033071719222,\n",
       " 0.9504516444975862,\n",
       " 0.8258137073700996,\n",
       " 0.6622707962320967,\n",
       " 1.1611694530101007,\n",
       " 0.49548253440673296,\n",
       " 0.49583899511219787,\n",
       " 1.0726738386984842,\n",
       " 1.4018449966073487,\n",
       " 1.4532588495098329,\n",
       " 1.2405371899629447,\n",
       " 0.5548479435835311,\n",
       " 1.3703414460224173,\n",
       " 0.9930484331124745,\n",
       " 0.6216442289653107,\n",
       " 1.6467792331829854,\n",
       " 0.6659832010863568,\n",
       " 1.6537163824361776,\n",
       " 1.2191467819494002,\n",
       " 0.6752868279892505,\n",
       " 1.4853746434883437,\n",
       " 0.7026462879730558,\n",
       " 0.9089635120894141,\n",
       " 1.9121878951651896,\n",
       " 1.4194243018960928,\n",
       " 1.6872310562712745,\n",
       " 0.7460397508824054,\n",
       " 1.6454611597540527,\n",
       " 1.3775762241419494,\n",
       " 0.9829306830931234,\n",
       " 0.8086805399924842,\n",
       " 1.5871144948556464,\n",
       " 1.1684845353606383,\n",
       " 0.7900758208240346,\n",
       " 0.3896755917987882,\n",
       " 1.3473459186846704,\n",
       " 1.2496671157049497,\n",
       " 1.0951378677326746,\n",
       " 0.6864947313655508,\n",
       " 0.5232262140046158,\n",
       " 0.9227942009814997,\n",
       " 1.1835144912019875,\n",
       " 1.4931453628954874,\n",
       " 1.1599434023341795,\n",
       " 0.8591632190575879,\n",
       " 1.7048632276289872,\n",
       " 1.3897392537713191,\n",
       " 0.823774479355944,\n",
       " 1.8145458870928488,\n",
       " 0.7458613596244142,\n",
       " 0.6504715515032206,\n",
       " 1.0155728807062676,\n",
       " 1.0051839940682374,\n",
       " 0.530139813079954,\n",
       " 0.3891280407514337,\n",
       " 0.8970597610849106,\n",
       " 1.0877228206320608,\n",
       " 1.0688762423942146,\n",
       " 1.1850434393125908,\n",
       " 1.3257531635847863,\n",
       " 0.748764912027785,\n",
       " 0.7638256287212416,\n",
       " 0.73380526511427,\n",
       " 0.708094437446782,\n",
       " 0.6204742953173107,\n",
       " 0.8937124235168437,\n",
       " 1.0778567364848057,\n",
       " 1.0696001162823343,\n",
       " 1.199256654719416,\n",
       " 1.5765147320610904,\n",
       " 0.7551172317621339,\n",
       " 0.8304370608772461,\n",
       " 1.7515860159506547,\n",
       " 0.7191004165976004,\n",
       " 1.1018110714046503,\n",
       " 0.9398282783765899,\n",
       " 1.2095537006161023,\n",
       " 1.0911633685534463,\n",
       " 0.9516698608696459,\n",
       " 1.6020361038574127,\n",
       " 1.711270840439648,\n",
       " 1.3288893940298732,\n",
       " 1.5046081317882933,\n",
       " 0.7217397633426941,\n",
       " 0.7829227025813418,\n",
       " 1.17952585840075,\n",
       " 1.4182775396338374,\n",
       " 1.7081268304736308,\n",
       " 1.1315410240308297,\n",
       " 0.05139344004013757,\n",
       " 1.0783498062751349,\n",
       " 0.17790135576165844,\n",
       " 1.0262401226196016,\n",
       " 1.1757720620291292,\n",
       " 1.7924231565187634,\n",
       " 0.7793368702315193,\n",
       " 0.5647957750464309,\n",
       " 0.20394234687084323,\n",
       " 0.8041675267177308,\n",
       " 1.1638483672141344,\n",
       " 0.8409953907899843,\n",
       " 0.7136230336759544,\n",
       " 1.1150619874442547,\n",
       " 0.8348218538687663,\n",
       " 1.0120778819270981,\n",
       " 0.9027577698024046,\n",
       " 1.3447088043678734,\n",
       " 1.3109408588457052,\n",
       " 0.9698023696408806,\n",
       " 1.4714462753419018,\n",
       " 0.9162500674301005,\n",
       " 0.6333742146586863,\n",
       " 0.21137494808294444,\n",
       " 0.5728718639827799,\n",
       " 1.033504323814009,\n",
       " 1.2318226909316068,\n",
       " 1.0523974627815225,\n",
       " 1.4963020592623764,\n",
       " 0.7305386459127584,\n",
       " 1.5944638846161237,\n",
       " 1.2100800757787153,\n",
       " 1.2624188596770665,\n",
       " 0.9873558421109252,\n",
       " 1.5465547210016362,\n",
       " 1.3911632068539164,\n",
       " 1.0176179656782618,\n",
       " 0.7378794717650121,\n",
       " 1.1104396197938295,\n",
       " 1.066459858483344,\n",
       " 0.3605104097487476,\n",
       " 1.326461914858124,\n",
       " 0.8940931586023284,\n",
       " 1.0370067693033949,\n",
       " 1.417263595066556,\n",
       " 0.9375001174636824,\n",
       " 0.8194754661836727,\n",
       " 1.2295751046971093,\n",
       " 1.4317544634246995,\n",
       " 0.5968171905234597,\n",
       " 1.2295610436807816,\n",
       " 1.0699038532851448,\n",
       " 1.7654100645289812,\n",
       " 1.1715801019555228,\n",
       " 1.2760508588401551,\n",
       " 1.2678603215321496,\n",
       " 0.5456790130372521,\n",
       " 1.0188147375984153,\n",
       " 1.030408462093508,\n",
       " 0.8941895271995588,\n",
       " 0.9728990234249042,\n",
       " 1.4922070076501623,\n",
       " 0.9755996700263497,\n",
       " 0.3876201712564662,\n",
       " 0.9063703517662969,\n",
       " 0.46270516662871164,\n",
       " 1.434549643298016,\n",
       " 0.6034274688030462,\n",
       " 0.7400628187357892,\n",
       " 0.6939006713150342,\n",
       " 0.7499042287154667,\n",
       " 0.5872668960201833,\n",
       " 0.41698590590893225,\n",
       " 1.5295762810703553,\n",
       " 0.9665898911941163,\n",
       " 1.6588440611742297,\n",
       " 0.6401719553348431,\n",
       " 1.0369551476468488,\n",
       " 1.5579408109003172,\n",
       " 0.38829373767794084,\n",
       " 0.4008115011573349,\n",
       " 0.4590409369239913,\n",
       " 1.598505374858362,\n",
       " 0.838371689058699,\n",
       " 0.1192840550197426,\n",
       " 0.7654629913714717,\n",
       " 1.3571214945063557,\n",
       " 0.7413447124809552,\n",
       " 0.9238195830456857,\n",
       " 0.8029702357214523,\n",
       " 0.9593992830396567,\n",
       " 0.7801482551420911,\n",
       " 1.566750833781501,\n",
       " 1.3922052596996113,\n",
       " 1.1122707555146882,\n",
       " 1.1880050299241567,\n",
       " 0.8155800511429784,\n",
       " 1.5020673129881537,\n",
       " 1.097295389443108,\n",
       " 1.18810750640319,\n",
       " 1.26008062329448,\n",
       " 1.161280161780514,\n",
       " 0.5782823243599282,\n",
       " 0.4284323250530957,\n",
       " 1.05669347912086,\n",
       " 1.1623748901785143,\n",
       " 1.123030177895184,\n",
       " 0.8554882170536416,\n",
       " 1.0365379713893224,\n",
       " 1.4262508539994354,\n",
       " 0.7131545303838642,\n",
       " 0.9755054745673455,\n",
       " 1.0397229542589719,\n",
       " 0.6196519895721516,\n",
       " 0.46797398898626974,\n",
       " 1.1282904772562068,\n",
       " 0.6298662572938553,\n",
       " 0.7963337284357161,\n",
       " 0.9356987293846342,\n",
       " 0.3064645598323771,\n",
       " 1.1770921067139766,\n",
       " 1.347476209512672,\n",
       " 1.3297981214626897,\n",
       " 0.36727492496210234,\n",
       " 1.6365302240277408,\n",
       " 1.7299918442819622,\n",
       " 1.344288157145125,\n",
       " 1.4016035048447968,\n",
       " 1.1018462162386433,\n",
       " 1.1226065635896387,\n",
       " 0.7734210997140284,\n",
       " 0.9722376487755017,\n",
       " 1.808906283617922,\n",
       " 1.4883713896400823,\n",
       " 1.2597690891968294,\n",
       " 1.3639425966247125,\n",
       " 1.1680546519537174,\n",
       " 0.7921020344821927,\n",
       " 0.6462678141335285,\n",
       " 0.4953171703241187,\n",
       " 0.9651729359599496,\n",
       " 0.9584199815037903,\n",
       " 0.9805885532375728,\n",
       " 1.6445262979884196,\n",
       " 1.3507126280024542,\n",
       " 1.45950865249293,\n",
       " 0.9047788678449382,\n",
       " 0.6329849232639587,\n",
       " 1.24297617055226,\n",
       " 1.477724973379643,\n",
       " 1.1334969349731736,\n",
       " 1.3864265891982175,\n",
       " 0.8123804374114819,\n",
       " 1.398624821180988,\n",
       " 1.2062764934071408,\n",
       " 0.7589480156116246,\n",
       " 1.2738648129932721,\n",
       " 0.8004475964435842,\n",
       " 0.7053036263863952,\n",
       " 1.526978736202276,\n",
       " 0.7928205894163419,\n",
       " 0.29153094570508986,\n",
       " 1.6829872718905492,\n",
       " 0.3296846466162052,\n",
       " 1.5359270749972098,\n",
       " 1.3792992376791005,\n",
       " 0.9045793473455013,\n",
       " 0.8537712010732899,\n",
       " 0.8795379292873085,\n",
       " 1.5086562597394604,\n",
       " 0.5547332879639582,\n",
       " 0.5772809052727532,\n",
       " 1.746205290129251,\n",
       " 1.3035052879870508,\n",
       " 1.0347381829406779,\n",
       " 1.3889817399198316,\n",
       " 1.645217484644936,\n",
       " 0.8129684591771497,\n",
       " 0.5085659952061736,\n",
       " 1.8243956037801157,\n",
       " 0.4952448468990396,\n",
       " 0.6856228029373622,\n",
       " 1.2857318514755476,\n",
       " 0.6627116460301472,\n",
       " 0.8701687552959104,\n",
       " 0.7048914499809893,\n",
       " 1.4642346527831425,\n",
       " 1.1122980877370718,\n",
       " 1.1651547417335069,\n",
       " 1.4638156668787645,\n",
       " 0.5505584699478603,\n",
       " 0.43587082406342914,\n",
       " 0.6350654486613979,\n",
       " 0.7935880146222318,\n",
       " 0.7465872096257913,\n",
       " 1.4765695652365833,\n",
       " 0.9256650597458427,\n",
       " 1.578072874044381,\n",
       " 1.192589846317713,\n",
       " 1.1718230487879917,\n",
       " 1.118078592422398,\n",
       " 0.2277411121470969,\n",
       " 0.6348375788840209,\n",
       " 0.33190410035269846,\n",
       " 1.731089286406381,\n",
       " 1.5992927540184958,\n",
       " 0.7828980765433946,\n",
       " 1.1118533772987056,\n",
       " 1.3117270598597028,\n",
       " 0.20257035222484876,\n",
       " 0.9333446399935642,\n",
       " 1.4854648997974178,\n",
       " 1.306826370956086,\n",
       " 1.5272528347873293,\n",
       " 1.1195016954485189,\n",
       " 0.37822882436727534,\n",
       " 0.9689503250196739,\n",
       " 0.4971234730155678,\n",
       " 0.659827834836859,\n",
       " 0.947921817487869,\n",
       " 1.7302673617430644,\n",
       " 0.668369565772604,\n",
       " 1.9458786526508716,\n",
       " 1.3677528135993842,\n",
       " 0.7740267767801766,\n",
       " 0.8120761924807999,\n",
       " 0.3282833873105042,\n",
       " 1.0834699420061005,\n",
       " 0.9710352119735021,\n",
       " 1.0411150386932309,\n",
       " 1.3375751561159044,\n",
       " 1.1532659716188356,\n",
       " 1.4592455047752169,\n",
       " 0.7019747657483035,\n",
       " 1.3017305624036548,\n",
       " 1.158033465988931,\n",
       " 1.0538031744012302,\n",
       " 1.0475420498637487,\n",
       " 0.6528883169524228,\n",
       " 1.1577473055821335,\n",
       " 0.6004897286985141,\n",
       " 1.7554087086542918,\n",
       " 1.0323287895664472,\n",
       " 1.56520889305646,\n",
       " 0.989917083163202,\n",
       " 1.0313487389055127,\n",
       " 0.2745427229570674,\n",
       " 1.7639522038488202,\n",
       " 0.7115674245463566,\n",
       " 1.0477314422359914,\n",
       " 1.1174152420830956,\n",
       " 0.606415769948714,\n",
       " 1.0753294311288943,\n",
       " 1.2994154413063441,\n",
       " 0.8846125650062401,\n",
       " 0.7943627285767598,\n",
       " 1.096645973828075,\n",
       " 1.200398105038271,\n",
       " 1.6040601097791143,\n",
       " 1.63288606940268,\n",
       " 1.3326659255556699,\n",
       " 0.8038604264224001,\n",
       " 1.1243669809491013,\n",
       " 0.5202298302600908,\n",
       " 0.6191286867328678,\n",
       " 0.9840172982056188,\n",
       " 0.9974840448360673,\n",
       " 0.8107320259494355,\n",
       " 0.7556465841124399,\n",
       " 0.45766328249284405,\n",
       " 1.3804220640730895,\n",
       " 0.8698330876991089,\n",
       " 1.1418602648864402,\n",
       " 1.4408081788871328,\n",
       " 0.8854295128120888,\n",
       " 1.000472788710495,\n",
       " 1.1719902999378307,\n",
       " 0.38724883983301817,\n",
       " 1.0439859595861192,\n",
       " 1.8139985070952034,\n",
       " 0.8895454746565196,\n",
       " 0.36657652527990636,\n",
       " 1.1766088321284869,\n",
       " 1.2080359298221857,\n",
       " 1.3356341202408748,\n",
       " 1.0286241346677558,\n",
       " 1.3032295539658265,\n",
       " 0.7842266980004081,\n",
       " 0.5241499382356911,\n",
       " 1.042600552281277,\n",
       " 1.581476697775008,\n",
       " 0.5844444397317018,\n",
       " 0.4653117523126169,\n",
       " 1.3218604737564519,\n",
       " 1.0664541244374752,\n",
       " 0.7666835521282831,\n",
       " 0.788440952899036,\n",
       " 1.43883750693867,\n",
       " 1.1176231174504676,\n",
       " 0.9135090073619233,\n",
       " 0.7061979219053077,\n",
       " 0.7097935959520042,\n",
       " 1.490327622770451,\n",
       " 0.912030586467716,\n",
       " 0.8185044123064185,\n",
       " 0.9775994384343335,\n",
       " 0.3487983436373522,\n",
       " 1.0300299074995811,\n",
       " 0.9724039067579987,\n",
       " 0.23753434055374123,\n",
       " 0.9396999940583799,\n",
       " 1.42877532270587,\n",
       " 1.6902351298002283,\n",
       " 1.2051399558402314,\n",
       " 1.5130555676338089,\n",
       " 0.737177464692247,\n",
       " 1.5097751272344486,\n",
       " 0.8982761517308422,\n",
       " 1.012118608240034,\n",
       " 1.8011270344217767,\n",
       " 1.4237154067839288,\n",
       " 1.3133327042180314,\n",
       " 1.2161583056370264,\n",
       " 0.6724489121857024,\n",
       " 0.12121647417574732,\n",
       " 1.104682655842347,\n",
       " 1.0618683409669714,\n",
       " 1.3360452724187244,\n",
       " 0.898241586960781,\n",
       " 0.5082100599926604,\n",
       " 1.014860491983709,\n",
       " 0.7563259545241161,\n",
       " 1.1218272216996068,\n",
       " 1.1621752761162418,\n",
       " 0.8011337634580276,\n",
       " 1.1364052981145485,\n",
       " 0.26470581186131104,\n",
       " 0.8576971806357457,\n",
       " 1.0048473378804035,\n",
       " 1.0778669842009547,\n",
       " 0.9712239195844566,\n",
       " 1.3152697950763699,\n",
       " 1.3145391958822792,\n",
       " 1.6975005459348473,\n",
       " 0.8645582932085762,\n",
       " 1.4537366687846607,\n",
       " 0.2047891790531966,\n",
       " 1.204085057421181,\n",
       " 0.9384496846113184,\n",
       " 1.701526228676716,\n",
       " 0.5612613196709283,\n",
       " 0.6310426996620622,\n",
       " 1.425579041430558,\n",
       " 1.3879564223768042,\n",
       " 0.9970973717137074,\n",
       " 0.7517273407386276,\n",
       " 1.4233945047119616,\n",
       " 1.6638521440574594,\n",
       " 1.6713980885255426,\n",
       " 1.534717564132567,\n",
       " 1.6378472987579846,\n",
       " 1.0680347721414225,\n",
       " 0.7807855232198252,\n",
       " 1.1617412085686354,\n",
       " 0.4102048621069605,\n",
       " 0.526512686553117,\n",
       " 1.7700072574928691,\n",
       " 0.7977319261339952,\n",
       " 0.890672718524933,\n",
       " 0.4025059334416028,\n",
       " 0.34156038234032804,\n",
       " 0.9441206666435238,\n",
       " 0.717504053400628,\n",
       " 0.5183928531128968,\n",
       " 1.0378192939545818,\n",
       " 1.0332585369380962,\n",
       " 1.008757596465714,\n",
       " 1.4125295759194012,\n",
       " 0.6502969983974558,\n",
       " 0.2428415869866739,\n",
       " 1.488383122729092,\n",
       " 0.8296839547960481,\n",
       " 1.2907320489066556,\n",
       " 1.013047077125985,\n",
       " 0.9639694751151935,\n",
       " 1.0153140744258784,\n",
       " 0.38506926006265685,\n",
       " 1.0527690954789977,\n",
       " 1.3456442909525566,\n",
       " 0.9383531287111062,\n",
       " 1.2488837383276286,\n",
       " 1.0566227452696397,\n",
       " 1.1068661506071642,\n",
       " 1.735539690159479,\n",
       " 1.0306040267497187,\n",
       " 0.8892330351119765,\n",
       " 1.7919819243616837,\n",
       " 1.343957285768464,\n",
       " 1.3142572918385773,\n",
       " 1.3451869411498074,\n",
       " 1.6292777857595784,\n",
       " 0.4513072454897814,\n",
       " 0.4299633949249423,\n",
       " 0.9210230347789754,\n",
       " 0.21909146681663327,\n",
       " 0.9828523968954198,\n",
       " 0.7686653521277681,\n",
       " 1.0497784161680042,\n",
       " 1.4483265730237629,\n",
       " 0.6795528746459172,\n",
       " 1.1212607048049958,\n",
       " 1.3772193260304517,\n",
       " 0.7742026451897369,\n",
       " 1.1418765118269794,\n",
       " 1.1309848454338671,\n",
       " 0.44945462855848917,\n",
       " 0.6495961632692064,\n",
       " 0.42604415693069997,\n",
       " 1.4488219989855105,\n",
       " 0.9355630859352789,\n",
       " 0.952269283151629,\n",
       " 0.7383296372051187,\n",
       " 0.8472176795831498,\n",
       " 1.2475280199968006,\n",
       " 1.205753295375318,\n",
       " 1.594411958769351,\n",
       " 0.5061974532704141,\n",
       " 0.39727001344716983,\n",
       " 1.2569692490642614,\n",
       " 0.9282835039985496,\n",
       " 1.3128928858220932,\n",
       " 1.3168089834546675,\n",
       " 1.0853937619434881,\n",
       " 1.0715328326631668,\n",
       " 1.5199178673755354,\n",
       " 0.6474227799648722,\n",
       " 0.11786297110607458,\n",
       " 1.128284188502371,\n",
       " 0.9804865461207618,\n",
       " 1.201307170225601,\n",
       " 0.5157578728819419,\n",
       " 1.1842148883115602,\n",
       " 1.4985129833078645,\n",
       " 1.3788594176329707,\n",
       " 0.2713987814227208,\n",
       " 0.8761593264098378,\n",
       " 1.0893502554211603,\n",
       " 1.0913361788566103,\n",
       " 0.8209852447432615,\n",
       " 0.6593130739533359,\n",
       " 0.7397414270374313,\n",
       " 0.7783183929908369,\n",
       " 0.8525625382741503,\n",
       " 0.6699671427121704,\n",
       " 0.6741778822070215,\n",
       " 0.5440683850716915,\n",
       " 0.5515989457531182,\n",
       " 1.075379415052275,\n",
       " 1.6110311207979557,\n",
       " 0.8407321728006203,\n",
       " 1.0785747501934635,\n",
       " 1.3739105678722596,\n",
       " 0.9865558265378063,\n",
       " 0.6466839215822486,\n",
       " 1.6282734880040066,\n",
       " 0.566186333659219,\n",
       " 1.201558618998586,\n",
       " 0.9786504573938747,\n",
       " 1.6928224346914518,\n",
       " 1.5968953407183886,\n",
       " 1.0335371904371211,\n",
       " 0.6532789291051693,\n",
       " 0.323721440184233,\n",
       " 1.3860669876974367,\n",
       " 1.4223017849809776,\n",
       " 0.5410850907015418,\n",
       " 1.1957929626841481,\n",
       " 0.9092575926513533,\n",
       " 1.3791634580696106,\n",
       " 1.4680515372704082,\n",
       " 0.5780388484809686,\n",
       " 1.4553527338039989,\n",
       " 1.120656790768948,\n",
       " 1.2689008430588127,\n",
       " 1.1680883595780092,\n",
       " 1.551739926678458,\n",
       " 1.2191630770398554,\n",
       " 1.6683602075835762,\n",
       " 0.9396583207930922,\n",
       " 0.8098748777704742,\n",
       " 1.8021286863581796,\n",
       " 1.715578455741367,\n",
       " 1.4761657033356606,\n",
       " 0.6032842338149955,\n",
       " 0.18138422916131602,\n",
       " 0.6124515991495139,\n",
       " 1.1101421925424635,\n",
       " 0.39106093828740207,\n",
       " 1.013832406633416,\n",
       " 0.7311081347386509,\n",
       " 0.6688653967935069,\n",
       " 0.8794713249388735,\n",
       " 0.9723342286951704,\n",
       " 0.6995667727809858,\n",
       " 1.1500271279029086,\n",
       " 1.0306297573342853,\n",
       " 0.8564292931400667,\n",
       " 1.581095048624963,\n",
       " 0.9153056707113889,\n",
       " 1.063558582311885,\n",
       " 0.5418884970117394,\n",
       " 0.3948511096041696,\n",
       " 1.2004912378526504,\n",
       " 1.1758079853959664,\n",
       " 1.092156003483258,\n",
       " 0.7605231910437933,\n",
       " 1.0586924670299478,\n",
       " 0.9908177104439981,\n",
       " 1.288967875350302,\n",
       " 1.5013212161357798,\n",
       " 1.7703469434678647,\n",
       " 1.405354605594575,\n",
       " 1.4435034373142963,\n",
       " 0.5210595293646606,\n",
       " 1.0136232484300038,\n",
       " 0.2887949209647751,\n",
       " 1.091368223177783,\n",
       " 1.2927838245644234,\n",
       " 1.6860930100820433,\n",
       " 0.8868576619146284,\n",
       " 1.2348393358778127,\n",
       " 1.1316616169942237,\n",
       " 1.2142485785892672,\n",
       " 1.3100565319496589,\n",
       " 0.5959072675295777,\n",
       " 0.9237866841358439,\n",
       " 0.7933826727906873,\n",
       " 0.6742441523914104,\n",
       " 0.3835682070881292,\n",
       " 1.146057502788473,\n",
       " 1.2514641116098817,\n",
       " 0.27297116043543435,\n",
       " 0.9565708170625842,\n",
       " 0.7722305392363382,\n",
       " 1.0808734558444602,\n",
       " 0.8352513109200206,\n",
       " 0.8536500675644482,\n",
       " 1.2496443974348315,\n",
       " 0.6655756001159386,\n",
       " 0.9726070583700701,\n",
       " 0.558173188057133,\n",
       " 0.8173067949386842,\n",
       " 0.5827634577430941,\n",
       " 1.297335746404452,\n",
       " 0.8046416759482563,\n",
       " 0.5195276219050794,\n",
       " 0.6798015913330585,\n",
       " 0.874578226637843,\n",
       " 1.2989912478238514,\n",
       " 0.7517457893367503,\n",
       " 1.6130633967149914,\n",
       " 0.5188309056405155,\n",
       " 1.1658430490612002,\n",
       " 1.4520947133295081,\n",
       " 0.5329049414885589,\n",
       " 1.6347022206371387,\n",
       " 0.9065120836357653,\n",
       " 1.3294245131322855,\n",
       " 0.3281291252445995,\n",
       " 1.0882009760244329,\n",
       " 1.1084582198680697,\n",
       " 0.6117967910856791,\n",
       " 0.9484308703412415,\n",
       " 0.970146184292317,\n",
       " 0.9609581205468513,\n",
       " 1.2826381849355126,\n",
       " 0.8901271198279106,\n",
       " 1.2858563113796284,\n",
       " 0.6944059123171452,\n",
       " 1.1641027150504235,\n",
       " 1.5482030116929546,\n",
       " 0.8167093394876613,\n",
       " 0.9522219573313364,\n",
       " 0.7210755568947914,\n",
       " 1.5505058548714303,\n",
       " 1.3702295761382546,\n",
       " 0.7116754938130249,\n",
       " 0.57997574929655,\n",
       " 0.9449888591218532,\n",
       " 0.9631085993403109,\n",
       " 0.6873220099068964,\n",
       " 1.238929560776221,\n",
       " 0.4586137105001622,\n",
       " 0.8091824584856325,\n",
       " 0.9338376139542798,\n",
       " 1.052310368555736,\n",
       " 1.1157184992647675,\n",
       " 1.0438115837598363,\n",
       " 1.487324747925212,\n",
       " 1.21667196018367,\n",
       " 0.49798401661272773,\n",
       " 1.7316532123829775,\n",
       " 0.195251522325812,\n",
       " 1.08166997649086,\n",
       " 0.607249338179454,\n",
       " 0.9195335258730815,\n",
       " 0.9382686008459373,\n",
       " 1.527096618159783,\n",
       " 1.8348453748299138,\n",
       " 1.1831690761999694,\n",
       " 1.431287327161387,\n",
       " 1.5436358920146058,\n",
       " 0.6203231405214081,\n",
       " 0.1346601601543258,\n",
       " 1.074764869486574,\n",
       " 0.35990501181234025,\n",
       " 0.7451587538626417,\n",
       " 0.7992412903266557,\n",
       " 0.4519766034952952,\n",
       " 1.3249402460640445,\n",
       " 1.1756655444142612,\n",
       " 0.910093894263651,\n",
       " 0.4071600634901603,\n",
       " 1.309342330167666,\n",
       " 1.0363166853064765,\n",
       " 1.5090850569835212,\n",
       " 0.1793163361371758,\n",
       " 0.5297366478843839,\n",
       " 1.5316545807318973,\n",
       " 0.7586099105861885,\n",
       " 0.5489999747616383,\n",
       " 0.7502932888427117,\n",
       " 1.407829444307827,\n",
       " 0.5680125532513273,\n",
       " 0.8663815492935601,\n",
       " 0.6818388273125366,\n",
       " 0.7826294321030738,\n",
       " 0.7273773052235892,\n",
       " 0.7311632983867792,\n",
       " 0.34904683900902667,\n",
       " 1.2161845898184938,\n",
       " 0.9726275741444543,\n",
       " 0.2552013184988484,\n",
       " 0.7078988960157425,\n",
       " 1.0661494474500501,\n",
       " 0.7041762479901748,\n",
       " 0.7514891974180826,\n",
       " 1.5034432672907,\n",
       " 0.9756331727539819,\n",
       " 1.2300278142256653,\n",
       " 0.9150715953467585,\n",
       " 0.2060348764191633,\n",
       " 0.5781528144047564,\n",
       " 0.2123799605251443,\n",
       " 1.707343385105975,\n",
       " 0.9621708302054904,\n",
       " 1.618186823067147,\n",
       " 1.227155630893229,\n",
       " 0.4703541707618829,\n",
       " 1.5429838824919466,\n",
       " 0.1364248139409494,\n",
       " 0.5937599188440331,\n",
       " 0.6601971009296429,\n",
       " 1.3262042977100168,\n",
       " 0.8487696669638892,\n",
       " 1.2956455241001716,\n",
       " 1.449043662111201,\n",
       " 0.649060157217451,\n",
       " 1.4354678922259758,\n",
       " 0.19940218955019484,\n",
       " 1.1729026051499476,\n",
       " 1.5734535268260799,\n",
       " 1.36521678008497,\n",
       " 0.848381777785525,\n",
       " 1.4487590924471014,\n",
       " 0.09235484369449176,\n",
       " 1.5772030843748146,\n",
       " 0.7031946430894901,\n",
       " 1.0525646324029165,\n",
       " 1.5279387268598148,\n",
       " 0.6626811409546994,\n",
       " 1.3377070976335121,\n",
       " 0.8069807921527448,\n",
       " 1.1589148236919273,\n",
       " 0.49144771541426036,\n",
       " 0.8685379058840781,\n",
       " 0.5596022994451584,\n",
       " 1.2283162491622464,\n",
       " 1.0551730867088072,\n",
       " 1.2191421326131453,\n",
       " 0.7852821588758738,\n",
       " 1.3976599529608995,\n",
       " 1.7156287324931718,\n",
       " 1.5017983982688576,\n",
       " 0.5857468906268544,\n",
       " 0.5095907556161678,\n",
       " 0.5529364557724166,\n",
       " 1.191578083444905,\n",
       " 0.6269232944407969,\n",
       " 1.0630589917106288,\n",
       " 1.8092389720019102,\n",
       " 0.8425847587549492,\n",
       " 1.5643859374289648,\n",
       " ...]"
      ]
     },
     "execution_count": 79,
     "metadata": {},
     "output_type": "execute_result"
    }
   ],
   "source": [
    "z"
   ]
  },
  {
   "cell_type": "code",
   "execution_count": 81,
   "metadata": {},
   "outputs": [
    {
     "name": "stdout",
     "output_type": "stream",
     "text": [
      "24.3 ms ± 638 µs per loop (mean ± std. dev. of 7 runs, 10 loops each)\n"
     ]
    }
   ],
   "source": [
    "%timeit [x[i] + y[i] for i in range(len(x))]"
   ]
  },
  {
   "cell_type": "code",
   "execution_count": 83,
   "metadata": {},
   "outputs": [
    {
     "name": "stdout",
     "output_type": "stream",
     "text": [
      "[0.37424013 0.91675172 1.02893584 ... 1.04923041 0.41878065 1.40026586]\n"
     ]
    }
   ],
   "source": [
    "import numpy as np\n",
    "xn = np.array(x)\n",
    "yn = np.array(y)\n",
    "zn = xn + yn\n",
    "print(zn)"
   ]
  },
  {
   "cell_type": "code",
   "execution_count": 84,
   "metadata": {},
   "outputs": [
    {
     "name": "stdout",
     "output_type": "stream",
     "text": [
      "99.2 µs ± 416 ns per loop (mean ± std. dev. of 7 runs, 10000 loops each)\n"
     ]
    }
   ],
   "source": [
    "%timeit xn+yn"
   ]
  },
  {
   "cell_type": "code",
   "execution_count": 85,
   "metadata": {},
   "outputs": [
    {
     "name": "stdout",
     "output_type": "stream",
     "text": [
      "[1 2 3]\n"
     ]
    }
   ],
   "source": [
    "x = np.array([1,2,3])\n",
    "print(x)"
   ]
  },
  {
   "cell_type": "code",
   "execution_count": 148,
   "metadata": {},
   "outputs": [
    {
     "name": "stdout",
     "output_type": "stream",
     "text": [
      "[2.  2.5 3. ]\n"
     ]
    }
   ],
   "source": [
    "y = np.linspace(2.0,3.0, num=3)\n",
    "print(y)"
   ]
  },
  {
   "cell_type": "code",
   "execution_count": 97,
   "metadata": {},
   "outputs": [
    {
     "name": "stdout",
     "output_type": "stream",
     "text": [
      "[[ 0  1  2  3]\n",
      " [ 4  5  6  7]\n",
      " [ 8  9 10 11]]\n"
     ]
    }
   ],
   "source": [
    "z = np.arange(12).reshape((3,4))\n",
    "print(z)"
   ]
  },
  {
   "cell_type": "code",
   "execution_count": 103,
   "metadata": {},
   "outputs": [
    {
     "name": "stdout",
     "output_type": "stream",
     "text": [
      "[[0.83193913 0.54974302 0.64356365 0.9361657  0.12076589 0.22731503]\n",
      " [0.44665104 0.52354054 0.79585381 0.40972253 0.78170268 0.1846077 ]]\n"
     ]
    }
   ],
   "source": [
    "ru=np.random.random((2,6))\n",
    "print(ru)"
   ]
  },
  {
   "cell_type": "code",
   "execution_count": 102,
   "metadata": {},
   "outputs": [
    {
     "name": "stdout",
     "output_type": "stream",
     "text": [
      "[[-1.24075174  2.26515633  0.27360674 -0.00815322  0.51963252 -1.46536845]\n",
      " [ 0.76384561 -0.83275422  0.33650421  1.69683308  0.95152219  0.32449882]]\n"
     ]
    }
   ],
   "source": [
    "rn = np.random.normal(0, 1, (2,6))\n",
    "print(rn)"
   ]
  },
  {
   "cell_type": "code",
   "execution_count": 105,
   "metadata": {},
   "outputs": [
    {
     "data": {
      "text/plain": [
       "matrix([[0.83193913, 0.54974302, 0.64356365, 0.9361657 , 0.12076589,\n",
       "         0.22731503],\n",
       "        [0.44665104, 0.52354054, 0.79585381, 0.40972253, 0.78170268,\n",
       "         0.1846077 ]])"
      ]
     },
     "execution_count": 105,
     "metadata": {},
     "output_type": "execute_result"
    }
   ],
   "source": [
    "np.mat(ru)"
   ]
  },
  {
   "cell_type": "code",
   "execution_count": 106,
   "metadata": {},
   "outputs": [
    {
     "data": {
      "text/plain": [
       "matrix([[-1.24075174,  2.26515633,  0.27360674, -0.00815322,  0.51963252,\n",
       "         -1.46536845],\n",
       "        [ 0.76384561, -0.83275422,  0.33650421,  1.69683308,  0.95152219,\n",
       "          0.32449882]])"
      ]
     },
     "execution_count": 106,
     "metadata": {},
     "output_type": "execute_result"
    }
   ],
   "source": [
    "np.mat(rn)"
   ]
  },
  {
   "cell_type": "code",
   "execution_count": 109,
   "metadata": {},
   "outputs": [
    {
     "data": {
      "text/plain": [
       "matrix([[-1.24075174,  0.76384561],\n",
       "        [ 2.26515633, -0.83275422],\n",
       "        [ 0.27360674,  0.33650421],\n",
       "        [-0.00815322,  1.69683308],\n",
       "        [ 0.51963252,  0.95152219],\n",
       "        [-1.46536845,  0.32449882]])"
      ]
     },
     "execution_count": 109,
     "metadata": {},
     "output_type": "execute_result"
    }
   ],
   "source": [
    "np.mat(rn).T"
   ]
  },
  {
   "cell_type": "code",
   "execution_count": 108,
   "metadata": {
    "scrolled": true
   },
   "outputs": [
    {
     "data": {
      "text/plain": [
       "matrix([[0.11112815, 2.17142593],\n",
       "        [0.98180835, 1.67194318]])"
      ]
     },
     "execution_count": 108,
     "metadata": {},
     "output_type": "execute_result"
    }
   ],
   "source": [
    "np.mat(ru) * np.mat(rn).T"
   ]
  },
  {
   "cell_type": "code",
   "execution_count": 112,
   "metadata": {},
   "outputs": [
    {
     "data": {
      "text/plain": [
       "(3.309492418794819, 3.142078308012465, 0.3441221825256586, 0.3441221825256586)"
      ]
     },
     "execution_count": 112,
     "metadata": {},
     "output_type": "execute_result"
    }
   ],
   "source": [
    "sum(ru[0]), sum(ru[1]), sum(rn[0]), sum(rn[0])"
   ]
  },
  {
   "cell_type": "code",
   "execution_count": 113,
   "metadata": {},
   "outputs": [
    {
     "data": {
      "text/plain": [
       "array([[ 0,  1,  2,  3],\n",
       "       [ 4,  5,  6,  7],\n",
       "       [ 8,  9, 10, 11]])"
      ]
     },
     "execution_count": 113,
     "metadata": {},
     "output_type": "execute_result"
    }
   ],
   "source": [
    "z\n"
   ]
  },
  {
   "cell_type": "code",
   "execution_count": 117,
   "metadata": {},
   "outputs": [
    {
     "data": {
      "text/plain": [
       "array([ 6, 22, 38])"
      ]
     },
     "execution_count": 117,
     "metadata": {},
     "output_type": "execute_result"
    }
   ],
   "source": [
    "np.sum(z, axis=0),\n",
    "np.sum(z, axis=1)"
   ]
  },
  {
   "cell_type": "code",
   "execution_count": 124,
   "metadata": {},
   "outputs": [
    {
     "name": "stdout",
     "output_type": "stream",
     "text": [
      "[[0 1]\n",
      " [2 3]]\n",
      "[[0 1]\n",
      " [2 3]]\n"
     ]
    }
   ],
   "source": [
    "v1 = np.arange(4).reshape((2,2))\n",
    "v2 = np.arange(4).reshape((2,2))\n",
    "print(v1)\n",
    "print(v2)"
   ]
  },
  {
   "cell_type": "code",
   "execution_count": 123,
   "metadata": {},
   "outputs": [
    {
     "data": {
      "text/plain": [
       "matrix([[ 2,  3],\n",
       "        [ 6, 11]])"
      ]
     },
     "execution_count": 123,
     "metadata": {},
     "output_type": "execute_result"
    }
   ],
   "source": [
    "np.mat(v1) * np.mat(v2)"
   ]
  },
  {
   "cell_type": "code",
   "execution_count": 143,
   "metadata": {},
   "outputs": [
    {
     "name": "stdout",
     "output_type": "stream",
     "text": [
      "8\n",
      "(5, 6, 8)\n",
      "(5, 6, 7)\n"
     ]
    }
   ],
   "source": [
    "\n",
    "zz = np.arange(5*6*7*8).reshape((5,6,7,8))\n",
    "print(len(zz[0][0][0]))\n",
    "print(np.sum(zz, axis=2).shape)\n",
    "print(np.sum(zz, axis=3).shape)"
   ]
  },
  {
   "cell_type": "code",
   "execution_count": 137,
   "metadata": {},
   "outputs": [],
   "source": [
    "a = np.array([1,2,3])\n",
    "b = np.array([10,20,30])"
   ]
  },
  {
   "cell_type": "code",
   "execution_count": 144,
   "metadata": {},
   "outputs": [
    {
     "data": {
      "text/plain": [
       "array([[ 1, 10],\n",
       "       [ 2, 20],\n",
       "       [ 3, 30]])"
      ]
     },
     "execution_count": 144,
     "metadata": {},
     "output_type": "execute_result"
    }
   ],
   "source": [
    "np.c_[a,b]"
   ]
  },
  {
   "cell_type": "code",
   "execution_count": 145,
   "metadata": {},
   "outputs": [
    {
     "data": {
      "text/plain": [
       "array([[ 1,  2,  3],\n",
       "       [10, 20, 30]])"
      ]
     },
     "execution_count": 145,
     "metadata": {},
     "output_type": "execute_result"
    }
   ],
   "source": [
    "np.vstack((a,b))"
   ]
  },
  {
   "cell_type": "code",
   "execution_count": 146,
   "metadata": {},
   "outputs": [
    {
     "data": {
      "text/plain": [
       "array([ 1,  2,  3, 10, 20, 30])"
      ]
     },
     "execution_count": 146,
     "metadata": {},
     "output_type": "execute_result"
    }
   ],
   "source": [
    "np.hstack((a,b))"
   ]
  },
  {
   "cell_type": "code",
   "execution_count": 147,
   "metadata": {},
   "outputs": [
    {
     "data": {
      "text/plain": [
       "array([2.        , 2.33333333, 2.66666667, 3.        ])"
      ]
     },
     "execution_count": 147,
     "metadata": {},
     "output_type": "execute_result"
    }
   ],
   "source": [
    "y"
   ]
  },
  {
   "cell_type": "code",
   "execution_count": 152,
   "metadata": {},
   "outputs": [
    {
     "name": "stdout",
     "output_type": "stream",
     "text": [
      "[1 2 3] [2.  2.5 3. ] [[2. ]\n",
      " [2.5]\n",
      " [3. ]] (3,) (3,) (3, 1)\n"
     ]
    }
   ],
   "source": [
    "x = np.array([1,2,3])\n",
    "y = np.linspace(2.0,3.0, num=3)\n",
    "y1=y.reshape((3,1))\n",
    "print(x, y, y1, x.shape, y.shape, y1.shape)"
   ]
  },
  {
   "cell_type": "code",
   "execution_count": 153,
   "metadata": {},
   "outputs": [
    {
     "data": {
      "text/plain": [
       "array([[3. , 4. , 5. ],\n",
       "       [3.5, 4.5, 5.5],\n",
       "       [4. , 5. , 6. ]])"
      ]
     },
     "execution_count": 153,
     "metadata": {},
     "output_type": "execute_result"
    }
   ],
   "source": [
    "x + y1\n"
   ]
  },
  {
   "cell_type": "code",
   "execution_count": 154,
   "metadata": {},
   "outputs": [
    {
     "data": {
      "text/plain": [
       "array([3. , 4.5, 6. ])"
      ]
     },
     "execution_count": 154,
     "metadata": {},
     "output_type": "execute_result"
    }
   ],
   "source": [
    "x + y\n"
   ]
  },
  {
   "cell_type": "code",
   "execution_count": 155,
   "metadata": {},
   "outputs": [],
   "source": [
    "xx = np.linspace(-20, 20, num=1000\n",
    "                )"
   ]
  },
  {
   "cell_type": "code",
   "execution_count": 156,
   "metadata": {},
   "outputs": [
    {
     "data": {
      "text/plain": [
       "array([-20.        , -19.95995996, -19.91991992, -19.87987988,\n",
       "       -19.83983984, -19.7997998 , -19.75975976, -19.71971972,\n",
       "       -19.67967968, -19.63963964, -19.5995996 , -19.55955956,\n",
       "       -19.51951952, -19.47947948, -19.43943944, -19.3993994 ,\n",
       "       -19.35935936, -19.31931932, -19.27927928, -19.23923924,\n",
       "       -19.1991992 , -19.15915916, -19.11911912, -19.07907908,\n",
       "       -19.03903904, -18.998999  , -18.95895896, -18.91891892,\n",
       "       -18.87887888, -18.83883884, -18.7987988 , -18.75875876,\n",
       "       -18.71871872, -18.67867868, -18.63863864, -18.5985986 ,\n",
       "       -18.55855856, -18.51851852, -18.47847848, -18.43843844,\n",
       "       -18.3983984 , -18.35835836, -18.31831832, -18.27827828,\n",
       "       -18.23823824, -18.1981982 , -18.15815816, -18.11811812,\n",
       "       -18.07807808, -18.03803804, -17.997998  , -17.95795796,\n",
       "       -17.91791792, -17.87787788, -17.83783784, -17.7977978 ,\n",
       "       -17.75775776, -17.71771772, -17.67767768, -17.63763764,\n",
       "       -17.5975976 , -17.55755756, -17.51751752, -17.47747748,\n",
       "       -17.43743744, -17.3973974 , -17.35735736, -17.31731732,\n",
       "       -17.27727728, -17.23723724, -17.1971972 , -17.15715716,\n",
       "       -17.11711712, -17.07707708, -17.03703704, -16.996997  ,\n",
       "       -16.95695696, -16.91691692, -16.87687688, -16.83683684,\n",
       "       -16.7967968 , -16.75675676, -16.71671672, -16.67667668,\n",
       "       -16.63663664, -16.5965966 , -16.55655656, -16.51651652,\n",
       "       -16.47647648, -16.43643644, -16.3963964 , -16.35635636,\n",
       "       -16.31631632, -16.27627628, -16.23623624, -16.1961962 ,\n",
       "       -16.15615616, -16.11611612, -16.07607608, -16.03603604,\n",
       "       -15.995996  , -15.95595596, -15.91591592, -15.87587588,\n",
       "       -15.83583584, -15.7957958 , -15.75575576, -15.71571572,\n",
       "       -15.67567568, -15.63563564, -15.5955956 , -15.55555556,\n",
       "       -15.51551552, -15.47547548, -15.43543544, -15.3953954 ,\n",
       "       -15.35535536, -15.31531532, -15.27527528, -15.23523524,\n",
       "       -15.1951952 , -15.15515516, -15.11511512, -15.07507508,\n",
       "       -15.03503504, -14.99499499, -14.95495495, -14.91491491,\n",
       "       -14.87487487, -14.83483483, -14.79479479, -14.75475475,\n",
       "       -14.71471471, -14.67467467, -14.63463463, -14.59459459,\n",
       "       -14.55455455, -14.51451451, -14.47447447, -14.43443443,\n",
       "       -14.39439439, -14.35435435, -14.31431431, -14.27427427,\n",
       "       -14.23423423, -14.19419419, -14.15415415, -14.11411411,\n",
       "       -14.07407407, -14.03403403, -13.99399399, -13.95395395,\n",
       "       -13.91391391, -13.87387387, -13.83383383, -13.79379379,\n",
       "       -13.75375375, -13.71371371, -13.67367367, -13.63363363,\n",
       "       -13.59359359, -13.55355355, -13.51351351, -13.47347347,\n",
       "       -13.43343343, -13.39339339, -13.35335335, -13.31331331,\n",
       "       -13.27327327, -13.23323323, -13.19319319, -13.15315315,\n",
       "       -13.11311311, -13.07307307, -13.03303303, -12.99299299,\n",
       "       -12.95295295, -12.91291291, -12.87287287, -12.83283283,\n",
       "       -12.79279279, -12.75275275, -12.71271271, -12.67267267,\n",
       "       -12.63263263, -12.59259259, -12.55255255, -12.51251251,\n",
       "       -12.47247247, -12.43243243, -12.39239239, -12.35235235,\n",
       "       -12.31231231, -12.27227227, -12.23223223, -12.19219219,\n",
       "       -12.15215215, -12.11211211, -12.07207207, -12.03203203,\n",
       "       -11.99199199, -11.95195195, -11.91191191, -11.87187187,\n",
       "       -11.83183183, -11.79179179, -11.75175175, -11.71171171,\n",
       "       -11.67167167, -11.63163163, -11.59159159, -11.55155155,\n",
       "       -11.51151151, -11.47147147, -11.43143143, -11.39139139,\n",
       "       -11.35135135, -11.31131131, -11.27127127, -11.23123123,\n",
       "       -11.19119119, -11.15115115, -11.11111111, -11.07107107,\n",
       "       -11.03103103, -10.99099099, -10.95095095, -10.91091091,\n",
       "       -10.87087087, -10.83083083, -10.79079079, -10.75075075,\n",
       "       -10.71071071, -10.67067067, -10.63063063, -10.59059059,\n",
       "       -10.55055055, -10.51051051, -10.47047047, -10.43043043,\n",
       "       -10.39039039, -10.35035035, -10.31031031, -10.27027027,\n",
       "       -10.23023023, -10.19019019, -10.15015015, -10.11011011,\n",
       "       -10.07007007, -10.03003003,  -9.98998999,  -9.94994995,\n",
       "        -9.90990991,  -9.86986987,  -9.82982983,  -9.78978979,\n",
       "        -9.74974975,  -9.70970971,  -9.66966967,  -9.62962963,\n",
       "        -9.58958959,  -9.54954955,  -9.50950951,  -9.46946947,\n",
       "        -9.42942943,  -9.38938939,  -9.34934935,  -9.30930931,\n",
       "        -9.26926927,  -9.22922923,  -9.18918919,  -9.14914915,\n",
       "        -9.10910911,  -9.06906907,  -9.02902903,  -8.98898899,\n",
       "        -8.94894895,  -8.90890891,  -8.86886887,  -8.82882883,\n",
       "        -8.78878879,  -8.74874875,  -8.70870871,  -8.66866867,\n",
       "        -8.62862863,  -8.58858859,  -8.54854855,  -8.50850851,\n",
       "        -8.46846847,  -8.42842843,  -8.38838839,  -8.34834835,\n",
       "        -8.30830831,  -8.26826827,  -8.22822823,  -8.18818819,\n",
       "        -8.14814815,  -8.10810811,  -8.06806807,  -8.02802803,\n",
       "        -7.98798799,  -7.94794795,  -7.90790791,  -7.86786787,\n",
       "        -7.82782783,  -7.78778779,  -7.74774775,  -7.70770771,\n",
       "        -7.66766767,  -7.62762763,  -7.58758759,  -7.54754755,\n",
       "        -7.50750751,  -7.46746747,  -7.42742743,  -7.38738739,\n",
       "        -7.34734735,  -7.30730731,  -7.26726727,  -7.22722723,\n",
       "        -7.18718719,  -7.14714715,  -7.10710711,  -7.06706707,\n",
       "        -7.02702703,  -6.98698699,  -6.94694695,  -6.90690691,\n",
       "        -6.86686687,  -6.82682683,  -6.78678679,  -6.74674675,\n",
       "        -6.70670671,  -6.66666667,  -6.62662663,  -6.58658659,\n",
       "        -6.54654655,  -6.50650651,  -6.46646647,  -6.42642643,\n",
       "        -6.38638639,  -6.34634635,  -6.30630631,  -6.26626627,\n",
       "        -6.22622623,  -6.18618619,  -6.14614615,  -6.10610611,\n",
       "        -6.06606607,  -6.02602603,  -5.98598599,  -5.94594595,\n",
       "        -5.90590591,  -5.86586587,  -5.82582583,  -5.78578579,\n",
       "        -5.74574575,  -5.70570571,  -5.66566567,  -5.62562563,\n",
       "        -5.58558559,  -5.54554555,  -5.50550551,  -5.46546547,\n",
       "        -5.42542543,  -5.38538539,  -5.34534535,  -5.30530531,\n",
       "        -5.26526527,  -5.22522523,  -5.18518519,  -5.14514515,\n",
       "        -5.10510511,  -5.06506507,  -5.02502503,  -4.98498498,\n",
       "        -4.94494494,  -4.9049049 ,  -4.86486486,  -4.82482482,\n",
       "        -4.78478478,  -4.74474474,  -4.7047047 ,  -4.66466466,\n",
       "        -4.62462462,  -4.58458458,  -4.54454454,  -4.5045045 ,\n",
       "        -4.46446446,  -4.42442442,  -4.38438438,  -4.34434434,\n",
       "        -4.3043043 ,  -4.26426426,  -4.22422422,  -4.18418418,\n",
       "        -4.14414414,  -4.1041041 ,  -4.06406406,  -4.02402402,\n",
       "        -3.98398398,  -3.94394394,  -3.9039039 ,  -3.86386386,\n",
       "        -3.82382382,  -3.78378378,  -3.74374374,  -3.7037037 ,\n",
       "        -3.66366366,  -3.62362362,  -3.58358358,  -3.54354354,\n",
       "        -3.5035035 ,  -3.46346346,  -3.42342342,  -3.38338338,\n",
       "        -3.34334334,  -3.3033033 ,  -3.26326326,  -3.22322322,\n",
       "        -3.18318318,  -3.14314314,  -3.1031031 ,  -3.06306306,\n",
       "        -3.02302302,  -2.98298298,  -2.94294294,  -2.9029029 ,\n",
       "        -2.86286286,  -2.82282282,  -2.78278278,  -2.74274274,\n",
       "        -2.7027027 ,  -2.66266266,  -2.62262262,  -2.58258258,\n",
       "        -2.54254254,  -2.5025025 ,  -2.46246246,  -2.42242242,\n",
       "        -2.38238238,  -2.34234234,  -2.3023023 ,  -2.26226226,\n",
       "        -2.22222222,  -2.18218218,  -2.14214214,  -2.1021021 ,\n",
       "        -2.06206206,  -2.02202202,  -1.98198198,  -1.94194194,\n",
       "        -1.9019019 ,  -1.86186186,  -1.82182182,  -1.78178178,\n",
       "        -1.74174174,  -1.7017017 ,  -1.66166166,  -1.62162162,\n",
       "        -1.58158158,  -1.54154154,  -1.5015015 ,  -1.46146146,\n",
       "        -1.42142142,  -1.38138138,  -1.34134134,  -1.3013013 ,\n",
       "        -1.26126126,  -1.22122122,  -1.18118118,  -1.14114114,\n",
       "        -1.1011011 ,  -1.06106106,  -1.02102102,  -0.98098098,\n",
       "        -0.94094094,  -0.9009009 ,  -0.86086086,  -0.82082082,\n",
       "        -0.78078078,  -0.74074074,  -0.7007007 ,  -0.66066066,\n",
       "        -0.62062062,  -0.58058058,  -0.54054054,  -0.5005005 ,\n",
       "        -0.46046046,  -0.42042042,  -0.38038038,  -0.34034034,\n",
       "        -0.3003003 ,  -0.26026026,  -0.22022022,  -0.18018018,\n",
       "        -0.14014014,  -0.1001001 ,  -0.06006006,  -0.02002002,\n",
       "         0.02002002,   0.06006006,   0.1001001 ,   0.14014014,\n",
       "         0.18018018,   0.22022022,   0.26026026,   0.3003003 ,\n",
       "         0.34034034,   0.38038038,   0.42042042,   0.46046046,\n",
       "         0.5005005 ,   0.54054054,   0.58058058,   0.62062062,\n",
       "         0.66066066,   0.7007007 ,   0.74074074,   0.78078078,\n",
       "         0.82082082,   0.86086086,   0.9009009 ,   0.94094094,\n",
       "         0.98098098,   1.02102102,   1.06106106,   1.1011011 ,\n",
       "         1.14114114,   1.18118118,   1.22122122,   1.26126126,\n",
       "         1.3013013 ,   1.34134134,   1.38138138,   1.42142142,\n",
       "         1.46146146,   1.5015015 ,   1.54154154,   1.58158158,\n",
       "         1.62162162,   1.66166166,   1.7017017 ,   1.74174174,\n",
       "         1.78178178,   1.82182182,   1.86186186,   1.9019019 ,\n",
       "         1.94194194,   1.98198198,   2.02202202,   2.06206206,\n",
       "         2.1021021 ,   2.14214214,   2.18218218,   2.22222222,\n",
       "         2.26226226,   2.3023023 ,   2.34234234,   2.38238238,\n",
       "         2.42242242,   2.46246246,   2.5025025 ,   2.54254254,\n",
       "         2.58258258,   2.62262262,   2.66266266,   2.7027027 ,\n",
       "         2.74274274,   2.78278278,   2.82282282,   2.86286286,\n",
       "         2.9029029 ,   2.94294294,   2.98298298,   3.02302302,\n",
       "         3.06306306,   3.1031031 ,   3.14314314,   3.18318318,\n",
       "         3.22322322,   3.26326326,   3.3033033 ,   3.34334334,\n",
       "         3.38338338,   3.42342342,   3.46346346,   3.5035035 ,\n",
       "         3.54354354,   3.58358358,   3.62362362,   3.66366366,\n",
       "         3.7037037 ,   3.74374374,   3.78378378,   3.82382382,\n",
       "         3.86386386,   3.9039039 ,   3.94394394,   3.98398398,\n",
       "         4.02402402,   4.06406406,   4.1041041 ,   4.14414414,\n",
       "         4.18418418,   4.22422422,   4.26426426,   4.3043043 ,\n",
       "         4.34434434,   4.38438438,   4.42442442,   4.46446446,\n",
       "         4.5045045 ,   4.54454454,   4.58458458,   4.62462462,\n",
       "         4.66466466,   4.7047047 ,   4.74474474,   4.78478478,\n",
       "         4.82482482,   4.86486486,   4.9049049 ,   4.94494494,\n",
       "         4.98498498,   5.02502503,   5.06506507,   5.10510511,\n",
       "         5.14514515,   5.18518519,   5.22522523,   5.26526527,\n",
       "         5.30530531,   5.34534535,   5.38538539,   5.42542543,\n",
       "         5.46546547,   5.50550551,   5.54554555,   5.58558559,\n",
       "         5.62562563,   5.66566567,   5.70570571,   5.74574575,\n",
       "         5.78578579,   5.82582583,   5.86586587,   5.90590591,\n",
       "         5.94594595,   5.98598599,   6.02602603,   6.06606607,\n",
       "         6.10610611,   6.14614615,   6.18618619,   6.22622623,\n",
       "         6.26626627,   6.30630631,   6.34634635,   6.38638639,\n",
       "         6.42642643,   6.46646647,   6.50650651,   6.54654655,\n",
       "         6.58658659,   6.62662663,   6.66666667,   6.70670671,\n",
       "         6.74674675,   6.78678679,   6.82682683,   6.86686687,\n",
       "         6.90690691,   6.94694695,   6.98698699,   7.02702703,\n",
       "         7.06706707,   7.10710711,   7.14714715,   7.18718719,\n",
       "         7.22722723,   7.26726727,   7.30730731,   7.34734735,\n",
       "         7.38738739,   7.42742743,   7.46746747,   7.50750751,\n",
       "         7.54754755,   7.58758759,   7.62762763,   7.66766767,\n",
       "         7.70770771,   7.74774775,   7.78778779,   7.82782783,\n",
       "         7.86786787,   7.90790791,   7.94794795,   7.98798799,\n",
       "         8.02802803,   8.06806807,   8.10810811,   8.14814815,\n",
       "         8.18818819,   8.22822823,   8.26826827,   8.30830831,\n",
       "         8.34834835,   8.38838839,   8.42842843,   8.46846847,\n",
       "         8.50850851,   8.54854855,   8.58858859,   8.62862863,\n",
       "         8.66866867,   8.70870871,   8.74874875,   8.78878879,\n",
       "         8.82882883,   8.86886887,   8.90890891,   8.94894895,\n",
       "         8.98898899,   9.02902903,   9.06906907,   9.10910911,\n",
       "         9.14914915,   9.18918919,   9.22922923,   9.26926927,\n",
       "         9.30930931,   9.34934935,   9.38938939,   9.42942943,\n",
       "         9.46946947,   9.50950951,   9.54954955,   9.58958959,\n",
       "         9.62962963,   9.66966967,   9.70970971,   9.74974975,\n",
       "         9.78978979,   9.82982983,   9.86986987,   9.90990991,\n",
       "         9.94994995,   9.98998999,  10.03003003,  10.07007007,\n",
       "        10.11011011,  10.15015015,  10.19019019,  10.23023023,\n",
       "        10.27027027,  10.31031031,  10.35035035,  10.39039039,\n",
       "        10.43043043,  10.47047047,  10.51051051,  10.55055055,\n",
       "        10.59059059,  10.63063063,  10.67067067,  10.71071071,\n",
       "        10.75075075,  10.79079079,  10.83083083,  10.87087087,\n",
       "        10.91091091,  10.95095095,  10.99099099,  11.03103103,\n",
       "        11.07107107,  11.11111111,  11.15115115,  11.19119119,\n",
       "        11.23123123,  11.27127127,  11.31131131,  11.35135135,\n",
       "        11.39139139,  11.43143143,  11.47147147,  11.51151151,\n",
       "        11.55155155,  11.59159159,  11.63163163,  11.67167167,\n",
       "        11.71171171,  11.75175175,  11.79179179,  11.83183183,\n",
       "        11.87187187,  11.91191191,  11.95195195,  11.99199199,\n",
       "        12.03203203,  12.07207207,  12.11211211,  12.15215215,\n",
       "        12.19219219,  12.23223223,  12.27227227,  12.31231231,\n",
       "        12.35235235,  12.39239239,  12.43243243,  12.47247247,\n",
       "        12.51251251,  12.55255255,  12.59259259,  12.63263263,\n",
       "        12.67267267,  12.71271271,  12.75275275,  12.79279279,\n",
       "        12.83283283,  12.87287287,  12.91291291,  12.95295295,\n",
       "        12.99299299,  13.03303303,  13.07307307,  13.11311311,\n",
       "        13.15315315,  13.19319319,  13.23323323,  13.27327327,\n",
       "        13.31331331,  13.35335335,  13.39339339,  13.43343343,\n",
       "        13.47347347,  13.51351351,  13.55355355,  13.59359359,\n",
       "        13.63363363,  13.67367367,  13.71371371,  13.75375375,\n",
       "        13.79379379,  13.83383383,  13.87387387,  13.91391391,\n",
       "        13.95395395,  13.99399399,  14.03403403,  14.07407407,\n",
       "        14.11411411,  14.15415415,  14.19419419,  14.23423423,\n",
       "        14.27427427,  14.31431431,  14.35435435,  14.39439439,\n",
       "        14.43443443,  14.47447447,  14.51451451,  14.55455455,\n",
       "        14.59459459,  14.63463463,  14.67467467,  14.71471471,\n",
       "        14.75475475,  14.79479479,  14.83483483,  14.87487487,\n",
       "        14.91491491,  14.95495495,  14.99499499,  15.03503504,\n",
       "        15.07507508,  15.11511512,  15.15515516,  15.1951952 ,\n",
       "        15.23523524,  15.27527528,  15.31531532,  15.35535536,\n",
       "        15.3953954 ,  15.43543544,  15.47547548,  15.51551552,\n",
       "        15.55555556,  15.5955956 ,  15.63563564,  15.67567568,\n",
       "        15.71571572,  15.75575576,  15.7957958 ,  15.83583584,\n",
       "        15.87587588,  15.91591592,  15.95595596,  15.995996  ,\n",
       "        16.03603604,  16.07607608,  16.11611612,  16.15615616,\n",
       "        16.1961962 ,  16.23623624,  16.27627628,  16.31631632,\n",
       "        16.35635636,  16.3963964 ,  16.43643644,  16.47647648,\n",
       "        16.51651652,  16.55655656,  16.5965966 ,  16.63663664,\n",
       "        16.67667668,  16.71671672,  16.75675676,  16.7967968 ,\n",
       "        16.83683684,  16.87687688,  16.91691692,  16.95695696,\n",
       "        16.996997  ,  17.03703704,  17.07707708,  17.11711712,\n",
       "        17.15715716,  17.1971972 ,  17.23723724,  17.27727728,\n",
       "        17.31731732,  17.35735736,  17.3973974 ,  17.43743744,\n",
       "        17.47747748,  17.51751752,  17.55755756,  17.5975976 ,\n",
       "        17.63763764,  17.67767768,  17.71771772,  17.75775776,\n",
       "        17.7977978 ,  17.83783784,  17.87787788,  17.91791792,\n",
       "        17.95795796,  17.997998  ,  18.03803804,  18.07807808,\n",
       "        18.11811812,  18.15815816,  18.1981982 ,  18.23823824,\n",
       "        18.27827828,  18.31831832,  18.35835836,  18.3983984 ,\n",
       "        18.43843844,  18.47847848,  18.51851852,  18.55855856,\n",
       "        18.5985986 ,  18.63863864,  18.67867868,  18.71871872,\n",
       "        18.75875876,  18.7987988 ,  18.83883884,  18.87887888,\n",
       "        18.91891892,  18.95895896,  18.998999  ,  19.03903904,\n",
       "        19.07907908,  19.11911912,  19.15915916,  19.1991992 ,\n",
       "        19.23923924,  19.27927928,  19.31931932,  19.35935936,\n",
       "        19.3993994 ,  19.43943944,  19.47947948,  19.51951952,\n",
       "        19.55955956,  19.5995996 ,  19.63963964,  19.67967968,\n",
       "        19.71971972,  19.75975976,  19.7997998 ,  19.83983984,\n",
       "        19.87987988,  19.91991992,  19.95995996,  20.        ])"
      ]
     },
     "execution_count": 156,
     "metadata": {},
     "output_type": "execute_result"
    }
   ],
   "source": [
    "xx"
   ]
  },
  {
   "cell_type": "code",
   "execution_count": 157,
   "metadata": {},
   "outputs": [
    {
     "ename": "NameError",
     "evalue": "name 'sin' is not defined",
     "output_type": "error",
     "traceback": [
      "\u001b[1;31m---------------------------------------------------------------------------\u001b[0m",
      "\u001b[1;31mNameError\u001b[0m                                 Traceback (most recent call last)",
      "\u001b[1;32m<ipython-input-157-025f39ddbe02>\u001b[0m in \u001b[0;36m<module>\u001b[1;34m\u001b[0m\n\u001b[1;32m----> 1\u001b[1;33m \u001b[0msin\u001b[0m\u001b[1;33m(\u001b[0m\u001b[1;36m1\u001b[0m\u001b[1;33m)\u001b[0m\u001b[1;33m\u001b[0m\u001b[1;33m\u001b[0m\u001b[0m\n\u001b[0m",
      "\u001b[1;31mNameError\u001b[0m: name 'sin' is not defined"
     ]
    }
   ],
   "source": [
    "sin(1)\n"
   ]
  },
  {
   "cell_type": "code",
   "execution_count": 158,
   "metadata": {},
   "outputs": [
    {
     "data": {
      "text/plain": [
       "0.479425538604203"
      ]
     },
     "execution_count": 158,
     "metadata": {},
     "output_type": "execute_result"
    }
   ],
   "source": [
    "import math\n",
    "math.sin(0.5)"
   ]
  },
  {
   "cell_type": "code",
   "execution_count": 162,
   "metadata": {},
   "outputs": [
    {
     "name": "stdout",
     "output_type": "stream",
     "text": [
      "[0.9543527374636186, 0.9551162289553977, 0.9559548826437144, 0.9568676607082436, 0.9578534033164678, 0.9589108299737994, 0.9600385410688587, 0.9612350196122383, 0.9624986331667735, 0.9638276359670325, 0.9652201712254379, 0.9666742736221317, 0.9681878719753931, 0.9697587920891365, 0.9713847597737131, 0.9730634040359709, 0.9747922604342367, 0.976568774593618, 0.9783903058767529, 0.9802541312048756, 0.9821574490238121, 0.9840973834092757, 0.9860709883055907, 0.9880752518917468, 0.990107101068461, 0.9921634060597152, 0.9942409851220315, 0.9963366093545558, 0.9984470076028352, 1.000568871449004, 1.0026988602809273, 1.0048336064327013, 1.0069697203887722, 1.0091037960437974, 1.0112324160102686, 1.0133521569657977, 1.0154595950318825, 1.0175513111758863, 1.01962389662789, 1.021673958304034, 1.0236981242279048, 1.0256930489415121, 1.0276554188973646, 1.0295819578231644, 1.0314694320506397, 1.0333146558000594, 1.0351144964120111, 1.0368658795180665, 1.0385657941420268, 1.0402112977235072, 1.041799521055714, 1.0433276731293626, 1.0447930458748016, 1.0461930187945296, 1.047525063478436, 1.0487867479942405, 1.0499757411457733, 1.0510898165919103, 1.0521268568191684, 1.0530848569611568, 1.0539619284582955, 1.0547563025514288, 1.0554663336031969, 1.0560905022412623, 1.0566274183177478, 1.057075823679495, 1.0574345947440331, 1.0577027448764118, 1.057879426562358, 1.0579639333734951, 1.05795570172068, 1.0578543123918127, 1.0576594918708029, 1.0573711134346904, 1.0569891980262534, 1.0565139148997738, 1.0559455820379626, 1.0552846663384021, 1.0545317835682035, 1.0536876980859327, 1.0527533223302115, 1.051729716074762, 1.0506180854500133, 1.0494197817317583, 1.0481362998977044, 1.0467692769531247, 1.0453204900271753, 1.0437918542418079, 1.0421854203555612, 1.040503372184874, 1.0387480238059135, 1.0369218165402674, 1.0350273157281915, 1.0330672072934466, 1.031044294104103, 1.0289614921340142, 1.0268218264299973, 1.0246284268900698, 1.0223845238584142, 1.0200934435430415, 1.0177586032624286, 1.0153835065276882, 1.01297173796712, 1.010526958100255, 1.0080528979687744, 1.005553353631932, 1.0030321805343518, 1.0004932877543062, 0.9979406321407951, 0.9953782123479556, 0.992810062775529, 0.9902402474242913, 0.9876728536755277, 0.9851119860037846, 0.9825617596322788, 0.9800262941404742, 0.9775097070334493, 0.9750161072827841, 0.9725495888487808, 0.9701142241939066, 0.9677140577974036, 0.965353099681059, 0.9630353189561489, 0.9607646374015923, 0.9585449230833434, 0.9563799840250341, 0.9542735619398506, 0.9522293260335757, 0.9502508668886669, 0.9483416904391652, 0.9465052120461326, 0.9447447506832098, 0.9430635232417627, 0.9414646389649468, 0.9399510940198679, 0.9385257662168464, 0.9371914098846164, 0.9359506509100877, 0.9348059819510958, 0.9337597578303366, 0.9328141911184489, 0.9319713479139541, 0.9312331438275058, 0.9306013401776189, 0.9300775404047684, 0.9296631867104439, 0.9293595569274379, 0.9291677616273255, 0.92908874147076, 0.9291232648058694, 0.9292719255196861, 0.9295351411471849, 0.9299131512421337, 0.9304060160135844, 0.9310136152314527, 0.9317356474042379, 0.9325716292315427, 0.9335208953336458, 0.9345825982599755, 0.9357557087779176, 0.9370390164429758, 0.9384311304508809, 0.9399304807718232, 0.9415353195665594, 0.9432437228837149, 0.9450535926371757, 0.9469626588620405, 0.9489684822471692, 0.9510684569419441, 0.9532598136344277, 0.9555396228976878, 0.9579047988006315, 0.960352102779279, 0.9628781477639943, 0.9654794025577823, 0.9681521964603612, 0.9708927241323205, 0.973697050693289, 0.9765611170476532, 0.9794807454309917, 0.9824516451700285, 0.9854694186485478, 0.988529567471368, 0.9916274988181359, 0.994758531978374, 0.9979179050589007, 1.0011007818544375, 1.0043022588719308, 1.0075173724988307, 1.01074110630531, 1.0139683984701515, 1.017194149319797, 1.0204132289698231, 1.0236204850579087, 1.0268107505571578, 1.0299788516584685, 1.0331196157104774, 1.036227879205461, 1.039298495799449, 1.04232634435469, 1.0453063369925188, 1.0482334271445914, 1.051102617590398, 1.0539089684689167, 1.056647605252252, 1.0593137266690853, 1.0619026125657836, 1.0644096316930376, 1.0668302494059427, 1.0691600352655102, 1.0713946705296673, 1.0735299555219127, 1.0755618168659102, 1.077486314574436, 1.0792996489812536, 1.080998167504656, 1.0825783712316093, 1.08403692131163, 1.0853706451497567, 1.0865765423882117, 1.0876517906666077, 1.088593751150821, 1.089399973820942, 1.0900682025090183, 1.090596379677621, 1.0909826509305949, 1.091225369247705, 1.091323098935246, 1.09127461928506, 1.0910789279347886, 1.0907352439225875, 1.090243010429942, 1.0896018972066408, 1.0888118026723983, 1.08787285569006, 1.0867854170057758, 1.0855500803519806, 1.0841676732095062, 1.0826392572256027, 1.0809661282851522, 1.0791498162328312, 1.0771920842444833, 1.075094927846457, 1.0728605735821735, 1.070491477325691, 1.0679903222425489, 1.0653600163986812, 1.0626036900187088, 1.059724692395428, 1.0567265884528336, 1.0536131549655217, 1.0503883764378357, 1.0470564406466212, 1.04362173385197, 1.0400888356808253, 1.0364625136888297, 1.0327477176062791, 1.0289495732745428, 1.0250733762797757, 1.0211245852912372, 1.017108815111982, 1.0130318294501481, 1.0088995334195139, 1.0047179657784298, 1.000493290916652, 0.9962317906000239, 0.991939855483346, 0.9876239764021637, 0.983290735454581, 0.9789467968845602, 0.9745988977785215, 0.9702538385873802, 0.9659184734864784, 0.9615997005861633, 0.9573044520060476, 0.9530396838262533, 0.9488123659291832, 0.9446294717455983, 0.940497967918986, 0.9364248039023978, 0.9324169015021065, 0.9284811443825887, 0.9246243675474664, 0.9208533468111625, 0.9171747882761099, 0.9135953178304334, 0.9101214706810699, 0.9067596809373294, 0.9035162712599022, 0.9003974425903143, 0.8974092639757951, 0.8945576625044716, 0.8918484133657272, 0.8892871300504696, 0.8868792547059328, 0.8846300486595038, 0.8825445831259033, 0.8806277301118728, 0.8788841535323174, 0.8773183005516383, 0.8759343931637423, 0.8747364200239613, 0.8737281285458295, 0.872913017275371, 0.8722943285552301, 0.8718750414906395, 0.8716578652288668, 0.8716452325634098, 0.8718392938738146, 0.8722419114115918, 0.8728546539422741, 0.8736787917532282, 0.8747152920363719, 0.8759648146544845, 0.8774277082993112, 0.8791040070491674, 0.8809934273332413, 0.8830953653092674, 0.8854088946607157, 0.8879327648190924, 0.8906653996163995, 0.893604896372233, 0.8967490254194302, 0.9000952300715985, 0.9036406270352656, 0.9073820072688059, 0.9113158372896952, 0.9154382609310415, 0.919745101547738, 0.9242318646719704, 0.928893741117199, 0.9337256105291257, 0.9387220453815388, 0.9438773154143171, 0.9491853925102615, 0.9546399560068124, 0.9602343984381057, 0.9659618317022103, 0.9718150936478014, 0.9777867550739185, 0.9838691271358798, 0.9900542691498363, 0.9963339967878828, 1.002699890655075, 1.0091433052391499, 1.0156553782232003, 1.0222270401510263, 1.0288490244343593, 1.0355118776906516, 1.0422059703996223, 1.048921507866281, 1.0556485414776693, 1.0623769802401235, 1.0690966025834163, 1.075797068417727, 1.0824679314289778, 1.0890986515977052, 1.0956786079262562, 1.102197111358768, 1.1086434178780549, 1.1150067417632266, 1.1212762689915723, 1.127441170767991, 1.133490617164993, 1.1394137908560904, 1.145199900925189, 1.1508381967344226, 1.1563179818327134, 1.1616286278872217, 1.1667595886197346, 1.1717004137299623, 1.1764407627876596, 1.1809704190754462, 1.1852793033641946, 1.1893574876028687, 1.1931952085047342, 1.1967828810119179, 1.2001111116203937, 1.2031707115475663, 1.2059527097247746, 1.2084483655971847, 1.21064918171373, 1.212546916089961, 1.2141335943268972, 1.2154015214692286, 1.216343293586483, 1.2169518090610836, 1.2172202795675358, 1.2171422407273238, 1.2167115624244667, 1.2159224587670652, 1.2147694976805727, 1.2132476101189609, 1.2113520988803803, 1.2090786470143942, 1.2064233258083388, 1.2033826023408638, 1.1999533465912309, 1.1961328380934737, 1.1919187721250788, 1.1873092654204132, 1.1823028613996964, 1.1768985349049184, 1.1710956964347028, 1.1648941958707406, 1.1582943256890428, 1.1512968236499055, 1.14390287496113, 1.1361141139097017, 1.1279326249577923, 1.1193609432996323, 1.110402054876477, 1.101059395847576, 1.0913368515157458, 1.08123875470684, 1.0707698836031123, 1.0599354590311534, 1.0487411412058005, 1.0371930259320994, 1.0252976402681093, 1.0130619376520302, 1.000493292497829, 0.9875994942642257, 0.9743887410025932, 0.9608696323899915, 0.94705116225424, 0.9329427105985912, 0.9185540351342242, 0.9038952623294257, 0.8889768779849645, 0.8738097173457843, 0.858404954759763, 0.8427740928948793, 0.826928951526721, 0.810881655908838, 0.794644624739006, 0.7782305577350037, 0.761652422834038, 0.7449234430304532, 0.7280570828668576, 0.7110670345942662, 0.6939672040173155, 0.6767716960410328, 0.6594947999360616, 0.6421509743396275, 0.6247548320099028, 0.6073211243517713, 0.5898647257323225, 0.5724006176046996, 0.5549438724592066, 0.5375096376208326, 0.5201131189125776, 0.5027695642041701, 0.48549424686594533, 0.4683024491478044, 0.4512094455033081, 0.434230485879054, 0.41738077898956905, 0.4006754755979961, 0.38412965182287895, 0.36775829249134884, 0.3515762745589863, 0.3355983506165807, 0.31983913250392715, 0.3043130750506945, 0.2890344599642698, 0.2740173798843206, 0.25927572262363907, 0.2448231556146182, 0.230673110580481, 0.21683876845011985, 0.20333304453512568, 0.19016857398727327, 0.1773576975544029, 0.16491244765228086, 0.1528445347696452, 0.14116533422324307, 0.1298858732792435, 0.119016818656969, 0.10856846443042023, 0.09855072034259105, 0.0889731005470592, 0.07984471279082395, 0.07117424805181283, 0.06296997064392817, 0.055239708801924414, 0.04799084575781509, 0.04123031131990973, 0.03496457396494579, 0.02919963345316079, 0.023941013975489533, 0.019193757841421744, 0.014962419715375486, 0.011251061408766305, 0.008063247234261217, 0.005402039928001479, 0.003269997144879744, 0.0016691685312378857, 0.0006010933786333439, 6.679886159977055e-05, 6.679886159977055e-05, 0.0006010933786333439, 0.0016691685312378857, 0.003269997144879744, 0.005402039928001479, 0.008063247234261217, 0.011251061408766305, 0.014962419715375486, 0.019193757841421744, 0.023941013975489533, 0.02919963345316079, 0.03496457396494579, 0.04123031131990973, 0.04799084575781509, 0.055239708801924414, 0.06296997064392817, 0.07117424805181283, 0.07984471279082395, 0.0889731005470592, 0.09855072034259105, 0.10856846443042023, 0.119016818656969, 0.1298858732792435, 0.14116533422324307, 0.1528445347696452, 0.16491244765228086, 0.1773576975544029, 0.19016857398727327, 0.20333304453512568, 0.21683876845011985, 0.230673110580481, 0.2448231556146182, 0.25927572262363907, 0.2740173798843206, 0.2890344599642698, 0.3043130750506945, 0.31983913250392715, 0.3355983506165807, 0.3515762745589863, 0.36775829249134884, 0.38412965182287895, 0.4006754755979961, 0.41738077898956905, 0.434230485879054, 0.4512094455033081, 0.4683024491478044, 0.48549424686594533, 0.5027695642041701, 0.5201131189125776, 0.5375096376208326, 0.5549438724592066, 0.5724006176046996, 0.5898647257323225, 0.6073211243517713, 0.6247548320099028, 0.6421509743396275, 0.6594947999360616, 0.6767716960410328, 0.6939672040173155, 0.7110670345942662, 0.7280570828668576, 0.7449234430304532, 0.761652422834038, 0.7782305577350037, 0.794644624739006, 0.810881655908838, 0.826928951526721, 0.8427740928948793, 0.858404954759763, 0.8738097173457843, 0.8889768779849645, 0.9038952623294257, 0.9185540351342242, 0.9329427105985912, 0.94705116225424, 0.9608696323899915, 0.9743887410025932, 0.9875994942642257, 1.000493292497829, 1.0130619376520302, 1.0252976402681093, 1.0371930259320994, 1.0487411412058005, 1.0599354590311534, 1.0707698836031123, 1.08123875470684, 1.0913368515157458, 1.101059395847576, 1.110402054876477, 1.1193609432996323, 1.1279326249577923, 1.1361141139097017, 1.14390287496113, 1.1512968236499055, 1.1582943256890428, 1.1648941958707406, 1.1710956964347028, 1.1768985349049184, 1.1823028613996964, 1.1873092654204132, 1.1919187721250788, 1.1961328380934735, 1.1999533465912309, 1.2033826023408636, 1.2064233258083386, 1.2090786470143942, 1.21135209888038, 1.2132476101189609, 1.2147694976805727, 1.2159224587670652, 1.2167115624244667, 1.2171422407273236, 1.2172202795675358, 1.2169518090610838, 1.216343293586483, 1.2154015214692286, 1.2141335943268974, 1.212546916089961, 1.2106491817137301, 1.208448365597185, 1.2059527097247749, 1.2031707115475665, 1.200111111620394, 1.196782881011918, 1.1931952085047344, 1.189357487602869, 1.1852793033641946, 1.1809704190754464, 1.1764407627876599, 1.1717004137299625, 1.1667595886197348, 1.161628627887222, 1.1563179818327136, 1.1508381967344228, 1.1451999009251894, 1.1394137908560906, 1.1334906171649932, 1.1274411707679912, 1.1212762689915725, 1.1150067417632268, 1.1086434178780553, 1.1021971113587676, 1.095678607926256, 1.089098651597705, 1.0824679314289776, 1.0757970684177267, 1.069096602583416, 1.062376980240123, 1.055648541477669, 1.0489215078662808, 1.042205970399622, 1.0355118776906513, 1.028849024434359, 1.0222270401510258, 1.0156553782231998, 1.0091433052391496, 1.0026998906550748, 0.9963339967878825, 0.990054269149836, 0.9838691271358796, 0.9777867550739183, 0.9718150936478012, 0.9659618317022101, 0.9602343984381054, 0.9546399560068122, 0.9491853925102611, 0.9438773154143169, 0.9387220453815386, 0.9337256105291255, 0.9288937411171988, 0.9242318646719702, 0.9197451015477378, 0.9154382609310413, 0.911315837289695, 0.9073820072688058, 0.9036406270352654, 0.9000952300715984, 0.8967490254194301, 0.8936048963722328, 0.8906653996163995, 0.8879327648190924, 0.8854088946607157, 0.8830953653092674, 0.8809934273332413, 0.8791040070491674, 0.8774277082993112, 0.8759648146544845, 0.8747152920363719, 0.8736787917532282, 0.8728546539422741, 0.8722419114115918, 0.8718392938738146, 0.8716452325634098, 0.8716578652288668, 0.8718750414906395, 0.8722943285552301, 0.872913017275371, 0.8737281285458295, 0.8747364200239613, 0.8759343931637423, 0.8773183005516383, 0.8788841535323174, 0.8806277301118728, 0.8825445831259033, 0.8846300486595038, 0.8868792547059328, 0.8892871300504696, 0.8918484133657272, 0.8945576625044716, 0.8974092639757951, 0.9003974425903143, 0.9035162712599022, 0.9067596809373294, 0.9101214706810699, 0.9135953178304334, 0.9171747882761099, 0.9208533468111625, 0.9246243675474664, 0.9284811443825887, 0.9324169015021065, 0.9364248039023978, 0.940497967918986, 0.9446294717455983, 0.9488123659291832, 0.9530396838262533, 0.9573044520060476, 0.9615997005861633, 0.9659184734864784, 0.9702538385873802, 0.9745988977785215, 0.9789467968845602, 0.983290735454581, 0.9876239764021637, 0.991939855483346, 0.9962317906000239, 1.000493290916652, 1.0047179657784298, 1.0088995334195139, 1.0130318294501481, 1.017108815111982, 1.0211245852912372, 1.0250733762797757, 1.0289495732745428, 1.0327477176062791, 1.0364625136888297, 1.0400888356808253, 1.04362173385197, 1.0470564406466212, 1.0503883764378357, 1.0536131549655217, 1.0567265884528336, 1.059724692395428, 1.0626036900187088, 1.0653600163986812, 1.0679903222425489, 1.070491477325691, 1.0728605735821735, 1.075094927846457, 1.0771920842444833, 1.0791498162328312, 1.0809661282851522, 1.0826392572256027, 1.0841676732095062, 1.0855500803519806, 1.0867854170057758, 1.08787285569006, 1.0888118026723983, 1.0896018972066408, 1.090243010429942, 1.0907352439225875, 1.0910789279347886, 1.09127461928506, 1.091323098935246, 1.091225369247705, 1.0909826509305949, 1.090596379677621, 1.0900682025090183, 1.089399973820942, 1.088593751150821, 1.0876517906666077, 1.0865765423882117, 1.0853706451497567, 1.08403692131163, 1.0825783712316093, 1.080998167504656, 1.0792996489812536, 1.077486314574436, 1.0755618168659102, 1.0735299555219127, 1.0713946705296673, 1.0691600352655102, 1.0668302494059427, 1.0644096316930376, 1.0619026125657836, 1.0593137266690853, 1.056647605252252, 1.0539089684689167, 1.051102617590398, 1.0482334271445914, 1.0453063369925188, 1.0423263443546897, 1.0392984957994487, 1.0362278792054609, 1.0331196157104772, 1.0299788516584683, 1.0268107505571575, 1.0236204850579085, 1.0204132289698227, 1.0171941493197967, 1.0139683984701513, 1.0107411063053098, 1.0075173724988304, 1.0043022588719306, 1.001100781854437, 0.9979179050589003, 0.9947585319783738, 0.9916274988181356, 0.9885295674713677, 0.9854694186485475, 0.9824516451700283, 0.9794807454309914, 0.9765611170476529, 0.9736970506932888, 0.9708927241323203, 0.968152196460361, 0.9654794025577821, 0.962878147763994, 0.9603521027792787, 0.9579047988006313, 0.9555396228976876, 0.9532598136344275, 0.9510684569419439, 0.9489684822471691, 0.9469626588620402, 0.9450535926371755, 0.9432437228837147, 0.9415353195665593, 0.9399304807718231, 0.9384311304508808, 0.9370390164429758, 0.9357557087779176, 0.9345825982599754, 0.9335208953336458, 0.9325716292315427, 0.9317356474042379, 0.9310136152314525, 0.9304060160135843, 0.9299131512421337, 0.9295351411471849, 0.9292719255196861, 0.9291232648058694, 0.92908874147076, 0.9291677616273255, 0.929359556927438, 0.9296631867104439, 0.9300775404047684, 0.9306013401776189, 0.9312331438275058, 0.9319713479139541, 0.9328141911184489, 0.9337597578303367, 0.9348059819510959, 0.9359506509100878, 0.9371914098846165, 0.9385257662168465, 0.9399510940198679, 0.9414646389649469, 0.9430635232417628, 0.94474475068321, 0.9465052120461327, 0.9483416904391653, 0.9502508668886669, 0.9522293260335758, 0.9542735619398507, 0.9563799840250341, 0.9585449230833435, 0.9607646374015925, 0.963035318956149, 0.9653530996810591, 0.9677140577974037, 0.9701142241939067, 0.972549588848781, 0.9750161072827842, 0.9775097070334494, 0.9800262941404743, 0.9825617596322789, 0.9851119860037847, 0.9876728536755278, 0.9902402474242914, 0.9928100627755291, 0.9953782123479558, 0.9979406321407952, 1.0004932877543065, 1.0030321805343518, 1.005553353631932, 1.0080528979687746, 1.010526958100255, 1.01297173796712, 1.0153835065276884, 1.0177586032624286, 1.0200934435430415, 1.0223845238584142, 1.0246284268900698, 1.0268218264299973, 1.0289614921340142, 1.031044294104103, 1.0330672072934466, 1.0350273157281915, 1.0369218165402674, 1.0387480238059135, 1.040503372184874, 1.0421854203555612, 1.0437918542418079, 1.0453204900271753, 1.0467692769531247, 1.0481362998977044, 1.0494197817317583, 1.0506180854500133, 1.051729716074762, 1.0527533223302115, 1.0536876980859327, 1.0545317835682035, 1.0552846663384021, 1.0559455820379626, 1.0565139148997738, 1.0569891980262534, 1.0573711134346904, 1.0576594918708029, 1.0578543123918127, 1.05795570172068, 1.0579639333734951, 1.057879426562358, 1.0577027448764118, 1.0574345947440331, 1.057075823679495, 1.0566274183177478, 1.0560905022412623, 1.0554663336031969, 1.0547563025514288, 1.0539619284582955, 1.0530848569611568, 1.0521268568191684, 1.0510898165919103, 1.0499757411457733, 1.0487867479942405, 1.047525063478436, 1.0461930187945296, 1.0447930458748016, 1.0433276731293626, 1.041799521055714, 1.0402112977235072, 1.0385657941420268, 1.0368658795180665, 1.0351144964120111, 1.0333146558000594, 1.0314694320506397, 1.0295819578231644, 1.0276554188973646, 1.0256930489415121, 1.0236981242279048, 1.021673958304034, 1.01962389662789, 1.0175513111758863, 1.0154595950318825, 1.0133521569657977, 1.0112324160102686, 1.0091037960437974, 1.0069697203887722, 1.0048336064327013, 1.0026988602809273, 1.000568871449004, 0.9984470076028352, 0.9963366093545558, 0.9942409851220315, 0.9921634060597152, 0.990107101068461, 0.9880752518917468, 0.9860709883055907, 0.9840973834092757, 0.9821574490238121, 0.9802541312048756, 0.9783903058767529, 0.976568774593618, 0.9747922604342367, 0.9730634040359709, 0.9713847597737131, 0.9697587920891365, 0.9681878719753931, 0.9666742736221317, 0.9652201712254379, 0.9638276359670325, 0.9624986331667735, 0.9612350196122383, 0.9600385410688587, 0.9589108299737994, 0.9578534033164678, 0.9568676607082436, 0.9559548826437144, 0.9551162289553977, 0.9543527374636186]\n"
     ]
    }
   ],
   "source": [
    "import math\n",
    "xx = np.linspace(-20, 20, num=1000)\n",
    "y = [1 - math.sin(x) / x for x in xx]\n",
    "print(y)"
   ]
  },
  {
   "cell_type": "code",
   "execution_count": 171,
   "metadata": {},
   "outputs": [
    {
     "name": "stdout",
     "output_type": "stream",
     "text": [
      "[-20.         -15.55555556 -11.11111111  -6.66666667  -2.22222222\n",
      "   2.22222222   6.66666667  11.11111111  15.55555556  20.        ]\n",
      "[0.95435274 0.99024025 1.08939997 0.94387732 0.64215097 0.64215097\n",
      " 0.94387732 1.08939997 0.99024025 0.95435274]\n"
     ]
    }
   ],
   "source": [
    "\n",
    "xx = np.linspace(-20, 20, num=10)\n",
    "\n",
    "def f(x):\n",
    "    print(x)\n",
    "    return 1 - np.sin(x) / x\n",
    "\n",
    "y = f(xx)\n",
    "print(1 - np.sin(xx) / xx)"
   ]
  },
  {
   "cell_type": "markdown",
   "metadata": {},
   "source": [
    "#matlotlib\n"
   ]
  },
  {
   "cell_type": "code",
   "execution_count": 31,
   "metadata": {},
   "outputs": [
    {
     "ename": "NameError",
     "evalue": "name 'f' is not defined",
     "output_type": "error",
     "traceback": [
      "\u001b[1;31m---------------------------------------------------------------------------\u001b[0m",
      "\u001b[1;31mNameError\u001b[0m                                 Traceback (most recent call last)",
      "\u001b[1;32m<ipython-input-31-160769cbc2e5>\u001b[0m in \u001b[0;36m<module>\u001b[1;34m\u001b[0m\n\u001b[0;32m      2\u001b[0m \u001b[1;32mimport\u001b[0m \u001b[0mscipy\u001b[0m\u001b[1;33m.\u001b[0m\u001b[0moptimize\u001b[0m \u001b[1;32mas\u001b[0m \u001b[0mopt\u001b[0m\u001b[1;33m\u001b[0m\u001b[1;33m\u001b[0m\u001b[0m\n\u001b[0;32m      3\u001b[0m \u001b[0mx0\u001b[0m \u001b[1;33m=\u001b[0m \u001b[1;36m3\u001b[0m\u001b[1;33m\u001b[0m\u001b[1;33m\u001b[0m\u001b[0m\n\u001b[1;32m----> 4\u001b[1;33m \u001b[0mxmin\u001b[0m \u001b[1;33m=\u001b[0m \u001b[0mopt\u001b[0m\u001b[1;33m.\u001b[0m\u001b[0mminimize\u001b[0m\u001b[1;33m(\u001b[0m\u001b[0mf\u001b[0m\u001b[1;33m,\u001b[0m \u001b[0mx0\u001b[0m\u001b[1;33m)\u001b[0m\u001b[1;33m.\u001b[0m\u001b[0mx\u001b[0m\u001b[1;33m\u001b[0m\u001b[1;33m\u001b[0m\u001b[0m\n\u001b[0m",
      "\u001b[1;31mNameError\u001b[0m: name 'f' is not defined"
     ]
    }
   ],
   "source": [
    "import matplotlib.pyplot as plt\n",
    "import scipy.optimize as opt\n",
    "x0 = 3\n",
    "xmin = opt.minimize(f, x0).x"
   ]
  },
  {
   "cell_type": "code",
   "execution_count": 173,
   "metadata": {},
   "outputs": [],
   "source": [
    "%matplotlib inline\n"
   ]
  },
  {
   "cell_type": "code",
   "execution_count": 176,
   "metadata": {},
   "outputs": [],
   "source": [
    "x = np.linspace(-20, 20, num=1000)\n",
    "y = 1 - np.sin(x) / x"
   ]
  },
  {
   "cell_type": "code",
   "execution_count": 190,
   "metadata": {},
   "outputs": [
    {
     "name": "stdout",
     "output_type": "stream",
     "text": [
      "3\n",
      "[-1.5538733e-08]\n"
     ]
    },
    {
     "data": {
      "image/png": "[encoded data removed]",
      "text/plain": [
       "<Figure size 360x360 with 1 Axes>"
      ]
     },
     "metadata": {
      "needs_background": "light"
     },
     "output_type": "display_data"
    }
   ],
   "source": [
    "fig, ax = plt.subplots(1,1, figsize=(5,5))\n",
    "ax.plot(x, y, 'r+', x, y**2, 'b-', x, y * 2, 'c-')\n",
    "ax.scatter(x0, f(x0), marker='o', s=300)\n",
    "ax.scatter(xmin, f(xmin), marker='v', s=300)\n",
    "fig.savefig(\"first.png\")"
   ]
  },
  {
   "cell_type": "code",
   "execution_count": 202,
   "metadata": {},
   "outputs": [
    {
     "data": {
      "text/plain": [
       "[<matplotlib.lines.Line2D at 0x244f625b8c8>]"
      ]
     },
     "execution_count": 202,
     "metadata": {},
     "output_type": "execute_result"
    },
    {
     "data": {
      "image/png": "[encoded data removed]",
      "text/plain": [
       "<Figure size 432x288 with 4 Axes>"
      ]
     },
     "metadata": {
      "needs_background": "light"
     },
     "output_type": "display_data"
    }
   ],
   "source": [
    "t = np.arange(0.0, 5.0, 0.2)\n",
    "fig, ax = plt.subplots(2,2)\n",
    "ax[0,0].plot(t,t,'r-')\n",
    "ax[0,1].scatter(t,t**2,color='b')\n",
    "ax[0,1].set_title(\"[0,1]\")\n",
    "ax[1,0].set_xlabel(\"xxx\")\n",
    "ax[0,1].set_ylabel(\"yyyy\")\n",
    "ax[1,0].plot(t,np.sin(t),'r-', lw=2)\n",
    "ax[1,1].plot(t[t>0], np.log(t[t>0]), color='black')"
   ]
  },
  {
   "cell_type": "code",
   "execution_count": null,
   "metadata": {},
   "outputs": [
    {
     "name": "stdout",
     "output_type": "stream",
     "text": [
      "\n",
      "Other 3D plots \n",
      "https://matplotlib.org/mpl_toolkits/mplot3d/api.html\n",
      "\n"
     ]
    },
    {
     "data": {
      "image/png": "[encoded data removed]",
      "text/plain": [
       "<Figure size 720x432 with 5 Axes>"
      ]
     },
     "metadata": {
      "needs_background": "light"
     },
     "output_type": "display_data"
    }
   ],
   "source": [
    "%run demo_code/0.2.plt_3dr_plot.py\n"
   ]
  },
  {
   "cell_type": "markdown",
   "metadata": {},
   "source": [
    "#Pandas\n"
   ]
  },
  {
   "cell_type": "markdown",
   "metadata": {},
   "source": [
    "# Pandas\n"
   ]
  },
  {
   "cell_type": "code",
   "execution_count": 7,
   "metadata": {},
   "outputs": [],
   "source": [
    "import pandas as pd\n",
    "import numpy as np"
   ]
  },
  {
   "cell_type": "code",
   "execution_count": 3,
   "metadata": {},
   "outputs": [
    {
     "name": "stdout",
     "output_type": "stream",
     "text": [
      "<class 'pandas.core.frame.DataFrame'> 450 141\n"
     ]
    }
   ],
   "source": [
    "path = 'data/iris.csv'\n",
    "iris = pd.read_csv(path)\n",
    "iris.head()\n",
    "print(type(iris), len(dir(iris)), len(dir(pd)))\n"
   ]
  },
  {
   "cell_type": "code",
   "execution_count": 4,
   "metadata": {},
   "outputs": [
    {
     "data": {
      "text/html": [
       "<div>\n",
       "<style scoped>\n",
       "    .dataframe tbody tr th:only-of-type {\n",
       "        vertical-align: middle;\n",
       "    }\n",
       "\n",
       "    .dataframe tbody tr th {\n",
       "        vertical-align: top;\n",
       "    }\n",
       "\n",
       "    .dataframe thead th {\n",
       "        text-align: right;\n",
       "    }\n",
       "</style>\n",
       "<table border=\"1\" class=\"dataframe\">\n",
       "  <thead>\n",
       "    <tr style=\"text-align: right;\">\n",
       "      <th></th>\n",
       "      <th>SepalLength</th>\n",
       "      <th>SepalWidth</th>\n",
       "      <th>PetalLength</th>\n",
       "      <th>PetalWidth</th>\n",
       "      <th>Name</th>\n",
       "    </tr>\n",
       "  </thead>\n",
       "  <tbody>\n",
       "    <tr>\n",
       "      <td>0</td>\n",
       "      <td>5.1</td>\n",
       "      <td>3.5</td>\n",
       "      <td>1.4</td>\n",
       "      <td>0.2</td>\n",
       "      <td>Iris-setosa</td>\n",
       "    </tr>\n",
       "    <tr>\n",
       "      <td>1</td>\n",
       "      <td>4.9</td>\n",
       "      <td>3.0</td>\n",
       "      <td>1.4</td>\n",
       "      <td>0.2</td>\n",
       "      <td>Iris-setosa</td>\n",
       "    </tr>\n",
       "    <tr>\n",
       "      <td>2</td>\n",
       "      <td>4.7</td>\n",
       "      <td>3.2</td>\n",
       "      <td>1.3</td>\n",
       "      <td>0.2</td>\n",
       "      <td>Iris-setosa</td>\n",
       "    </tr>\n",
       "    <tr>\n",
       "      <td>3</td>\n",
       "      <td>4.6</td>\n",
       "      <td>3.1</td>\n",
       "      <td>1.5</td>\n",
       "      <td>0.2</td>\n",
       "      <td>Iris-setosa</td>\n",
       "    </tr>\n",
       "    <tr>\n",
       "      <td>4</td>\n",
       "      <td>5.0</td>\n",
       "      <td>3.6</td>\n",
       "      <td>1.4</td>\n",
       "      <td>0.2</td>\n",
       "      <td>Iris-setosa</td>\n",
       "    </tr>\n",
       "  </tbody>\n",
       "</table>\n",
       "</div>"
      ],
      "text/plain": [
       "   SepalLength  SepalWidth  PetalLength  PetalWidth         Name\n",
       "0          5.1         3.5          1.4         0.2  Iris-setosa\n",
       "1          4.9         3.0          1.4         0.2  Iris-setosa\n",
       "2          4.7         3.2          1.3         0.2  Iris-setosa\n",
       "3          4.6         3.1          1.5         0.2  Iris-setosa\n",
       "4          5.0         3.6          1.4         0.2  Iris-setosa"
      ]
     },
     "execution_count": 4,
     "metadata": {},
     "output_type": "execute_result"
    }
   ],
   "source": [
    "iris.head()"
   ]
  },
  {
   "cell_type": "code",
   "execution_count": 5,
   "metadata": {},
   "outputs": [
    {
     "data": {
      "text/plain": [
       "(Index(['SepalLength', 'SepalWidth', 'PetalLength', 'PetalWidth', 'Name'], dtype='object'),\n",
       " SepalLength    float64\n",
       " SepalWidth     float64\n",
       " PetalLength    float64\n",
       " PetalWidth     float64\n",
       " Name            object\n",
       " dtype: object)"
      ]
     },
     "execution_count": 5,
     "metadata": {},
     "output_type": "execute_result"
    }
   ],
   "source": [
    "iris.columns, iris.dtypes"
   ]
  },
  {
   "cell_type": "code",
   "execution_count": 8,
   "metadata": {},
   "outputs": [
    {
     "data": {
      "text/plain": [
       "array(['Iris-setosa', 'Iris-versicolor', 'Iris-virginica'], dtype=object)"
      ]
     },
     "execution_count": 8,
     "metadata": {},
     "output_type": "execute_result"
    }
   ],
   "source": [
    "np.unique(iris.Name)"
   ]
  },
  {
   "cell_type": "code",
   "execution_count": 9,
   "metadata": {},
   "outputs": [
    {
     "data": {
      "text/plain": [
       "array(['Iris-setosa', 'Iris-versicolor', 'Iris-virginica'], dtype=object)"
      ]
     },
     "execution_count": 9,
     "metadata": {},
     "output_type": "execute_result"
    }
   ],
   "source": [
    "iris.Name.unique()"
   ]
  },
  {
   "cell_type": "code",
   "execution_count": 10,
   "metadata": {},
   "outputs": [
    {
     "data": {
      "text/plain": [
       "RangeIndex(start=0, stop=150, step=1)"
      ]
     },
     "execution_count": 10,
     "metadata": {},
     "output_type": "execute_result"
    }
   ],
   "source": [
    "iris.index"
   ]
  },
  {
   "cell_type": "code",
   "execution_count": 13,
   "metadata": {},
   "outputs": [
    {
     "data": {
      "text/html": [
       "<div>\n",
       "<style scoped>\n",
       "    .dataframe tbody tr th:only-of-type {\n",
       "        vertical-align: middle;\n",
       "    }\n",
       "\n",
       "    .dataframe tbody tr th {\n",
       "        vertical-align: top;\n",
       "    }\n",
       "\n",
       "    .dataframe thead th {\n",
       "        text-align: right;\n",
       "    }\n",
       "</style>\n",
       "<table border=\"1\" class=\"dataframe\">\n",
       "  <thead>\n",
       "    <tr style=\"text-align: right;\">\n",
       "      <th></th>\n",
       "      <th>SepalLength</th>\n",
       "      <th>PetalWidth</th>\n",
       "    </tr>\n",
       "  </thead>\n",
       "  <tbody>\n",
       "    <tr>\n",
       "      <td>0</td>\n",
       "      <td>5.1</td>\n",
       "      <td>0.2</td>\n",
       "    </tr>\n",
       "    <tr>\n",
       "      <td>1</td>\n",
       "      <td>4.9</td>\n",
       "      <td>0.2</td>\n",
       "    </tr>\n",
       "    <tr>\n",
       "      <td>2</td>\n",
       "      <td>4.7</td>\n",
       "      <td>0.2</td>\n",
       "    </tr>\n",
       "    <tr>\n",
       "      <td>3</td>\n",
       "      <td>4.6</td>\n",
       "      <td>0.2</td>\n",
       "    </tr>\n",
       "    <tr>\n",
       "      <td>4</td>\n",
       "      <td>5.0</td>\n",
       "      <td>0.2</td>\n",
       "    </tr>\n",
       "    <tr>\n",
       "      <td>...</td>\n",
       "      <td>...</td>\n",
       "      <td>...</td>\n",
       "    </tr>\n",
       "    <tr>\n",
       "      <td>145</td>\n",
       "      <td>6.7</td>\n",
       "      <td>2.3</td>\n",
       "    </tr>\n",
       "    <tr>\n",
       "      <td>146</td>\n",
       "      <td>6.3</td>\n",
       "      <td>1.9</td>\n",
       "    </tr>\n",
       "    <tr>\n",
       "      <td>147</td>\n",
       "      <td>6.5</td>\n",
       "      <td>2.0</td>\n",
       "    </tr>\n",
       "    <tr>\n",
       "      <td>148</td>\n",
       "      <td>6.2</td>\n",
       "      <td>2.3</td>\n",
       "    </tr>\n",
       "    <tr>\n",
       "      <td>149</td>\n",
       "      <td>5.9</td>\n",
       "      <td>1.8</td>\n",
       "    </tr>\n",
       "  </tbody>\n",
       "</table>\n",
       "<p>150 rows × 2 columns</p>\n",
       "</div>"
      ],
      "text/plain": [
       "     SepalLength  PetalWidth\n",
       "0            5.1         0.2\n",
       "1            4.9         0.2\n",
       "2            4.7         0.2\n",
       "3            4.6         0.2\n",
       "4            5.0         0.2\n",
       "..           ...         ...\n",
       "145          6.7         2.3\n",
       "146          6.3         1.9\n",
       "147          6.5         2.0\n",
       "148          6.2         2.3\n",
       "149          5.9         1.8\n",
       "\n",
       "[150 rows x 2 columns]"
      ]
     },
     "execution_count": 13,
     "metadata": {},
     "output_type": "execute_result"
    }
   ],
   "source": [
    "iris[['SepalLength', 'PetalWidth']]"
   ]
  },
  {
   "cell_type": "code",
   "execution_count": 14,
   "metadata": {},
   "outputs": [
    {
     "data": {
      "text/html": [
       "<div>\n",
       "<style scoped>\n",
       "    .dataframe tbody tr th:only-of-type {\n",
       "        vertical-align: middle;\n",
       "    }\n",
       "\n",
       "    .dataframe tbody tr th {\n",
       "        vertical-align: top;\n",
       "    }\n",
       "\n",
       "    .dataframe thead th {\n",
       "        text-align: right;\n",
       "    }\n",
       "</style>\n",
       "<table border=\"1\" class=\"dataframe\">\n",
       "  <thead>\n",
       "    <tr style=\"text-align: right;\">\n",
       "      <th></th>\n",
       "      <th>SepalLength</th>\n",
       "      <th>PetalWidth</th>\n",
       "    </tr>\n",
       "  </thead>\n",
       "  <tbody>\n",
       "    <tr>\n",
       "      <td>0</td>\n",
       "      <td>5.1</td>\n",
       "      <td>0.2</td>\n",
       "    </tr>\n",
       "    <tr>\n",
       "      <td>1</td>\n",
       "      <td>4.9</td>\n",
       "      <td>0.2</td>\n",
       "    </tr>\n",
       "    <tr>\n",
       "      <td>2</td>\n",
       "      <td>4.7</td>\n",
       "      <td>0.2</td>\n",
       "    </tr>\n",
       "    <tr>\n",
       "      <td>3</td>\n",
       "      <td>4.6</td>\n",
       "      <td>0.2</td>\n",
       "    </tr>\n",
       "    <tr>\n",
       "      <td>4</td>\n",
       "      <td>5.0</td>\n",
       "      <td>0.2</td>\n",
       "    </tr>\n",
       "    <tr>\n",
       "      <td>...</td>\n",
       "      <td>...</td>\n",
       "      <td>...</td>\n",
       "    </tr>\n",
       "    <tr>\n",
       "      <td>145</td>\n",
       "      <td>6.7</td>\n",
       "      <td>2.3</td>\n",
       "    </tr>\n",
       "    <tr>\n",
       "      <td>146</td>\n",
       "      <td>6.3</td>\n",
       "      <td>1.9</td>\n",
       "    </tr>\n",
       "    <tr>\n",
       "      <td>147</td>\n",
       "      <td>6.5</td>\n",
       "      <td>2.0</td>\n",
       "    </tr>\n",
       "    <tr>\n",
       "      <td>148</td>\n",
       "      <td>6.2</td>\n",
       "      <td>2.3</td>\n",
       "    </tr>\n",
       "    <tr>\n",
       "      <td>149</td>\n",
       "      <td>5.9</td>\n",
       "      <td>1.8</td>\n",
       "    </tr>\n",
       "  </tbody>\n",
       "</table>\n",
       "<p>150 rows × 2 columns</p>\n",
       "</div>"
      ],
      "text/plain": [
       "     SepalLength  PetalWidth\n",
       "0            5.1         0.2\n",
       "1            4.9         0.2\n",
       "2            4.7         0.2\n",
       "3            4.6         0.2\n",
       "4            5.0         0.2\n",
       "..           ...         ...\n",
       "145          6.7         2.3\n",
       "146          6.3         1.9\n",
       "147          6.5         2.0\n",
       "148          6.2         2.3\n",
       "149          5.9         1.8\n",
       "\n",
       "[150 rows x 2 columns]"
      ]
     },
     "execution_count": 14,
     "metadata": {},
     "output_type": "execute_result"
    }
   ],
   "source": [
    "iris.loc[:, ['SepalLength', 'PetalWidth']]"
   ]
  },
  {
   "cell_type": "code",
   "execution_count": 15,
   "metadata": {},
   "outputs": [
    {
     "data": {
      "text/html": [
       "<div>\n",
       "<style scoped>\n",
       "    .dataframe tbody tr th:only-of-type {\n",
       "        vertical-align: middle;\n",
       "    }\n",
       "\n",
       "    .dataframe tbody tr th {\n",
       "        vertical-align: top;\n",
       "    }\n",
       "\n",
       "    .dataframe thead th {\n",
       "        text-align: right;\n",
       "    }\n",
       "</style>\n",
       "<table border=\"1\" class=\"dataframe\">\n",
       "  <thead>\n",
       "    <tr style=\"text-align: right;\">\n",
       "      <th></th>\n",
       "      <th>SepalLength</th>\n",
       "      <th>PetalWidth</th>\n",
       "    </tr>\n",
       "  </thead>\n",
       "  <tbody>\n",
       "    <tr>\n",
       "      <td>0</td>\n",
       "      <td>5.1</td>\n",
       "      <td>0.2</td>\n",
       "    </tr>\n",
       "    <tr>\n",
       "      <td>1</td>\n",
       "      <td>4.9</td>\n",
       "      <td>0.2</td>\n",
       "    </tr>\n",
       "    <tr>\n",
       "      <td>2</td>\n",
       "      <td>4.7</td>\n",
       "      <td>0.2</td>\n",
       "    </tr>\n",
       "  </tbody>\n",
       "</table>\n",
       "</div>"
      ],
      "text/plain": [
       "   SepalLength  PetalWidth\n",
       "0          5.1         0.2\n",
       "1          4.9         0.2\n",
       "2          4.7         0.2"
      ]
     },
     "execution_count": 15,
     "metadata": {},
     "output_type": "execute_result"
    }
   ],
   "source": [
    "iris.loc[0:2, ['SepalLength', 'PetalWidth']]"
   ]
  },
  {
   "cell_type": "code",
   "execution_count": 16,
   "metadata": {},
   "outputs": [
    {
     "data": {
      "text/html": [
       "<div>\n",
       "<style scoped>\n",
       "    .dataframe tbody tr th:only-of-type {\n",
       "        vertical-align: middle;\n",
       "    }\n",
       "\n",
       "    .dataframe tbody tr th {\n",
       "        vertical-align: top;\n",
       "    }\n",
       "\n",
       "    .dataframe thead th {\n",
       "        text-align: right;\n",
       "    }\n",
       "</style>\n",
       "<table border=\"1\" class=\"dataframe\">\n",
       "  <thead>\n",
       "    <tr style=\"text-align: right;\">\n",
       "      <th></th>\n",
       "      <th>SepalLength</th>\n",
       "      <th>SepalWidth</th>\n",
       "      <th>PetalLength</th>\n",
       "      <th>PetalWidth</th>\n",
       "    </tr>\n",
       "  </thead>\n",
       "  <tbody>\n",
       "    <tr>\n",
       "      <td>0</td>\n",
       "      <td>5.1</td>\n",
       "      <td>3.5</td>\n",
       "      <td>1.4</td>\n",
       "      <td>0.2</td>\n",
       "    </tr>\n",
       "    <tr>\n",
       "      <td>1</td>\n",
       "      <td>4.9</td>\n",
       "      <td>3.0</td>\n",
       "      <td>1.4</td>\n",
       "      <td>0.2</td>\n",
       "    </tr>\n",
       "    <tr>\n",
       "      <td>2</td>\n",
       "      <td>4.7</td>\n",
       "      <td>3.2</td>\n",
       "      <td>1.3</td>\n",
       "      <td>0.2</td>\n",
       "    </tr>\n",
       "  </tbody>\n",
       "</table>\n",
       "</div>"
      ],
      "text/plain": [
       "   SepalLength  SepalWidth  PetalLength  PetalWidth\n",
       "0          5.1         3.5          1.4         0.2\n",
       "1          4.9         3.0          1.4         0.2\n",
       "2          4.7         3.2          1.3         0.2"
      ]
     },
     "execution_count": 16,
     "metadata": {},
     "output_type": "execute_result"
    }
   ],
   "source": [
    "iris.loc[0:2, 'SepalLength':'PetalWidth']"
   ]
  },
  {
   "cell_type": "code",
   "execution_count": 21,
   "metadata": {},
   "outputs": [
    {
     "data": {
      "text/html": [
       "<div>\n",
       "<style scoped>\n",
       "    .dataframe tbody tr th:only-of-type {\n",
       "        vertical-align: middle;\n",
       "    }\n",
       "\n",
       "    .dataframe tbody tr th {\n",
       "        vertical-align: top;\n",
       "    }\n",
       "\n",
       "    .dataframe thead th {\n",
       "        text-align: right;\n",
       "    }\n",
       "</style>\n",
       "<table border=\"1\" class=\"dataframe\">\n",
       "  <thead>\n",
       "    <tr style=\"text-align: right;\">\n",
       "      <th></th>\n",
       "      <th>SepalLength</th>\n",
       "      <th>SepalWidth</th>\n",
       "      <th>PetalLength</th>\n",
       "      <th>PetalWidth</th>\n",
       "      <th>Name</th>\n",
       "    </tr>\n",
       "  </thead>\n",
       "  <tbody>\n",
       "    <tr>\n",
       "      <td>0</td>\n",
       "      <td>5.1</td>\n",
       "      <td>3.5</td>\n",
       "      <td>1.4</td>\n",
       "      <td>0.2</td>\n",
       "      <td>Iris-setosa</td>\n",
       "    </tr>\n",
       "    <tr>\n",
       "      <td>1</td>\n",
       "      <td>4.9</td>\n",
       "      <td>3.0</td>\n",
       "      <td>1.4</td>\n",
       "      <td>0.2</td>\n",
       "      <td>Iris-setosa</td>\n",
       "    </tr>\n",
       "    <tr>\n",
       "      <td>2</td>\n",
       "      <td>4.7</td>\n",
       "      <td>3.2</td>\n",
       "      <td>1.3</td>\n",
       "      <td>0.2</td>\n",
       "      <td>Iris-setosa</td>\n",
       "    </tr>\n",
       "    <tr>\n",
       "      <td>3</td>\n",
       "      <td>4.6</td>\n",
       "      <td>3.1</td>\n",
       "      <td>1.5</td>\n",
       "      <td>0.2</td>\n",
       "      <td>Iris-setosa</td>\n",
       "    </tr>\n",
       "    <tr>\n",
       "      <td>4</td>\n",
       "      <td>5.0</td>\n",
       "      <td>3.6</td>\n",
       "      <td>1.4</td>\n",
       "      <td>0.2</td>\n",
       "      <td>Iris-setosa</td>\n",
       "    </tr>\n",
       "    <tr>\n",
       "      <td>5</td>\n",
       "      <td>5.4</td>\n",
       "      <td>3.9</td>\n",
       "      <td>1.7</td>\n",
       "      <td>0.4</td>\n",
       "      <td>Iris-setosa</td>\n",
       "    </tr>\n",
       "    <tr>\n",
       "      <td>6</td>\n",
       "      <td>4.6</td>\n",
       "      <td>3.4</td>\n",
       "      <td>1.4</td>\n",
       "      <td>0.3</td>\n",
       "      <td>Iris-setosa</td>\n",
       "    </tr>\n",
       "    <tr>\n",
       "      <td>7</td>\n",
       "      <td>5.0</td>\n",
       "      <td>3.4</td>\n",
       "      <td>1.5</td>\n",
       "      <td>0.2</td>\n",
       "      <td>Iris-setosa</td>\n",
       "    </tr>\n",
       "    <tr>\n",
       "      <td>8</td>\n",
       "      <td>4.4</td>\n",
       "      <td>2.9</td>\n",
       "      <td>1.4</td>\n",
       "      <td>0.2</td>\n",
       "      <td>Iris-setosa</td>\n",
       "    </tr>\n",
       "    <tr>\n",
       "      <td>9</td>\n",
       "      <td>4.9</td>\n",
       "      <td>3.1</td>\n",
       "      <td>1.5</td>\n",
       "      <td>0.1</td>\n",
       "      <td>Iris-setosa</td>\n",
       "    </tr>\n",
       "    <tr>\n",
       "      <td>10</td>\n",
       "      <td>5.4</td>\n",
       "      <td>3.7</td>\n",
       "      <td>1.5</td>\n",
       "      <td>0.2</td>\n",
       "      <td>Iris-setosa</td>\n",
       "    </tr>\n",
       "    <tr>\n",
       "      <td>11</td>\n",
       "      <td>4.8</td>\n",
       "      <td>3.4</td>\n",
       "      <td>1.6</td>\n",
       "      <td>0.2</td>\n",
       "      <td>Iris-setosa</td>\n",
       "    </tr>\n",
       "    <tr>\n",
       "      <td>12</td>\n",
       "      <td>4.8</td>\n",
       "      <td>3.0</td>\n",
       "      <td>1.4</td>\n",
       "      <td>0.1</td>\n",
       "      <td>Iris-setosa</td>\n",
       "    </tr>\n",
       "    <tr>\n",
       "      <td>13</td>\n",
       "      <td>4.3</td>\n",
       "      <td>3.0</td>\n",
       "      <td>1.1</td>\n",
       "      <td>0.1</td>\n",
       "      <td>Iris-setosa</td>\n",
       "    </tr>\n",
       "    <tr>\n",
       "      <td>14</td>\n",
       "      <td>5.8</td>\n",
       "      <td>4.0</td>\n",
       "      <td>1.2</td>\n",
       "      <td>0.2</td>\n",
       "      <td>Iris-setosa</td>\n",
       "    </tr>\n",
       "    <tr>\n",
       "      <td>15</td>\n",
       "      <td>5.7</td>\n",
       "      <td>4.4</td>\n",
       "      <td>1.5</td>\n",
       "      <td>0.4</td>\n",
       "      <td>Iris-setosa</td>\n",
       "    </tr>\n",
       "    <tr>\n",
       "      <td>16</td>\n",
       "      <td>5.4</td>\n",
       "      <td>3.9</td>\n",
       "      <td>1.3</td>\n",
       "      <td>0.4</td>\n",
       "      <td>Iris-setosa</td>\n",
       "    </tr>\n",
       "    <tr>\n",
       "      <td>17</td>\n",
       "      <td>5.1</td>\n",
       "      <td>3.5</td>\n",
       "      <td>1.4</td>\n",
       "      <td>0.3</td>\n",
       "      <td>Iris-setosa</td>\n",
       "    </tr>\n",
       "    <tr>\n",
       "      <td>18</td>\n",
       "      <td>5.7</td>\n",
       "      <td>3.8</td>\n",
       "      <td>1.7</td>\n",
       "      <td>0.3</td>\n",
       "      <td>Iris-setosa</td>\n",
       "    </tr>\n",
       "    <tr>\n",
       "      <td>19</td>\n",
       "      <td>5.1</td>\n",
       "      <td>3.8</td>\n",
       "      <td>1.5</td>\n",
       "      <td>0.3</td>\n",
       "      <td>Iris-setosa</td>\n",
       "    </tr>\n",
       "    <tr>\n",
       "      <td>20</td>\n",
       "      <td>5.4</td>\n",
       "      <td>3.4</td>\n",
       "      <td>1.7</td>\n",
       "      <td>0.2</td>\n",
       "      <td>Iris-setosa</td>\n",
       "    </tr>\n",
       "    <tr>\n",
       "      <td>21</td>\n",
       "      <td>5.1</td>\n",
       "      <td>3.7</td>\n",
       "      <td>1.5</td>\n",
       "      <td>0.4</td>\n",
       "      <td>Iris-setosa</td>\n",
       "    </tr>\n",
       "    <tr>\n",
       "      <td>22</td>\n",
       "      <td>4.6</td>\n",
       "      <td>3.6</td>\n",
       "      <td>1.0</td>\n",
       "      <td>0.2</td>\n",
       "      <td>Iris-setosa</td>\n",
       "    </tr>\n",
       "    <tr>\n",
       "      <td>23</td>\n",
       "      <td>5.1</td>\n",
       "      <td>3.3</td>\n",
       "      <td>1.7</td>\n",
       "      <td>0.5</td>\n",
       "      <td>Iris-setosa</td>\n",
       "    </tr>\n",
       "    <tr>\n",
       "      <td>24</td>\n",
       "      <td>4.8</td>\n",
       "      <td>3.4</td>\n",
       "      <td>1.9</td>\n",
       "      <td>0.2</td>\n",
       "      <td>Iris-setosa</td>\n",
       "    </tr>\n",
       "    <tr>\n",
       "      <td>25</td>\n",
       "      <td>5.0</td>\n",
       "      <td>3.0</td>\n",
       "      <td>1.6</td>\n",
       "      <td>0.2</td>\n",
       "      <td>Iris-setosa</td>\n",
       "    </tr>\n",
       "    <tr>\n",
       "      <td>26</td>\n",
       "      <td>5.0</td>\n",
       "      <td>3.4</td>\n",
       "      <td>1.6</td>\n",
       "      <td>0.4</td>\n",
       "      <td>Iris-setosa</td>\n",
       "    </tr>\n",
       "    <tr>\n",
       "      <td>27</td>\n",
       "      <td>5.2</td>\n",
       "      <td>3.5</td>\n",
       "      <td>1.5</td>\n",
       "      <td>0.2</td>\n",
       "      <td>Iris-setosa</td>\n",
       "    </tr>\n",
       "    <tr>\n",
       "      <td>28</td>\n",
       "      <td>5.2</td>\n",
       "      <td>3.4</td>\n",
       "      <td>1.4</td>\n",
       "      <td>0.2</td>\n",
       "      <td>Iris-setosa</td>\n",
       "    </tr>\n",
       "    <tr>\n",
       "      <td>29</td>\n",
       "      <td>4.7</td>\n",
       "      <td>3.2</td>\n",
       "      <td>1.6</td>\n",
       "      <td>0.2</td>\n",
       "      <td>Iris-setosa</td>\n",
       "    </tr>\n",
       "    <tr>\n",
       "      <td>30</td>\n",
       "      <td>4.8</td>\n",
       "      <td>3.1</td>\n",
       "      <td>1.6</td>\n",
       "      <td>0.2</td>\n",
       "      <td>Iris-setosa</td>\n",
       "    </tr>\n",
       "    <tr>\n",
       "      <td>31</td>\n",
       "      <td>5.4</td>\n",
       "      <td>3.4</td>\n",
       "      <td>1.5</td>\n",
       "      <td>0.4</td>\n",
       "      <td>Iris-setosa</td>\n",
       "    </tr>\n",
       "    <tr>\n",
       "      <td>32</td>\n",
       "      <td>5.2</td>\n",
       "      <td>4.1</td>\n",
       "      <td>1.5</td>\n",
       "      <td>0.1</td>\n",
       "      <td>Iris-setosa</td>\n",
       "    </tr>\n",
       "    <tr>\n",
       "      <td>33</td>\n",
       "      <td>5.5</td>\n",
       "      <td>4.2</td>\n",
       "      <td>1.4</td>\n",
       "      <td>0.2</td>\n",
       "      <td>Iris-setosa</td>\n",
       "    </tr>\n",
       "    <tr>\n",
       "      <td>34</td>\n",
       "      <td>4.9</td>\n",
       "      <td>3.1</td>\n",
       "      <td>1.5</td>\n",
       "      <td>0.1</td>\n",
       "      <td>Iris-setosa</td>\n",
       "    </tr>\n",
       "    <tr>\n",
       "      <td>35</td>\n",
       "      <td>5.0</td>\n",
       "      <td>3.2</td>\n",
       "      <td>1.2</td>\n",
       "      <td>0.2</td>\n",
       "      <td>Iris-setosa</td>\n",
       "    </tr>\n",
       "    <tr>\n",
       "      <td>36</td>\n",
       "      <td>5.5</td>\n",
       "      <td>3.5</td>\n",
       "      <td>1.3</td>\n",
       "      <td>0.2</td>\n",
       "      <td>Iris-setosa</td>\n",
       "    </tr>\n",
       "    <tr>\n",
       "      <td>37</td>\n",
       "      <td>4.9</td>\n",
       "      <td>3.1</td>\n",
       "      <td>1.5</td>\n",
       "      <td>0.1</td>\n",
       "      <td>Iris-setosa</td>\n",
       "    </tr>\n",
       "    <tr>\n",
       "      <td>38</td>\n",
       "      <td>4.4</td>\n",
       "      <td>3.0</td>\n",
       "      <td>1.3</td>\n",
       "      <td>0.2</td>\n",
       "      <td>Iris-setosa</td>\n",
       "    </tr>\n",
       "    <tr>\n",
       "      <td>39</td>\n",
       "      <td>5.1</td>\n",
       "      <td>3.4</td>\n",
       "      <td>1.5</td>\n",
       "      <td>0.2</td>\n",
       "      <td>Iris-setosa</td>\n",
       "    </tr>\n",
       "    <tr>\n",
       "      <td>40</td>\n",
       "      <td>5.0</td>\n",
       "      <td>3.5</td>\n",
       "      <td>1.3</td>\n",
       "      <td>0.3</td>\n",
       "      <td>Iris-setosa</td>\n",
       "    </tr>\n",
       "    <tr>\n",
       "      <td>41</td>\n",
       "      <td>4.5</td>\n",
       "      <td>2.3</td>\n",
       "      <td>1.3</td>\n",
       "      <td>0.3</td>\n",
       "      <td>Iris-setosa</td>\n",
       "    </tr>\n",
       "    <tr>\n",
       "      <td>42</td>\n",
       "      <td>4.4</td>\n",
       "      <td>3.2</td>\n",
       "      <td>1.3</td>\n",
       "      <td>0.2</td>\n",
       "      <td>Iris-setosa</td>\n",
       "    </tr>\n",
       "    <tr>\n",
       "      <td>43</td>\n",
       "      <td>5.0</td>\n",
       "      <td>3.5</td>\n",
       "      <td>1.6</td>\n",
       "      <td>0.6</td>\n",
       "      <td>Iris-setosa</td>\n",
       "    </tr>\n",
       "    <tr>\n",
       "      <td>44</td>\n",
       "      <td>5.1</td>\n",
       "      <td>3.8</td>\n",
       "      <td>1.9</td>\n",
       "      <td>0.4</td>\n",
       "      <td>Iris-setosa</td>\n",
       "    </tr>\n",
       "    <tr>\n",
       "      <td>45</td>\n",
       "      <td>4.8</td>\n",
       "      <td>3.0</td>\n",
       "      <td>1.4</td>\n",
       "      <td>0.3</td>\n",
       "      <td>Iris-setosa</td>\n",
       "    </tr>\n",
       "    <tr>\n",
       "      <td>46</td>\n",
       "      <td>5.1</td>\n",
       "      <td>3.8</td>\n",
       "      <td>1.6</td>\n",
       "      <td>0.2</td>\n",
       "      <td>Iris-setosa</td>\n",
       "    </tr>\n",
       "    <tr>\n",
       "      <td>47</td>\n",
       "      <td>4.6</td>\n",
       "      <td>3.2</td>\n",
       "      <td>1.4</td>\n",
       "      <td>0.2</td>\n",
       "      <td>Iris-setosa</td>\n",
       "    </tr>\n",
       "    <tr>\n",
       "      <td>48</td>\n",
       "      <td>5.3</td>\n",
       "      <td>3.7</td>\n",
       "      <td>1.5</td>\n",
       "      <td>0.2</td>\n",
       "      <td>Iris-setosa</td>\n",
       "    </tr>\n",
       "    <tr>\n",
       "      <td>49</td>\n",
       "      <td>5.0</td>\n",
       "      <td>3.3</td>\n",
       "      <td>1.4</td>\n",
       "      <td>0.2</td>\n",
       "      <td>Iris-setosa</td>\n",
       "    </tr>\n",
       "  </tbody>\n",
       "</table>\n",
       "</div>"
      ],
      "text/plain": [
       "    SepalLength  SepalWidth  PetalLength  PetalWidth         Name\n",
       "0           5.1         3.5          1.4         0.2  Iris-setosa\n",
       "1           4.9         3.0          1.4         0.2  Iris-setosa\n",
       "2           4.7         3.2          1.3         0.2  Iris-setosa\n",
       "3           4.6         3.1          1.5         0.2  Iris-setosa\n",
       "4           5.0         3.6          1.4         0.2  Iris-setosa\n",
       "5           5.4         3.9          1.7         0.4  Iris-setosa\n",
       "6           4.6         3.4          1.4         0.3  Iris-setosa\n",
       "7           5.0         3.4          1.5         0.2  Iris-setosa\n",
       "8           4.4         2.9          1.4         0.2  Iris-setosa\n",
       "9           4.9         3.1          1.5         0.1  Iris-setosa\n",
       "10          5.4         3.7          1.5         0.2  Iris-setosa\n",
       "11          4.8         3.4          1.6         0.2  Iris-setosa\n",
       "12          4.8         3.0          1.4         0.1  Iris-setosa\n",
       "13          4.3         3.0          1.1         0.1  Iris-setosa\n",
       "14          5.8         4.0          1.2         0.2  Iris-setosa\n",
       "15          5.7         4.4          1.5         0.4  Iris-setosa\n",
       "16          5.4         3.9          1.3         0.4  Iris-setosa\n",
       "17          5.1         3.5          1.4         0.3  Iris-setosa\n",
       "18          5.7         3.8          1.7         0.3  Iris-setosa\n",
       "19          5.1         3.8          1.5         0.3  Iris-setosa\n",
       "20          5.4         3.4          1.7         0.2  Iris-setosa\n",
       "21          5.1         3.7          1.5         0.4  Iris-setosa\n",
       "22          4.6         3.6          1.0         0.2  Iris-setosa\n",
       "23          5.1         3.3          1.7         0.5  Iris-setosa\n",
       "24          4.8         3.4          1.9         0.2  Iris-setosa\n",
       "25          5.0         3.0          1.6         0.2  Iris-setosa\n",
       "26          5.0         3.4          1.6         0.4  Iris-setosa\n",
       "27          5.2         3.5          1.5         0.2  Iris-setosa\n",
       "28          5.2         3.4          1.4         0.2  Iris-setosa\n",
       "29          4.7         3.2          1.6         0.2  Iris-setosa\n",
       "30          4.8         3.1          1.6         0.2  Iris-setosa\n",
       "31          5.4         3.4          1.5         0.4  Iris-setosa\n",
       "32          5.2         4.1          1.5         0.1  Iris-setosa\n",
       "33          5.5         4.2          1.4         0.2  Iris-setosa\n",
       "34          4.9         3.1          1.5         0.1  Iris-setosa\n",
       "35          5.0         3.2          1.2         0.2  Iris-setosa\n",
       "36          5.5         3.5          1.3         0.2  Iris-setosa\n",
       "37          4.9         3.1          1.5         0.1  Iris-setosa\n",
       "38          4.4         3.0          1.3         0.2  Iris-setosa\n",
       "39          5.1         3.4          1.5         0.2  Iris-setosa\n",
       "40          5.0         3.5          1.3         0.3  Iris-setosa\n",
       "41          4.5         2.3          1.3         0.3  Iris-setosa\n",
       "42          4.4         3.2          1.3         0.2  Iris-setosa\n",
       "43          5.0         3.5          1.6         0.6  Iris-setosa\n",
       "44          5.1         3.8          1.9         0.4  Iris-setosa\n",
       "45          4.8         3.0          1.4         0.3  Iris-setosa\n",
       "46          5.1         3.8          1.6         0.2  Iris-setosa\n",
       "47          4.6         3.2          1.4         0.2  Iris-setosa\n",
       "48          5.3         3.7          1.5         0.2  Iris-setosa\n",
       "49          5.0         3.3          1.4         0.2  Iris-setosa"
      ]
     },
     "execution_count": 21,
     "metadata": {},
     "output_type": "execute_result"
    }
   ],
   "source": [
    "iris.loc[iris.Name=='Iris-setosa', : ]"
   ]
  },
  {
   "cell_type": "code",
   "execution_count": 26,
   "metadata": {},
   "outputs": [
    {
     "data": {
      "text/plain": [
       "SepalLength    10.0\n",
       "SepalWidth      6.5\n",
       "PetalLength     2.8\n",
       "PetalWidth      0.4\n",
       "dtype: float64"
      ]
     },
     "execution_count": 26,
     "metadata": {},
     "output_type": "execute_result"
    }
   ],
   "source": [
    "iris.iloc[0:2, 0:4].apply(lambda s: np.sum(s))"
   ]
  },
  {
   "cell_type": "code",
   "execution_count": 29,
   "metadata": {},
   "outputs": [
    {
     "data": {
      "text/html": [
       "<div>\n",
       "<style scoped>\n",
       "    .dataframe tbody tr th:only-of-type {\n",
       "        vertical-align: middle;\n",
       "    }\n",
       "\n",
       "    .dataframe tbody tr th {\n",
       "        vertical-align: top;\n",
       "    }\n",
       "\n",
       "    .dataframe thead tr th {\n",
       "        text-align: left;\n",
       "    }\n",
       "\n",
       "    .dataframe thead tr:last-of-type th {\n",
       "        text-align: right;\n",
       "    }\n",
       "</style>\n",
       "<table border=\"1\" class=\"dataframe\">\n",
       "  <thead>\n",
       "    <tr>\n",
       "      <th></th>\n",
       "      <th colspan=\"2\" halign=\"left\">SepalLength</th>\n",
       "      <th colspan=\"2\" halign=\"left\">PetalLength</th>\n",
       "    </tr>\n",
       "    <tr>\n",
       "      <th></th>\n",
       "      <th>min</th>\n",
       "      <th>max</th>\n",
       "      <th>sum</th>\n",
       "      <th>max</th>\n",
       "    </tr>\n",
       "    <tr>\n",
       "      <th>Name</th>\n",
       "      <th></th>\n",
       "      <th></th>\n",
       "      <th></th>\n",
       "      <th></th>\n",
       "    </tr>\n",
       "  </thead>\n",
       "  <tbody>\n",
       "    <tr>\n",
       "      <td>Iris-setosa</td>\n",
       "      <td>4.3</td>\n",
       "      <td>5.8</td>\n",
       "      <td>73.2</td>\n",
       "      <td>1.9</td>\n",
       "    </tr>\n",
       "    <tr>\n",
       "      <td>Iris-versicolor</td>\n",
       "      <td>4.9</td>\n",
       "      <td>7.0</td>\n",
       "      <td>213.0</td>\n",
       "      <td>5.1</td>\n",
       "    </tr>\n",
       "    <tr>\n",
       "      <td>Iris-virginica</td>\n",
       "      <td>4.9</td>\n",
       "      <td>7.9</td>\n",
       "      <td>277.6</td>\n",
       "      <td>6.9</td>\n",
       "    </tr>\n",
       "  </tbody>\n",
       "</table>\n",
       "</div>"
      ],
      "text/plain": [
       "                SepalLength      PetalLength     \n",
       "                        min  max         sum  max\n",
       "Name                                             \n",
       "Iris-setosa             4.3  5.8        73.2  1.9\n",
       "Iris-versicolor         4.9  7.0       213.0  5.1\n",
       "Iris-virginica          4.9  7.9       277.6  6.9"
      ]
     },
     "execution_count": 29,
     "metadata": {},
     "output_type": "execute_result"
    }
   ],
   "source": [
    "iris.groupby('Name').agg({'SepalLength': ['min', 'max'], 'PetalLength': [np.sum, 'max']})"
   ]
  },
  {
   "cell_type": "code",
   "execution_count": 34,
   "metadata": {},
   "outputs": [
    {
     "data": {
      "text/plain": [
       "<matplotlib.axes._subplots.AxesSubplot at 0x1d9dc733a08>"
      ]
     },
     "execution_count": 34,
     "metadata": {},
     "output_type": "execute_result"
    },
    {
     "data": {
      "image/png": "[encoded data removed]",
      "text/plain": [
       "<Figure size 432x288 with 1 Axes>"
      ]
     },
     "metadata": {
      "needs_background": "light"
     },
     "output_type": "display_data"
    }
   ],
   "source": [
    "iris.iloc[:, 0:4].plot(kind='area')"
   ]
  },
  {
   "cell_type": "code",
   "execution_count": 38,
   "metadata": {},
   "outputs": [
    {
     "data": {
      "text/plain": [
       "Name\n",
       "Iris-setosa        [AxesSubplot(0.125,0.732174;0.775x0.147826), A...\n",
       "Iris-versicolor    [AxesSubplot(0.125,0.732174;0.775x0.147826), A...\n",
       "Iris-virginica     [AxesSubplot(0.125,0.732174;0.775x0.147826), A...\n",
       "dtype: object"
      ]
     },
     "execution_count": 38,
     "metadata": {},
     "output_type": "execute_result"
    },
    {
     "data": {
      "image/png": "[encoded data removed]",
      "text/plain": [
       "<Figure size 432x288 with 4 Axes>"
      ]
     },
     "metadata": {
      "needs_background": "light"
     },
     "output_type": "display_data"
    },
    {
     "data": {
      "image/png": "[encoded data removed]",
      "text/plain": [
       "<Figure size 432x288 with 4 Axes>"
      ]
     },
     "metadata": {
      "needs_background": "light"
     },
     "output_type": "display_data"
    },
    {
     "data": {
      "image/png": "[encoded data removed]",
      "text/plain": [
       "<Figure size 432x288 with 4 Axes>"
      ]
     },
     "metadata": {
      "needs_background": "light"
     },
     "output_type": "display_data"
    }
   ],
   "source": [
    "iris.iloc[:, 0:5].groupby('Name').plot(kind='line', subplots=True)"
   ]
  },
  {
   "cell_type": "code",
   "execution_count": 2,
   "metadata": {},
   "outputs": [
    {
     "ename": "TypeError",
     "evalue": "'DataFrame' object is not callable",
     "output_type": "error",
     "traceback": [
      "\u001b[1;31m---------------------------------------------------------------------------\u001b[0m",
      "\u001b[1;31mTypeError\u001b[0m                                 Traceback (most recent call last)",
      "\u001b[1;32m<ipython-input-2-babf2a20af04>\u001b[0m in \u001b[0;36m<module>\u001b[1;34m\u001b[0m\n\u001b[0;32m      1\u001b[0m \u001b[1;32mimport\u001b[0m \u001b[0mpandas\u001b[0m \u001b[1;32mas\u001b[0m \u001b[0mpd\u001b[0m\u001b[1;33m\u001b[0m\u001b[1;33m\u001b[0m\u001b[0m\n\u001b[0;32m      2\u001b[0m \u001b[0miris\u001b[0m \u001b[1;33m=\u001b[0m \u001b[0mpd\u001b[0m\u001b[1;33m.\u001b[0m\u001b[0mread_csv\u001b[0m\u001b[1;33m(\u001b[0m\u001b[1;34m'data/iris.csv'\u001b[0m\u001b[1;33m)\u001b[0m\u001b[1;33m\u001b[0m\u001b[1;33m\u001b[0m\u001b[0m\n\u001b[1;32m----> 3\u001b[1;33m \u001b[0miris\u001b[0m\u001b[1;33m(\u001b[0m\u001b[1;34m'SepalLength'\u001b[0m\u001b[1;33m,\u001b[0m\u001b[1;34m'PetalLength'\u001b[0m\u001b[1;33m)\u001b[0m\u001b[1;33m\u001b[0m\u001b[1;33m\u001b[0m\u001b[0m\n\u001b[0m",
      "\u001b[1;31mTypeError\u001b[0m: 'DataFrame' object is not callable"
     ]
    }
   ],
   "source": [
    "import pandas as pd\n",
    "iris = pd.read_csv('data/iris.csv')\n",
    "iris('SepalLength','PetalLength')"
   ]
  },
  {
   "cell_type": "code",
   "execution_count": 5,
   "metadata": {},
   "outputs": [
    {
     "name": "stdout",
     "output_type": "stream",
     "text": [
      "[1, 2, 3] [1, 2, 3, 1, 2, 3]\n"
     ]
    }
   ],
   "source": [
    "lst = [1,2,3]\n",
    "tmp = lst + lst\n",
    "print(lst, tmp)"
   ]
  },
  {
   "cell_type": "code",
   "execution_count": 6,
   "metadata": {},
   "outputs": [
    {
     "data": {
      "text/plain": [
       "78"
      ]
     },
     "execution_count": 6,
     "metadata": {},
     "output_type": "execute_result"
    }
   ],
   "source": [
    "len(dir(str))\n"
   ]
  },
  {
   "cell_type": "code",
   "execution_count": 7,
   "metadata": {},
   "outputs": [
    {
     "ename": "TypeError",
     "evalue": "'str' object does not support item assignment",
     "output_type": "error",
     "traceback": [
      "\u001b[1;31m---------------------------------------------------------------------------\u001b[0m",
      "\u001b[1;31mTypeError\u001b[0m                                 Traceback (most recent call last)",
      "\u001b[1;32m<ipython-input-7-e5ed40db8972>\u001b[0m in \u001b[0;36m<module>\u001b[1;34m\u001b[0m\n\u001b[0;32m      1\u001b[0m \u001b[0ms\u001b[0m \u001b[1;33m=\u001b[0m \u001b[1;34m\"Hello World\"\u001b[0m\u001b[1;33m\u001b[0m\u001b[1;33m\u001b[0m\u001b[0m\n\u001b[1;32m----> 2\u001b[1;33m \u001b[0ms\u001b[0m\u001b[1;33m[\u001b[0m\u001b[1;36m0\u001b[0m\u001b[1;33m]\u001b[0m \u001b[1;33m=\u001b[0m \u001b[1;34m'K'\u001b[0m\u001b[1;33m\u001b[0m\u001b[1;33m\u001b[0m\u001b[0m\n\u001b[0m",
      "\u001b[1;31mTypeError\u001b[0m: 'str' object does not support item assignment"
     ]
    }
   ],
   "source": [
    "s = \"Hello World\"\n",
    "s[0] = 'K'"
   ]
  },
  {
   "cell_type": "code",
   "execution_count": 8,
   "metadata": {},
   "outputs": [
    {
     "data": {
      "text/plain": [
       "array([ 6,  8, 10, 12, 14, 16])"
      ]
     },
     "execution_count": 8,
     "metadata": {},
     "output_type": "execute_result"
    }
   ],
   "source": [
    "import numpy as np\n",
    "import pandas as pd\n",
    "z = np.arange(12).reshape(2,6)\n",
    "z.sum(axis=0)"
   ]
  },
  {
   "cell_type": "code",
   "execution_count": 10,
   "metadata": {},
   "outputs": [
    {
     "data": {
      "text/plain": [
       "[<matplotlib.lines.Line2D at 0x201e90a7c08>]"
      ]
     },
     "execution_count": 10,
     "metadata": {},
     "output_type": "execute_result"
    },
    {
     "data": {
      "image/png": "[encoded data removed]",
      "text/plain": [
       "<Figure size 360x360 with 1 Axes>"
      ]
     },
     "metadata": {
      "needs_background": "light"
     },
     "output_type": "display_data"
    }
   ],
   "source": [
    "import numpy as np\n",
    "import matplotlib.pyplot as plt\n",
    "fig, ax = plt.subplots(1, 1, figsize=(5, 5))\n",
    "f = lambda x: 1 - np.sin(x) / x\n",
    "x = np.linspace(-20., 20., 1000)\n",
    "y = f(x)\n",
    "ax.plot(x, y)"
   ]
  },
  {
   "cell_type": "code",
   "execution_count": 15,
   "metadata": {},
   "outputs": [
    {
     "data": {
      "text/html": [
       "<div>\n",
       "<style scoped>\n",
       "    .dataframe tbody tr th:only-of-type {\n",
       "        vertical-align: middle;\n",
       "    }\n",
       "\n",
       "    .dataframe tbody tr th {\n",
       "        vertical-align: top;\n",
       "    }\n",
       "\n",
       "    .dataframe thead th {\n",
       "        text-align: right;\n",
       "    }\n",
       "</style>\n",
       "<table border=\"1\" class=\"dataframe\">\n",
       "  <thead>\n",
       "    <tr style=\"text-align: right;\">\n",
       "      <th></th>\n",
       "      <th>Berri1</th>\n",
       "      <th>CSC</th>\n",
       "      <th>Mais1</th>\n",
       "      <th>Mais2</th>\n",
       "      <th>Parc</th>\n",
       "      <th>PierDup</th>\n",
       "      <th>Rachel1</th>\n",
       "      <th>Totem_Laurier</th>\n",
       "    </tr>\n",
       "  </thead>\n",
       "  <tbody>\n",
       "    <tr>\n",
       "      <th>count</th>\n",
       "      <td>261.000000</td>\n",
       "      <td>261.000000</td>\n",
       "      <td>261.000000</td>\n",
       "      <td>261.000000</td>\n",
       "      <td>261.000000</td>\n",
       "      <td>261.000000</td>\n",
       "      <td>261.000000</td>\n",
       "      <td>261.000000</td>\n",
       "    </tr>\n",
       "    <tr>\n",
       "      <th>mean</th>\n",
       "      <td>2743.390805</td>\n",
       "      <td>1221.858238</td>\n",
       "      <td>1757.590038</td>\n",
       "      <td>3224.130268</td>\n",
       "      <td>1669.425287</td>\n",
       "      <td>1152.885057</td>\n",
       "      <td>3084.425287</td>\n",
       "      <td>1858.793103</td>\n",
       "    </tr>\n",
       "    <tr>\n",
       "      <th>std</th>\n",
       "      <td>2247.957848</td>\n",
       "      <td>1070.037364</td>\n",
       "      <td>1458.793882</td>\n",
       "      <td>2589.514354</td>\n",
       "      <td>1363.738862</td>\n",
       "      <td>1208.848429</td>\n",
       "      <td>2380.255540</td>\n",
       "      <td>1434.899574</td>\n",
       "    </tr>\n",
       "    <tr>\n",
       "      <th>min</th>\n",
       "      <td>0.000000</td>\n",
       "      <td>0.000000</td>\n",
       "      <td>1.000000</td>\n",
       "      <td>0.000000</td>\n",
       "      <td>6.000000</td>\n",
       "      <td>0.000000</td>\n",
       "      <td>0.000000</td>\n",
       "      <td>0.000000</td>\n",
       "    </tr>\n",
       "    <tr>\n",
       "      <th>25%</th>\n",
       "      <td>392.000000</td>\n",
       "      <td>12.000000</td>\n",
       "      <td>236.000000</td>\n",
       "      <td>516.000000</td>\n",
       "      <td>222.000000</td>\n",
       "      <td>12.000000</td>\n",
       "      <td>451.000000</td>\n",
       "      <td>340.000000</td>\n",
       "    </tr>\n",
       "    <tr>\n",
       "      <th>50%</th>\n",
       "      <td>2771.000000</td>\n",
       "      <td>1184.000000</td>\n",
       "      <td>1706.000000</td>\n",
       "      <td>3178.000000</td>\n",
       "      <td>1584.000000</td>\n",
       "      <td>818.000000</td>\n",
       "      <td>3111.000000</td>\n",
       "      <td>2087.000000</td>\n",
       "    </tr>\n",
       "    <tr>\n",
       "      <th>75%</th>\n",
       "      <td>4767.000000</td>\n",
       "      <td>2168.000000</td>\n",
       "      <td>3158.000000</td>\n",
       "      <td>5812.000000</td>\n",
       "      <td>3068.000000</td>\n",
       "      <td>2104.000000</td>\n",
       "      <td>5338.000000</td>\n",
       "      <td>3168.000000</td>\n",
       "    </tr>\n",
       "    <tr>\n",
       "      <th>max</th>\n",
       "      <td>6803.000000</td>\n",
       "      <td>3330.000000</td>\n",
       "      <td>4716.000000</td>\n",
       "      <td>7684.000000</td>\n",
       "      <td>4103.000000</td>\n",
       "      <td>4841.000000</td>\n",
       "      <td>8555.000000</td>\n",
       "      <td>4293.000000</td>\n",
       "    </tr>\n",
       "  </tbody>\n",
       "</table>\n",
       "</div>"
      ],
      "text/plain": [
       "            Berri1          CSC        Mais1        Mais2         Parc  \\\n",
       "count   261.000000   261.000000   261.000000   261.000000   261.000000   \n",
       "mean   2743.390805  1221.858238  1757.590038  3224.130268  1669.425287   \n",
       "std    2247.957848  1070.037364  1458.793882  2589.514354  1363.738862   \n",
       "min       0.000000     0.000000     1.000000     0.000000     6.000000   \n",
       "25%     392.000000    12.000000   236.000000   516.000000   222.000000   \n",
       "50%    2771.000000  1184.000000  1706.000000  3178.000000  1584.000000   \n",
       "75%    4767.000000  2168.000000  3158.000000  5812.000000  3068.000000   \n",
       "max    6803.000000  3330.000000  4716.000000  7684.000000  4103.000000   \n",
       "\n",
       "           PierDup      Rachel1  Totem_Laurier  \n",
       "count   261.000000   261.000000     261.000000  \n",
       "mean   1152.885057  3084.425287    1858.793103  \n",
       "std    1208.848429  2380.255540    1434.899574  \n",
       "min       0.000000     0.000000       0.000000  \n",
       "25%      12.000000   451.000000     340.000000  \n",
       "50%     818.000000  3111.000000    2087.000000  \n",
       "75%    2104.000000  5338.000000    3168.000000  \n",
       "max    4841.000000  8555.000000    4293.000000  "
      ]
     },
     "execution_count": 15,
     "metadata": {},
     "output_type": "execute_result"
    }
   ],
   "source": [
    "import pandas as pd\n",
    "url = \"https://raw.githubusercontent.com/ndas1971/Misc/master/bikes.csv\"\n",
    "df = pd.read_csv(url, index_col='Date', parse_dates=True, dayfirst=True)\n",
    "df.describe()"
   ]
  },
  {
   "cell_type": "code",
   "execution_count": 14,
   "metadata": {},
   "outputs": [
    {
     "ename": "AttributeError",
     "evalue": "'DataFrame' object has no attribute 'stat'",
     "output_type": "error",
     "traceback": [
      "\u001b[1;31m---------------------------------------------------------------------------\u001b[0m",
      "\u001b[1;31mAttributeError\u001b[0m                            Traceback (most recent call last)",
      "\u001b[1;32m<ipython-input-14-9d0c5733bbb6>\u001b[0m in \u001b[0;36m<module>\u001b[1;34m\u001b[0m\n\u001b[1;32m----> 1\u001b[1;33m \u001b[0mdf\u001b[0m\u001b[1;33m.\u001b[0m\u001b[0mstat\u001b[0m\u001b[1;33m.\u001b[0m\u001b[0msummary\u001b[0m\u001b[1;33m(\u001b[0m\u001b[1;33m)\u001b[0m\u001b[1;33m\u001b[0m\u001b[1;33m\u001b[0m\u001b[0m\n\u001b[0m",
      "\u001b[1;32mD:\\training\\Anaconda3\\envs\\aiml\\lib\\site-packages\\pandas\\core\\generic.py\u001b[0m in \u001b[0;36m__getattr__\u001b[1;34m(self, name)\u001b[0m\n\u001b[0;32m   5128\u001b[0m             \u001b[1;32mif\u001b[0m \u001b[0mself\u001b[0m\u001b[1;33m.\u001b[0m\u001b[0m_info_axis\u001b[0m\u001b[1;33m.\u001b[0m\u001b[0m_can_hold_identifiers_and_holds_name\u001b[0m\u001b[1;33m(\u001b[0m\u001b[0mname\u001b[0m\u001b[1;33m)\u001b[0m\u001b[1;33m:\u001b[0m\u001b[1;33m\u001b[0m\u001b[1;33m\u001b[0m\u001b[0m\n\u001b[0;32m   5129\u001b[0m                 \u001b[1;32mreturn\u001b[0m \u001b[0mself\u001b[0m\u001b[1;33m[\u001b[0m\u001b[0mname\u001b[0m\u001b[1;33m]\u001b[0m\u001b[1;33m\u001b[0m\u001b[1;33m\u001b[0m\u001b[0m\n\u001b[1;32m-> 5130\u001b[1;33m             \u001b[1;32mreturn\u001b[0m \u001b[0mobject\u001b[0m\u001b[1;33m.\u001b[0m\u001b[0m__getattribute__\u001b[0m\u001b[1;33m(\u001b[0m\u001b[0mself\u001b[0m\u001b[1;33m,\u001b[0m \u001b[0mname\u001b[0m\u001b[1;33m)\u001b[0m\u001b[1;33m\u001b[0m\u001b[1;33m\u001b[0m\u001b[0m\n\u001b[0m\u001b[0;32m   5131\u001b[0m \u001b[1;33m\u001b[0m\u001b[0m\n\u001b[0;32m   5132\u001b[0m     \u001b[1;32mdef\u001b[0m \u001b[0m__setattr__\u001b[0m\u001b[1;33m(\u001b[0m\u001b[0mself\u001b[0m\u001b[1;33m,\u001b[0m \u001b[0mname\u001b[0m\u001b[1;33m:\u001b[0m \u001b[0mstr\u001b[0m\u001b[1;33m,\u001b[0m \u001b[0mvalue\u001b[0m\u001b[1;33m)\u001b[0m \u001b[1;33m->\u001b[0m \u001b[1;32mNone\u001b[0m\u001b[1;33m:\u001b[0m\u001b[1;33m\u001b[0m\u001b[1;33m\u001b[0m\u001b[0m\n",
      "\u001b[1;31mAttributeError\u001b[0m: 'DataFrame' object has no attribute 'stat'"
     ]
    }
   ],
   "source": [
    "df.stat.summary()"
   ]
  },
  {
   "cell_type": "code",
   "execution_count": 16,
   "metadata": {},
   "outputs": [
    {
     "ename": "TypeError",
     "evalue": "'DataFrame' object is not callable",
     "output_type": "error",
     "traceback": [
      "\u001b[1;31m---------------------------------------------------------------------------\u001b[0m",
      "\u001b[1;31mTypeError\u001b[0m                                 Traceback (most recent call last)",
      "\u001b[1;32m<ipython-input-16-babf2a20af04>\u001b[0m in \u001b[0;36m<module>\u001b[1;34m\u001b[0m\n\u001b[0;32m      1\u001b[0m \u001b[1;32mimport\u001b[0m \u001b[0mpandas\u001b[0m \u001b[1;32mas\u001b[0m \u001b[0mpd\u001b[0m\u001b[1;33m\u001b[0m\u001b[1;33m\u001b[0m\u001b[0m\n\u001b[0;32m      2\u001b[0m \u001b[0miris\u001b[0m \u001b[1;33m=\u001b[0m \u001b[0mpd\u001b[0m\u001b[1;33m.\u001b[0m\u001b[0mread_csv\u001b[0m\u001b[1;33m(\u001b[0m\u001b[1;34m'data/iris.csv'\u001b[0m\u001b[1;33m)\u001b[0m\u001b[1;33m\u001b[0m\u001b[1;33m\u001b[0m\u001b[0m\n\u001b[1;32m----> 3\u001b[1;33m \u001b[0miris\u001b[0m\u001b[1;33m(\u001b[0m\u001b[1;34m'SepalLength'\u001b[0m\u001b[1;33m,\u001b[0m\u001b[1;34m'PetalLength'\u001b[0m\u001b[1;33m)\u001b[0m\u001b[1;33m\u001b[0m\u001b[1;33m\u001b[0m\u001b[0m\n\u001b[0m",
      "\u001b[1;31mTypeError\u001b[0m: 'DataFrame' object is not callable"
     ]
    }
   ],
   "source": [
    "import pandas as pd\n",
    "iris = pd.read_csv('data/iris.csv')\n",
    "iris('SepalLength','PetalLength')"
   ]
  },
  {
   "cell_type": "code",
   "execution_count": 17,
   "metadata": {},
   "outputs": [
    {
     "data": {
      "text/html": [
       "<div>\n",
       "<style scoped>\n",
       "    .dataframe tbody tr th:only-of-type {\n",
       "        vertical-align: middle;\n",
       "    }\n",
       "\n",
       "    .dataframe tbody tr th {\n",
       "        vertical-align: top;\n",
       "    }\n",
       "\n",
       "    .dataframe thead th {\n",
       "        text-align: right;\n",
       "    }\n",
       "</style>\n",
       "<table border=\"1\" class=\"dataframe\">\n",
       "  <thead>\n",
       "    <tr style=\"text-align: right;\">\n",
       "      <th></th>\n",
       "      <th>SepalLength</th>\n",
       "      <th>PetalWidth</th>\n",
       "    </tr>\n",
       "  </thead>\n",
       "  <tbody>\n",
       "    <tr>\n",
       "      <th>0</th>\n",
       "      <td>5.1</td>\n",
       "      <td>0.2</td>\n",
       "    </tr>\n",
       "    <tr>\n",
       "      <th>1</th>\n",
       "      <td>4.9</td>\n",
       "      <td>0.2</td>\n",
       "    </tr>\n",
       "    <tr>\n",
       "      <th>2</th>\n",
       "      <td>4.7</td>\n",
       "      <td>0.2</td>\n",
       "    </tr>\n",
       "    <tr>\n",
       "      <th>3</th>\n",
       "      <td>4.6</td>\n",
       "      <td>0.2</td>\n",
       "    </tr>\n",
       "    <tr>\n",
       "      <th>4</th>\n",
       "      <td>5.0</td>\n",
       "      <td>0.2</td>\n",
       "    </tr>\n",
       "    <tr>\n",
       "      <th>...</th>\n",
       "      <td>...</td>\n",
       "      <td>...</td>\n",
       "    </tr>\n",
       "    <tr>\n",
       "      <th>145</th>\n",
       "      <td>6.7</td>\n",
       "      <td>2.3</td>\n",
       "    </tr>\n",
       "    <tr>\n",
       "      <th>146</th>\n",
       "      <td>6.3</td>\n",
       "      <td>1.9</td>\n",
       "    </tr>\n",
       "    <tr>\n",
       "      <th>147</th>\n",
       "      <td>6.5</td>\n",
       "      <td>2.0</td>\n",
       "    </tr>\n",
       "    <tr>\n",
       "      <th>148</th>\n",
       "      <td>6.2</td>\n",
       "      <td>2.3</td>\n",
       "    </tr>\n",
       "    <tr>\n",
       "      <th>149</th>\n",
       "      <td>5.9</td>\n",
       "      <td>1.8</td>\n",
       "    </tr>\n",
       "  </tbody>\n",
       "</table>\n",
       "<p>150 rows × 2 columns</p>\n",
       "</div>"
      ],
      "text/plain": [
       "     SepalLength  PetalWidth\n",
       "0            5.1         0.2\n",
       "1            4.9         0.2\n",
       "2            4.7         0.2\n",
       "3            4.6         0.2\n",
       "4            5.0         0.2\n",
       "..           ...         ...\n",
       "145          6.7         2.3\n",
       "146          6.3         1.9\n",
       "147          6.5         2.0\n",
       "148          6.2         2.3\n",
       "149          5.9         1.8\n",
       "\n",
       "[150 rows x 2 columns]"
      ]
     },
     "execution_count": 17,
     "metadata": {},
     "output_type": "execute_result"
    }
   ],
   "source": [
    "iris[['SepalLength', 'PetalWidth']]"
   ]
  },
  {
   "cell_type": "code",
   "execution_count": null,
   "metadata": {},
   "outputs": [],
   "source": []
  }
 ],
 "metadata": {
  "kernelspec": {
   "display_name": "Python 3",
   "language": "python",
   "name": "python3"
  },
  "language_info": {
   "codemirror_mode": {
    "name": "ipython",
    "version": 3
   },
   "file_extension": ".py",
   "mimetype": "text/x-python",
   "name": "python",
   "nbconvert_exporter": "python",
   "pygments_lexer": "ipython3",
   "version": "3.7.9"
  }
 },
 "nbformat": 4,
 "nbformat_minor": 2
}
